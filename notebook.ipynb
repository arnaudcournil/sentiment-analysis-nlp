{
 "cells": [
  {
   "cell_type": "markdown",
   "id": "1a840f7d",
   "metadata": {},
   "source": [
    "# Apprentissage de vecteurs de mots pour l’analyse de sentiments"
   ]
  },
  {
   "cell_type": "markdown",
   "id": "18acfdea",
   "metadata": {},
   "source": [
    "Ce notebook explore l’article Learning Word Vectors for Sentiment Analysis (Maas et al., 2011), qui introduit une méthode de plongement lexical supervisé intégrant des informations de polarité pour améliorer la classification de sentiments."
   ]
  },
  {
   "cell_type": "markdown",
   "id": "09bc0586",
   "metadata": {},
   "source": [
    "## Imports"
   ]
  },
  {
   "cell_type": "code",
   "execution_count": null,
   "id": "5548f878",
   "metadata": {},
   "outputs": [],
   "source": [
    "import os\n",
    "import re\n",
    "import random\n",
    "\n",
    "import pandas as pd\n",
    "import numpy as np\n",
    "import pickle\n",
    "from tqdm import tqdm\n",
    "\n",
    "from scipy.special import expit\n",
    "\n",
    "from sklearn.feature_extraction.text import CountVectorizer\n",
    "from sklearn.decomposition import TruncatedSVD\n",
    "from sklearn.decomposition import LatentDirichletAllocation\n",
    "from sklearn.svm import LinearSVC\n",
    "from sklearn.metrics import accuracy_score\n",
    "from sklearn.metrics import classification_report"
   ]
  },
  {
   "cell_type": "markdown",
   "id": "5bc2a885",
   "metadata": {},
   "source": [
    "## Pré-processing"
   ]
  },
  {
   "cell_type": "code",
   "execution_count": 16,
   "id": "96ee479d",
   "metadata": {},
   "outputs": [],
   "source": [
    "base_dir = \"aclImdb\"\n",
    "train_dir = os.path.join(base_dir, \"train\")\n",
    "test_dir = os.path.join(base_dir, \"test\")\n",
    "\n",
    "def load_reviews_from_dir(directory, label):\n",
    "    data = []\n",
    "    for fname in os.listdir(directory):\n",
    "        if fname.endswith(\".txt\"):\n",
    "            with open(os.path.join(directory, fname), encoding=\"utf-8\") as f:\n",
    "                text = f.read()\n",
    "                data.append((text, label))\n",
    "    return data\n",
    "\n",
    "def load_all_data():\n",
    "    train_pos = load_reviews_from_dir(os.path.join(train_dir, \"pos\"), 1)\n",
    "    train_neg = load_reviews_from_dir(os.path.join(train_dir, \"neg\"), 0)\n",
    "    test_pos  = load_reviews_from_dir(os.path.join(test_dir,  \"pos\"), 1)\n",
    "    test_neg  = load_reviews_from_dir(os.path.join(test_dir,  \"neg\"), 0)\n",
    "    return train_pos + train_neg + test_pos + test_neg, len(train_pos) + len(train_neg), len(test_pos) + len(test_neg)\n",
    "\n",
    "raw_data, len_train, len_test = load_all_data()\n",
    "df = pd.DataFrame(raw_data, columns=[\"text\", \"label\"])\n",
    "\n",
    "def clean_text(text):\n",
    "    text = re.sub(r\"<br\\s*/?>\", \" \", text)  # remplace <br> et <br /> par un espace\n",
    "    text = re.sub(r\"\\s+\", \" \", text)        # normalise les espaces\n",
    "    return text.strip()\n",
    "\n",
    "df[\"text\"] = df[\"text\"].apply(clean_text)\n",
    "\n",
    "vectorizer = CountVectorizer(max_features=5050, token_pattern=r\"(?u)\\b\\w+\\b\")\n",
    "vectorizer.fit(df[\"text\"])\n",
    "full_vocab = vectorizer.get_feature_names_out()\n",
    "\n",
    "# --- Exclusion des 50 mots les plus fréquents comme dans l'article ---\n",
    "excluded_words = full_vocab[:50]\n",
    "vocab = full_vocab[50:]  # Top 5000 mots après exclusion des 50 premiers\n",
    "\n",
    "def filter_tokens(text, vocab_set):\n",
    "    tokens = text.split()\n",
    "    return \" \".join([tok for tok in tokens if tok in vocab_set])\n",
    "\n",
    "vocab_set = set(vocab)\n",
    "df[\"filtered_text\"] = df[\"text\"].apply(lambda x: filter_tokens(x, vocab_set))"
   ]
  },
  {
   "cell_type": "code",
   "execution_count": 18,
   "id": "b6857b5e",
   "metadata": {},
   "outputs": [
    {
     "name": "stdout",
     "output_type": "stream",
     "text": [
      "                                                text  label  \\\n",
      "0  Bromwell High is a cartoon comedy. It ran at t...      1   \n",
      "1  Homelessness (or Houselessness as George Carli...      1   \n",
      "2  Brilliant over-acting by Lesley Ann Warren. Be...      1   \n",
      "3  This is easily the most underrated film inn th...      1   \n",
      "4  This is not the typical Mel Brooks film. It wa...      1   \n",
      "5  This isn't the comedic Robin Williams, nor is ...      1   \n",
      "6  Yes its an art... to successfully make a slow ...      1   \n",
      "7  In this \"critically acclaimed psychological th...      1   \n",
      "8  THE NIGHT LISTENER (2006) **1/2 Robin Williams...      1   \n",
      "9  You know, Robin Williams, God bless him, is co...      1   \n",
      "\n",
      "                                       filtered_text  \n",
      "0  is a cartoon ran at the same time as some othe...  \n",
      "1  as has been an issue for years but never a pla...  \n",
      "2  by dramatic lady have ever and love scenes in ...  \n",
      "3  is easily the most underrated film the its doe...  \n",
      "4  is not the typical was much less slapstick tha...  \n",
      "5  the comedic nor is it the of recent thriller i...  \n",
      "6  its an to successfully make a slow paced story...  \n",
      "7  this psychological thriller based on true a wr...  \n",
      "8  gives a is it about and is the near paranoia o...  \n",
      "9  is constantly shooting himself in the foot lat...  \n"
     ]
    }
   ],
   "source": [
    "print(df.head(10))"
   ]
  },
  {
   "cell_type": "markdown",
   "id": "48b054b4",
   "metadata": {},
   "source": [
    "# Entrainement par vecteur de mots (non supervisé) - Ajustement des hyperparmètres par un algorithme génétique ave cun nombre fixe d'epochs"
   ]
  },
  {
   "cell_type": "code",
   "execution_count": 20,
   "id": "0ee25cc4",
   "metadata": {},
   "outputs": [],
   "source": [
    "def softmax_probs(theta_k, R, b):\n",
    "    logits = np.dot(theta_k, R) + b\n",
    "    logits = logits - np.max(logits)  # stabilité numérique\n",
    "    exps = np.exp(logits)\n",
    "    return exps / np.sum(exps)\n",
    "\n",
    "class Model:\n",
    "    def __init__(self, lambda_reg=0.1, nu_reg=0.1, learning_rate=0.01, beta=10):\n",
    "        self.lambda_reg = lambda_reg\n",
    "        self.nu_reg = nu_reg\n",
    "        self.learning_rate = learning_rate\n",
    "        self.beta = beta\n",
    "\n",
    "    def train(self, vocab, filtered_texts, epochs=3):\n",
    "        vectorizer = CountVectorizer(vocabulary=list(vocab))\n",
    "        X = vectorizer.fit_transform(filtered_texts)\n",
    "        X = X.toarray()  # shape: (n_docs, vocab_size)\n",
    "\n",
    "        n_docs, vocab_size = X.shape\n",
    "\n",
    "        self.R = np.random.normal(0, 0.01, size=(self.beta, vocab_size))\n",
    "        self.b = np.zeros(vocab_size)\n",
    "\n",
    "        theta = np.random.normal(0, 0.01, size=(n_docs, self.beta))\n",
    "\n",
    "        for epoch in range(epochs):\n",
    "            print(f\"Epoch {epoch+1}/{epochs}\")\n",
    "            total_log_likelihood = 0.0\n",
    "            for k in tqdm(range(n_docs)):\n",
    "                x_k = X[k]\n",
    "                if x_k.sum() == 0:\n",
    "                    continue\n",
    "                # E-step : optimiser θ_k\n",
    "                for _ in range(3):\n",
    "                    probs = softmax_probs(theta[k], self.R, self.b)\n",
    "                    grad_theta = self.R @ (x_k - probs * x_k.sum()) - self.lambda_reg * theta[k]\n",
    "                    theta[k] += self.learning_rate * grad_theta\n",
    "\n",
    "                # Log-likelihood\n",
    "                log_probs = np.dot(x_k, np.log(probs + 1e-9))\n",
    "                total_log_likelihood += log_probs\n",
    "\n",
    "            for k in range(n_docs):\n",
    "                x_k = X[k]\n",
    "                if x_k.sum() == 0:\n",
    "                    continue\n",
    "                probs = softmax_probs(theta[k], self.R, self.b)\n",
    "                err = x_k - probs * x_k.sum()\n",
    "                grad_R = np.outer(theta[k], err)\n",
    "                grad_b = err\n",
    "\n",
    "                self.R += self.learning_rate * (grad_R - self.nu_reg * self.R)\n",
    "                self.b += self.learning_rate * grad_b\n",
    "\n",
    "            avg_ll = total_log_likelihood / n_docs\n",
    "            print(f\"[Epoch {epoch+1}] Avg semantic log-likelihood: {avg_ll:.4f}\")\n",
    "        \n",
    "        self.avg_log_likelihood = avg_ll\n",
    "\n",
    "    def compute_objective(self):\n",
    "        return self.avg_log_likelihood - self.lambda_reg * np.sum(self.R**2) - self.nu_reg * np.sum(self.b**2)"
   ]
  },
  {
   "cell_type": "code",
   "execution_count": null,
   "id": "4197824c",
   "metadata": {},
   "outputs": [
    {
     "name": "stdout",
     "output_type": "stream",
     "text": [
      "Epoch 1/3\n"
     ]
    },
    {
     "name": "stderr",
     "output_type": "stream",
     "text": [
      "100%|██████████| 25000/25000 [00:35<00:00, 701.04it/s]\n"
     ]
    },
    {
     "name": "stdout",
     "output_type": "stream",
     "text": [
      "[Epoch 1] Avg semantic log-likelihood: -1324.4082\n",
      "Epoch 2/3\n"
     ]
    },
    {
     "name": "stderr",
     "output_type": "stream",
     "text": [
      "100%|██████████| 25000/25000 [00:35<00:00, 702.86it/s]\n"
     ]
    },
    {
     "name": "stdout",
     "output_type": "stream",
     "text": [
      "[Epoch 2] Avg semantic log-likelihood: -957.4842\n",
      "Epoch 3/3\n"
     ]
    },
    {
     "name": "stderr",
     "output_type": "stream",
     "text": [
      "100%|██████████| 25000/25000 [00:34<00:00, 718.04it/s]\n"
     ]
    },
    {
     "name": "stdout",
     "output_type": "stream",
     "text": [
      "[Epoch 3] Avg semantic log-likelihood: -949.2120\n",
      "Epoch 1/3\n"
     ]
    },
    {
     "name": "stderr",
     "output_type": "stream",
     "text": [
      "100%|██████████| 25000/25000 [00:34<00:00, 719.09it/s]\n"
     ]
    },
    {
     "name": "stdout",
     "output_type": "stream",
     "text": [
      "[Epoch 1] Avg semantic log-likelihood: -1324.2758\n",
      "Epoch 2/3\n"
     ]
    },
    {
     "name": "stderr",
     "output_type": "stream",
     "text": [
      "100%|██████████| 25000/25000 [00:34<00:00, 728.26it/s]\n"
     ]
    },
    {
     "name": "stdout",
     "output_type": "stream",
     "text": [
      "[Epoch 2] Avg semantic log-likelihood: -946.0647\n",
      "Epoch 3/3\n"
     ]
    },
    {
     "name": "stderr",
     "output_type": "stream",
     "text": [
      "100%|██████████| 25000/25000 [00:37<00:00, 661.98it/s]\n"
     ]
    },
    {
     "name": "stdout",
     "output_type": "stream",
     "text": [
      "[Epoch 3] Avg semantic log-likelihood: -3155.9929\n",
      "Epoch 1/3\n"
     ]
    },
    {
     "name": "stderr",
     "output_type": "stream",
     "text": [
      "100%|██████████| 25000/25000 [00:06<00:00, 4014.97it/s]\n"
     ]
    },
    {
     "name": "stdout",
     "output_type": "stream",
     "text": [
      "[Epoch 1] Avg semantic log-likelihood: -1324.3225\n",
      "Epoch 2/3\n"
     ]
    },
    {
     "name": "stderr",
     "output_type": "stream",
     "text": [
      "100%|██████████| 25000/25000 [00:06<00:00, 4124.88it/s]\n"
     ]
    },
    {
     "name": "stdout",
     "output_type": "stream",
     "text": [
      "[Epoch 2] Avg semantic log-likelihood: -2044.1404\n",
      "Epoch 3/3\n"
     ]
    },
    {
     "name": "stderr",
     "output_type": "stream",
     "text": [
      "100%|██████████| 25000/25000 [00:09<00:00, 2680.32it/s]\n"
     ]
    },
    {
     "name": "stdout",
     "output_type": "stream",
     "text": [
      "[Epoch 3] Avg semantic log-likelihood: -3187.0841\n",
      "Epoch 1/3\n"
     ]
    },
    {
     "name": "stderr",
     "output_type": "stream",
     "text": [
      "100%|██████████| 25000/25000 [00:34<00:00, 725.70it/s]\n"
     ]
    },
    {
     "name": "stdout",
     "output_type": "stream",
     "text": [
      "[Epoch 1] Avg semantic log-likelihood: -1324.3473\n",
      "Epoch 2/3\n"
     ]
    },
    {
     "name": "stderr",
     "output_type": "stream",
     "text": [
      "100%|██████████| 25000/25000 [00:34<00:00, 714.93it/s]\n"
     ]
    },
    {
     "name": "stdout",
     "output_type": "stream",
     "text": [
      "[Epoch 2] Avg semantic log-likelihood: -943.5485\n",
      "Epoch 3/3\n"
     ]
    },
    {
     "name": "stderr",
     "output_type": "stream",
     "text": [
      "100%|██████████| 25000/25000 [00:34<00:00, 720.84it/s]\n"
     ]
    },
    {
     "name": "stdout",
     "output_type": "stream",
     "text": [
      "[Epoch 3] Avg semantic log-likelihood: -2580.8963\n",
      "Epoch 1/3\n"
     ]
    },
    {
     "name": "stderr",
     "output_type": "stream",
     "text": [
      "100%|██████████| 25000/25000 [00:06<00:00, 4120.38it/s]\n"
     ]
    },
    {
     "name": "stdout",
     "output_type": "stream",
     "text": [
      "[Epoch 1] Avg semantic log-likelihood: -1324.2262\n",
      "Epoch 2/3\n"
     ]
    },
    {
     "name": "stderr",
     "output_type": "stream",
     "text": [
      "100%|██████████| 25000/25000 [00:06<00:00, 3659.43it/s]\n"
     ]
    },
    {
     "name": "stdout",
     "output_type": "stream",
     "text": [
      "[Epoch 2] Avg semantic log-likelihood: -3197.2842\n",
      "Epoch 3/3\n"
     ]
    },
    {
     "name": "stderr",
     "output_type": "stream",
     "text": [
      "100%|██████████| 25000/25000 [00:08<00:00, 2887.70it/s]\n"
     ]
    },
    {
     "name": "stdout",
     "output_type": "stream",
     "text": [
      "[Epoch 3] Avg semantic log-likelihood: -3202.9233\n",
      "Epoch 1/3\n"
     ]
    },
    {
     "name": "stderr",
     "output_type": "stream",
     "text": [
      "100%|██████████| 25000/25000 [00:09<00:00, 2675.35it/s]\n"
     ]
    },
    {
     "name": "stdout",
     "output_type": "stream",
     "text": [
      "[Epoch 1] Avg semantic log-likelihood: -1324.3318\n",
      "Epoch 2/3\n"
     ]
    },
    {
     "name": "stderr",
     "output_type": "stream",
     "text": [
      "100%|██████████| 25000/25000 [00:09<00:00, 2568.79it/s]\n"
     ]
    },
    {
     "name": "stdout",
     "output_type": "stream",
     "text": [
      "[Epoch 2] Avg semantic log-likelihood: -941.6370\n",
      "Epoch 3/3\n"
     ]
    },
    {
     "name": "stderr",
     "output_type": "stream",
     "text": [
      "100%|██████████| 25000/25000 [00:10<00:00, 2488.34it/s]\n"
     ]
    },
    {
     "name": "stdout",
     "output_type": "stream",
     "text": [
      "[Epoch 3] Avg semantic log-likelihood: -1105.3191\n",
      "Epoch 1/3\n"
     ]
    },
    {
     "name": "stderr",
     "output_type": "stream",
     "text": [
      "100%|██████████| 25000/25000 [00:11<00:00, 2130.48it/s]\n"
     ]
    },
    {
     "name": "stdout",
     "output_type": "stream",
     "text": [
      "[Epoch 1] Avg semantic log-likelihood: -1324.3032\n",
      "Epoch 2/3\n"
     ]
    },
    {
     "name": "stderr",
     "output_type": "stream",
     "text": [
      "100%|██████████| 25000/25000 [00:12<00:00, 1985.91it/s]\n"
     ]
    },
    {
     "name": "stdout",
     "output_type": "stream",
     "text": [
      "[Epoch 2] Avg semantic log-likelihood: -1381.0017\n",
      "Epoch 3/3\n"
     ]
    },
    {
     "name": "stderr",
     "output_type": "stream",
     "text": [
      "100%|██████████| 25000/25000 [00:14<00:00, 1715.17it/s]\n"
     ]
    },
    {
     "name": "stdout",
     "output_type": "stream",
     "text": [
      "[Epoch 3] Avg semantic log-likelihood: -3173.3338\n",
      "Epoch 1/3\n"
     ]
    },
    {
     "name": "stderr",
     "output_type": "stream",
     "text": [
      "100%|██████████| 25000/25000 [00:34<00:00, 718.88it/s]\n"
     ]
    },
    {
     "name": "stdout",
     "output_type": "stream",
     "text": [
      "[Epoch 1] Avg semantic log-likelihood: -1324.4068\n",
      "Epoch 2/3\n"
     ]
    },
    {
     "name": "stderr",
     "output_type": "stream",
     "text": [
      "100%|██████████| 25000/25000 [00:35<00:00, 710.22it/s]\n"
     ]
    },
    {
     "name": "stdout",
     "output_type": "stream",
     "text": [
      "[Epoch 2] Avg semantic log-likelihood: -957.4820\n",
      "Epoch 3/3\n"
     ]
    },
    {
     "name": "stderr",
     "output_type": "stream",
     "text": [
      "100%|██████████| 25000/25000 [00:35<00:00, 701.75it/s]\n"
     ]
    },
    {
     "name": "stdout",
     "output_type": "stream",
     "text": [
      "[Epoch 3] Avg semantic log-likelihood: -949.1942\n",
      "Epoch 1/3\n"
     ]
    },
    {
     "name": "stderr",
     "output_type": "stream",
     "text": [
      "100%|██████████| 25000/25000 [00:06<00:00, 4125.95it/s]\n"
     ]
    },
    {
     "name": "stdout",
     "output_type": "stream",
     "text": [
      "[Epoch 1] Avg semantic log-likelihood: -1324.4068\n",
      "Epoch 2/3\n"
     ]
    },
    {
     "name": "stderr",
     "output_type": "stream",
     "text": [
      "100%|██████████| 25000/25000 [00:06<00:00, 3992.83it/s]\n"
     ]
    },
    {
     "name": "stdout",
     "output_type": "stream",
     "text": [
      "[Epoch 2] Avg semantic log-likelihood: -943.7583\n",
      "Epoch 3/3\n"
     ]
    },
    {
     "name": "stderr",
     "output_type": "stream",
     "text": [
      "100%|██████████| 25000/25000 [00:06<00:00, 4016.37it/s]\n"
     ]
    },
    {
     "name": "stdout",
     "output_type": "stream",
     "text": [
      "[Epoch 3] Avg semantic log-likelihood: -956.7991\n",
      "Epoch 1/3\n"
     ]
    },
    {
     "name": "stderr",
     "output_type": "stream",
     "text": [
      "100%|██████████| 25000/25000 [00:34<00:00, 723.21it/s]\n"
     ]
    },
    {
     "name": "stdout",
     "output_type": "stream",
     "text": [
      "[Epoch 1] Avg semantic log-likelihood: -1324.2905\n",
      "Epoch 2/3\n"
     ]
    },
    {
     "name": "stderr",
     "output_type": "stream",
     "text": [
      "100%|██████████| 25000/25000 [00:35<00:00, 707.40it/s]\n"
     ]
    },
    {
     "name": "stdout",
     "output_type": "stream",
     "text": [
      "[Epoch 2] Avg semantic log-likelihood: -1518.6679\n",
      "Epoch 3/3\n"
     ]
    },
    {
     "name": "stderr",
     "output_type": "stream",
     "text": [
      "100%|██████████| 25000/25000 [00:40<00:00, 617.33it/s]\n"
     ]
    },
    {
     "name": "stdout",
     "output_type": "stream",
     "text": [
      "[Epoch 3] Avg semantic log-likelihood: -3212.4793\n",
      "\n",
      "Generation 1, Best score: -949.6968\n",
      "Best individual: {'beta': 100, 'lambda_reg': 0.001, 'nu_reg': 0.0001, 'learning_rate': 0.001}\n",
      "\n",
      "Epoch 1/3\n"
     ]
    },
    {
     "name": "stderr",
     "output_type": "stream",
     "text": [
      "100%|██████████| 25000/25000 [00:34<00:00, 717.39it/s]\n"
     ]
    },
    {
     "name": "stdout",
     "output_type": "stream",
     "text": [
      "[Epoch 1] Avg semantic log-likelihood: -1324.4072\n",
      "Epoch 2/3\n"
     ]
    },
    {
     "name": "stderr",
     "output_type": "stream",
     "text": [
      "100%|██████████| 25000/25000 [00:35<00:00, 712.11it/s]\n"
     ]
    },
    {
     "name": "stdout",
     "output_type": "stream",
     "text": [
      "[Epoch 2] Avg semantic log-likelihood: -957.4829\n",
      "Epoch 3/3\n"
     ]
    },
    {
     "name": "stderr",
     "output_type": "stream",
     "text": [
      "100%|██████████| 25000/25000 [00:34<00:00, 723.61it/s]\n"
     ]
    },
    {
     "name": "stdout",
     "output_type": "stream",
     "text": [
      "[Epoch 3] Avg semantic log-likelihood: -949.2040\n",
      "Epoch 1/3\n"
     ]
    },
    {
     "name": "stderr",
     "output_type": "stream",
     "text": [
      "100%|██████████| 25000/25000 [00:34<00:00, 715.21it/s]\n"
     ]
    },
    {
     "name": "stdout",
     "output_type": "stream",
     "text": [
      "[Epoch 1] Avg semantic log-likelihood: -1324.4097\n",
      "Epoch 2/3\n"
     ]
    },
    {
     "name": "stderr",
     "output_type": "stream",
     "text": [
      "100%|██████████| 25000/25000 [00:34<00:00, 715.98it/s]\n"
     ]
    },
    {
     "name": "stdout",
     "output_type": "stream",
     "text": [
      "[Epoch 2] Avg semantic log-likelihood: -957.4862\n",
      "Epoch 3/3\n"
     ]
    },
    {
     "name": "stderr",
     "output_type": "stream",
     "text": [
      "100%|██████████| 25000/25000 [00:35<00:00, 705.52it/s]\n"
     ]
    },
    {
     "name": "stdout",
     "output_type": "stream",
     "text": [
      "[Epoch 3] Avg semantic log-likelihood: -949.2273\n",
      "Epoch 1/3\n"
     ]
    },
    {
     "name": "stderr",
     "output_type": "stream",
     "text": [
      "100%|██████████| 25000/25000 [00:06<00:00, 4102.80it/s]\n"
     ]
    },
    {
     "name": "stdout",
     "output_type": "stream",
     "text": [
      "[Epoch 1] Avg semantic log-likelihood: -1324.3965\n",
      "Epoch 2/3\n"
     ]
    },
    {
     "name": "stderr",
     "output_type": "stream",
     "text": [
      "100%|██████████| 25000/25000 [00:05<00:00, 4181.37it/s]\n"
     ]
    },
    {
     "name": "stdout",
     "output_type": "stream",
     "text": [
      "[Epoch 2] Avg semantic log-likelihood: -943.6596\n",
      "Epoch 3/3\n"
     ]
    },
    {
     "name": "stderr",
     "output_type": "stream",
     "text": [
      "100%|██████████| 25000/25000 [00:06<00:00, 4125.87it/s]\n"
     ]
    },
    {
     "name": "stdout",
     "output_type": "stream",
     "text": [
      "[Epoch 3] Avg semantic log-likelihood: -956.4805\n",
      "Epoch 1/3\n"
     ]
    },
    {
     "name": "stderr",
     "output_type": "stream",
     "text": [
      "100%|██████████| 25000/25000 [00:09<00:00, 2698.19it/s]\n"
     ]
    },
    {
     "name": "stdout",
     "output_type": "stream",
     "text": [
      "[Epoch 1] Avg semantic log-likelihood: -1324.3498\n",
      "Epoch 2/3\n"
     ]
    },
    {
     "name": "stderr",
     "output_type": "stream",
     "text": [
      "100%|██████████| 25000/25000 [00:09<00:00, 2607.75it/s]\n"
     ]
    },
    {
     "name": "stdout",
     "output_type": "stream",
     "text": [
      "[Epoch 2] Avg semantic log-likelihood: -942.0147\n",
      "Epoch 3/3\n"
     ]
    },
    {
     "name": "stderr",
     "output_type": "stream",
     "text": [
      "100%|██████████| 25000/25000 [00:09<00:00, 2572.79it/s]\n"
     ]
    },
    {
     "name": "stdout",
     "output_type": "stream",
     "text": [
      "[Epoch 3] Avg semantic log-likelihood: -1279.6728\n",
      "Epoch 1/3\n"
     ]
    },
    {
     "name": "stderr",
     "output_type": "stream",
     "text": [
      "100%|██████████| 25000/25000 [00:35<00:00, 712.46it/s]\n"
     ]
    },
    {
     "name": "stdout",
     "output_type": "stream",
     "text": [
      "[Epoch 1] Avg semantic log-likelihood: -1324.3692\n",
      "Epoch 2/3\n"
     ]
    },
    {
     "name": "stderr",
     "output_type": "stream",
     "text": [
      "100%|██████████| 25000/25000 [00:36<00:00, 693.21it/s]\n"
     ]
    },
    {
     "name": "stdout",
     "output_type": "stream",
     "text": [
      "[Epoch 2] Avg semantic log-likelihood: -943.4069\n",
      "Epoch 3/3\n"
     ]
    },
    {
     "name": "stderr",
     "output_type": "stream",
     "text": [
      "100%|██████████| 25000/25000 [00:34<00:00, 724.05it/s]\n"
     ]
    },
    {
     "name": "stdout",
     "output_type": "stream",
     "text": [
      "[Epoch 3] Avg semantic log-likelihood: -2782.1899\n",
      "Epoch 1/3\n"
     ]
    },
    {
     "name": "stderr",
     "output_type": "stream",
     "text": [
      "100%|██████████| 25000/25000 [00:06<00:00, 4121.98it/s]\n"
     ]
    },
    {
     "name": "stdout",
     "output_type": "stream",
     "text": [
      "[Epoch 1] Avg semantic log-likelihood: -1324.4038\n",
      "Epoch 2/3\n"
     ]
    },
    {
     "name": "stderr",
     "output_type": "stream",
     "text": [
      "100%|██████████| 25000/25000 [00:06<00:00, 4029.77it/s]\n"
     ]
    },
    {
     "name": "stdout",
     "output_type": "stream",
     "text": [
      "[Epoch 2] Avg semantic log-likelihood: -943.6861\n",
      "Epoch 3/3\n"
     ]
    },
    {
     "name": "stderr",
     "output_type": "stream",
     "text": [
      "100%|██████████| 25000/25000 [00:06<00:00, 4131.93it/s]\n"
     ]
    },
    {
     "name": "stdout",
     "output_type": "stream",
     "text": [
      "[Epoch 3] Avg semantic log-likelihood: -956.3298\n",
      "Epoch 1/3\n"
     ]
    },
    {
     "name": "stderr",
     "output_type": "stream",
     "text": [
      "100%|██████████| 25000/25000 [00:34<00:00, 731.30it/s]\n"
     ]
    },
    {
     "name": "stdout",
     "output_type": "stream",
     "text": [
      "[Epoch 1] Avg semantic log-likelihood: -1324.4075\n",
      "Epoch 2/3\n"
     ]
    },
    {
     "name": "stderr",
     "output_type": "stream",
     "text": [
      "100%|██████████| 25000/25000 [00:35<00:00, 713.72it/s]\n"
     ]
    },
    {
     "name": "stdout",
     "output_type": "stream",
     "text": [
      "[Epoch 2] Avg semantic log-likelihood: -957.4840\n",
      "Epoch 3/3\n"
     ]
    },
    {
     "name": "stderr",
     "output_type": "stream",
     "text": [
      "100%|██████████| 25000/25000 [00:35<00:00, 712.57it/s]\n"
     ]
    },
    {
     "name": "stdout",
     "output_type": "stream",
     "text": [
      "[Epoch 3] Avg semantic log-likelihood: -949.2070\n",
      "Epoch 1/3\n"
     ]
    },
    {
     "name": "stderr",
     "output_type": "stream",
     "text": [
      "100%|██████████| 25000/25000 [00:35<00:00, 711.93it/s]\n"
     ]
    },
    {
     "name": "stdout",
     "output_type": "stream",
     "text": [
      "[Epoch 1] Avg semantic log-likelihood: -1324.3547\n",
      "Epoch 2/3\n"
     ]
    },
    {
     "name": "stderr",
     "output_type": "stream",
     "text": [
      "100%|██████████| 25000/25000 [00:35<00:00, 713.94it/s]\n"
     ]
    },
    {
     "name": "stdout",
     "output_type": "stream",
     "text": [
      "[Epoch 2] Avg semantic log-likelihood: -942.9041\n",
      "Epoch 3/3\n"
     ]
    },
    {
     "name": "stderr",
     "output_type": "stream",
     "text": [
      "100%|██████████| 25000/25000 [00:34<00:00, 719.61it/s]\n"
     ]
    },
    {
     "name": "stdout",
     "output_type": "stream",
     "text": [
      "[Epoch 3] Avg semantic log-likelihood: -1672.1687\n",
      "Epoch 1/3\n"
     ]
    },
    {
     "name": "stderr",
     "output_type": "stream",
     "text": [
      "100%|██████████| 25000/25000 [00:35<00:00, 695.04it/s]\n"
     ]
    },
    {
     "name": "stdout",
     "output_type": "stream",
     "text": [
      "[Epoch 1] Avg semantic log-likelihood: -1324.4083\n",
      "Epoch 2/3\n"
     ]
    },
    {
     "name": "stderr",
     "output_type": "stream",
     "text": [
      "100%|██████████| 25000/25000 [00:35<00:00, 710.84it/s]\n"
     ]
    },
    {
     "name": "stdout",
     "output_type": "stream",
     "text": [
      "[Epoch 2] Avg semantic log-likelihood: -957.4855\n",
      "Epoch 3/3\n"
     ]
    },
    {
     "name": "stderr",
     "output_type": "stream",
     "text": [
      "100%|██████████| 25000/25000 [00:34<00:00, 718.02it/s]\n"
     ]
    },
    {
     "name": "stdout",
     "output_type": "stream",
     "text": [
      "[Epoch 3] Avg semantic log-likelihood: -949.2189\n",
      "Epoch 1/3\n"
     ]
    },
    {
     "name": "stderr",
     "output_type": "stream",
     "text": [
      "100%|██████████| 25000/25000 [00:35<00:00, 705.63it/s]\n"
     ]
    },
    {
     "name": "stdout",
     "output_type": "stream",
     "text": [
      "[Epoch 1] Avg semantic log-likelihood: -1324.4092\n",
      "Epoch 2/3\n"
     ]
    },
    {
     "name": "stderr",
     "output_type": "stream",
     "text": [
      "100%|██████████| 25000/25000 [00:35<00:00, 695.42it/s]\n"
     ]
    },
    {
     "name": "stdout",
     "output_type": "stream",
     "text": [
      "[Epoch 2] Avg semantic log-likelihood: -957.4844\n",
      "Epoch 3/3\n"
     ]
    },
    {
     "name": "stderr",
     "output_type": "stream",
     "text": [
      "100%|██████████| 25000/25000 [00:34<00:00, 721.92it/s]\n"
     ]
    },
    {
     "name": "stdout",
     "output_type": "stream",
     "text": [
      "[Epoch 3] Avg semantic log-likelihood: -949.2112\n",
      "\n",
      "Generation 2, Best score: -949.6620\n",
      "Best individual: {'beta': 100, 'lambda_reg': 0.0001, 'nu_reg': 0.0001, 'learning_rate': 0.001}\n",
      "\n",
      "Epoch 1/3\n"
     ]
    },
    {
     "name": "stderr",
     "output_type": "stream",
     "text": [
      "100%|██████████| 25000/25000 [00:37<00:00, 668.32it/s]\n"
     ]
    },
    {
     "name": "stdout",
     "output_type": "stream",
     "text": [
      "[Epoch 1] Avg semantic log-likelihood: -1324.4073\n",
      "Epoch 2/3\n"
     ]
    },
    {
     "name": "stderr",
     "output_type": "stream",
     "text": [
      "100%|██████████| 25000/25000 [00:38<00:00, 648.92it/s]\n"
     ]
    },
    {
     "name": "stdout",
     "output_type": "stream",
     "text": [
      "[Epoch 2] Avg semantic log-likelihood: -957.4826\n",
      "Epoch 3/3\n"
     ]
    },
    {
     "name": "stderr",
     "output_type": "stream",
     "text": [
      "100%|██████████| 25000/25000 [00:36<00:00, 677.09it/s]\n"
     ]
    },
    {
     "name": "stdout",
     "output_type": "stream",
     "text": [
      "[Epoch 3] Avg semantic log-likelihood: -949.2011\n",
      "Epoch 1/3\n"
     ]
    },
    {
     "name": "stderr",
     "output_type": "stream",
     "text": [
      "100%|██████████| 25000/25000 [00:36<00:00, 676.48it/s]\n"
     ]
    },
    {
     "name": "stdout",
     "output_type": "stream",
     "text": [
      "[Epoch 1] Avg semantic log-likelihood: -1324.4093\n",
      "Epoch 2/3\n"
     ]
    },
    {
     "name": "stderr",
     "output_type": "stream",
     "text": [
      "100%|██████████| 25000/25000 [00:38<00:00, 657.05it/s]\n"
     ]
    },
    {
     "name": "stdout",
     "output_type": "stream",
     "text": [
      "[Epoch 2] Avg semantic log-likelihood: -957.4839\n",
      "Epoch 3/3\n"
     ]
    },
    {
     "name": "stderr",
     "output_type": "stream",
     "text": [
      "100%|██████████| 25000/25000 [00:36<00:00, 684.98it/s]\n"
     ]
    },
    {
     "name": "stdout",
     "output_type": "stream",
     "text": [
      "[Epoch 3] Avg semantic log-likelihood: -949.2058\n",
      "Epoch 1/3\n"
     ]
    },
    {
     "name": "stderr",
     "output_type": "stream",
     "text": [
      "100%|██████████| 25000/25000 [00:37<00:00, 668.05it/s]\n"
     ]
    },
    {
     "name": "stdout",
     "output_type": "stream",
     "text": [
      "[Epoch 1] Avg semantic log-likelihood: -1324.4071\n",
      "Epoch 2/3\n"
     ]
    },
    {
     "name": "stderr",
     "output_type": "stream",
     "text": [
      "100%|██████████| 25000/25000 [00:38<00:00, 657.07it/s]\n"
     ]
    },
    {
     "name": "stdout",
     "output_type": "stream",
     "text": [
      "[Epoch 2] Avg semantic log-likelihood: -957.4831\n",
      "Epoch 3/3\n"
     ]
    },
    {
     "name": "stderr",
     "output_type": "stream",
     "text": [
      "100%|██████████| 25000/25000 [00:37<00:00, 663.79it/s]\n"
     ]
    },
    {
     "name": "stdout",
     "output_type": "stream",
     "text": [
      "[Epoch 3] Avg semantic log-likelihood: -949.1993\n",
      "Epoch 1/3\n"
     ]
    },
    {
     "name": "stderr",
     "output_type": "stream",
     "text": [
      "100%|██████████| 25000/25000 [00:36<00:00, 682.68it/s]\n"
     ]
    },
    {
     "name": "stdout",
     "output_type": "stream",
     "text": [
      "[Epoch 1] Avg semantic log-likelihood: -1324.4087\n",
      "Epoch 2/3\n"
     ]
    },
    {
     "name": "stderr",
     "output_type": "stream",
     "text": [
      "100%|██████████| 25000/25000 [00:36<00:00, 682.52it/s]\n"
     ]
    },
    {
     "name": "stdout",
     "output_type": "stream",
     "text": [
      "[Epoch 2] Avg semantic log-likelihood: -957.4866\n",
      "Epoch 3/3\n"
     ]
    },
    {
     "name": "stderr",
     "output_type": "stream",
     "text": [
      "100%|██████████| 25000/25000 [00:38<00:00, 654.89it/s]\n"
     ]
    },
    {
     "name": "stdout",
     "output_type": "stream",
     "text": [
      "[Epoch 3] Avg semantic log-likelihood: -949.2318\n",
      "Epoch 1/3\n"
     ]
    },
    {
     "name": "stderr",
     "output_type": "stream",
     "text": [
      "100%|██████████| 25000/25000 [00:37<00:00, 657.96it/s]\n"
     ]
    },
    {
     "name": "stdout",
     "output_type": "stream",
     "text": [
      "[Epoch 1] Avg semantic log-likelihood: -1324.4082\n",
      "Epoch 2/3\n"
     ]
    },
    {
     "name": "stderr",
     "output_type": "stream",
     "text": [
      "100%|██████████| 25000/25000 [00:37<00:00, 674.08it/s]\n"
     ]
    },
    {
     "name": "stdout",
     "output_type": "stream",
     "text": [
      "[Epoch 2] Avg semantic log-likelihood: -957.4842\n",
      "Epoch 3/3\n"
     ]
    },
    {
     "name": "stderr",
     "output_type": "stream",
     "text": [
      "100%|██████████| 25000/25000 [00:39<00:00, 635.59it/s]\n"
     ]
    },
    {
     "name": "stdout",
     "output_type": "stream",
     "text": [
      "[Epoch 3] Avg semantic log-likelihood: -949.2124\n",
      "Epoch 1/3\n"
     ]
    },
    {
     "name": "stderr",
     "output_type": "stream",
     "text": [
      "100%|██████████| 25000/25000 [00:38<00:00, 644.87it/s]\n"
     ]
    },
    {
     "name": "stdout",
     "output_type": "stream",
     "text": [
      "[Epoch 1] Avg semantic log-likelihood: -1324.4094\n",
      "Epoch 2/3\n"
     ]
    },
    {
     "name": "stderr",
     "output_type": "stream",
     "text": [
      "100%|██████████| 25000/25000 [00:37<00:00, 672.82it/s]\n"
     ]
    },
    {
     "name": "stdout",
     "output_type": "stream",
     "text": [
      "[Epoch 2] Avg semantic log-likelihood: -957.4847\n",
      "Epoch 3/3\n"
     ]
    },
    {
     "name": "stderr",
     "output_type": "stream",
     "text": [
      "100%|██████████| 25000/25000 [00:37<00:00, 658.59it/s]\n"
     ]
    },
    {
     "name": "stdout",
     "output_type": "stream",
     "text": [
      "[Epoch 3] Avg semantic log-likelihood: -949.2156\n",
      "Epoch 1/3\n"
     ]
    },
    {
     "name": "stderr",
     "output_type": "stream",
     "text": [
      "100%|██████████| 25000/25000 [00:36<00:00, 681.26it/s]\n"
     ]
    },
    {
     "name": "stdout",
     "output_type": "stream",
     "text": [
      "[Epoch 1] Avg semantic log-likelihood: -1324.4056\n",
      "Epoch 2/3\n"
     ]
    },
    {
     "name": "stderr",
     "output_type": "stream",
     "text": [
      "100%|██████████| 25000/25000 [00:37<00:00, 666.11it/s]\n"
     ]
    },
    {
     "name": "stdout",
     "output_type": "stream",
     "text": [
      "[Epoch 2] Avg semantic log-likelihood: -957.4832\n",
      "Epoch 3/3\n"
     ]
    },
    {
     "name": "stderr",
     "output_type": "stream",
     "text": [
      "100%|██████████| 25000/25000 [00:36<00:00, 680.45it/s]\n"
     ]
    },
    {
     "name": "stdout",
     "output_type": "stream",
     "text": [
      "[Epoch 3] Avg semantic log-likelihood: -949.2079\n",
      "Epoch 1/3\n"
     ]
    },
    {
     "name": "stderr",
     "output_type": "stream",
     "text": [
      "100%|██████████| 25000/25000 [00:37<00:00, 665.09it/s]\n"
     ]
    },
    {
     "name": "stdout",
     "output_type": "stream",
     "text": [
      "[Epoch 1] Avg semantic log-likelihood: -1324.4047\n",
      "Epoch 2/3\n"
     ]
    },
    {
     "name": "stderr",
     "output_type": "stream",
     "text": [
      "100%|██████████| 25000/25000 [00:37<00:00, 674.10it/s]\n"
     ]
    },
    {
     "name": "stdout",
     "output_type": "stream",
     "text": [
      "[Epoch 2] Avg semantic log-likelihood: -957.4817\n",
      "Epoch 3/3\n"
     ]
    },
    {
     "name": "stderr",
     "output_type": "stream",
     "text": [
      "100%|██████████| 25000/25000 [00:36<00:00, 685.65it/s]\n"
     ]
    },
    {
     "name": "stdout",
     "output_type": "stream",
     "text": [
      "[Epoch 3] Avg semantic log-likelihood: -949.1923\n",
      "Epoch 1/3\n"
     ]
    },
    {
     "name": "stderr",
     "output_type": "stream",
     "text": [
      "100%|██████████| 25000/25000 [00:37<00:00, 658.46it/s]\n"
     ]
    },
    {
     "name": "stdout",
     "output_type": "stream",
     "text": [
      "[Epoch 1] Avg semantic log-likelihood: -1324.4079\n",
      "Epoch 2/3\n"
     ]
    },
    {
     "name": "stderr",
     "output_type": "stream",
     "text": [
      "100%|██████████| 25000/25000 [00:36<00:00, 686.65it/s]\n"
     ]
    },
    {
     "name": "stdout",
     "output_type": "stream",
     "text": [
      "[Epoch 2] Avg semantic log-likelihood: -957.4835\n",
      "Epoch 3/3\n"
     ]
    },
    {
     "name": "stderr",
     "output_type": "stream",
     "text": [
      "100%|██████████| 25000/25000 [00:35<00:00, 695.42it/s]\n"
     ]
    },
    {
     "name": "stdout",
     "output_type": "stream",
     "text": [
      "[Epoch 3] Avg semantic log-likelihood: -949.2025\n",
      "Epoch 1/3\n"
     ]
    },
    {
     "name": "stderr",
     "output_type": "stream",
     "text": [
      "100%|██████████| 25000/25000 [00:11<00:00, 2154.24it/s]\n"
     ]
    },
    {
     "name": "stdout",
     "output_type": "stream",
     "text": [
      "[Epoch 1] Avg semantic log-likelihood: -1324.4119\n",
      "Epoch 2/3\n"
     ]
    },
    {
     "name": "stderr",
     "output_type": "stream",
     "text": [
      "100%|██████████| 25000/25000 [00:12<00:00, 1995.37it/s]\n"
     ]
    },
    {
     "name": "stdout",
     "output_type": "stream",
     "text": [
      "[Epoch 2] Avg semantic log-likelihood: -957.4945\n",
      "Epoch 3/3\n"
     ]
    },
    {
     "name": "stderr",
     "output_type": "stream",
     "text": [
      "100%|██████████| 25000/25000 [00:13<00:00, 1911.61it/s]\n"
     ]
    },
    {
     "name": "stdout",
     "output_type": "stream",
     "text": [
      "[Epoch 3] Avg semantic log-likelihood: -949.2752\n",
      "\n",
      "Generation 3, Best score: -949.6443\n",
      "Best individual: {'beta': 100, 'lambda_reg': 0.0001, 'nu_reg': 0.0001, 'learning_rate': 0.001}\n",
      "\n",
      "Epoch 1/3\n"
     ]
    },
    {
     "name": "stderr",
     "output_type": "stream",
     "text": [
      "100%|██████████| 25000/25000 [00:37<00:00, 661.82it/s]\n"
     ]
    },
    {
     "name": "stdout",
     "output_type": "stream",
     "text": [
      "[Epoch 1] Avg semantic log-likelihood: -1324.4056\n",
      "Epoch 2/3\n"
     ]
    },
    {
     "name": "stderr",
     "output_type": "stream",
     "text": [
      "100%|██████████| 25000/25000 [00:36<00:00, 680.16it/s]\n"
     ]
    },
    {
     "name": "stdout",
     "output_type": "stream",
     "text": [
      "[Epoch 2] Avg semantic log-likelihood: -957.4800\n",
      "Epoch 3/3\n"
     ]
    },
    {
     "name": "stderr",
     "output_type": "stream",
     "text": [
      "100%|██████████| 25000/25000 [00:36<00:00, 685.61it/s]\n"
     ]
    },
    {
     "name": "stdout",
     "output_type": "stream",
     "text": [
      "[Epoch 3] Avg semantic log-likelihood: -949.1780\n",
      "Epoch 1/3\n"
     ]
    },
    {
     "name": "stderr",
     "output_type": "stream",
     "text": [
      "100%|██████████| 25000/25000 [00:36<00:00, 679.86it/s]\n"
     ]
    },
    {
     "name": "stdout",
     "output_type": "stream",
     "text": [
      "[Epoch 1] Avg semantic log-likelihood: -1324.4071\n",
      "Epoch 2/3\n"
     ]
    },
    {
     "name": "stderr",
     "output_type": "stream",
     "text": [
      "100%|██████████| 25000/25000 [00:38<00:00, 647.13it/s]\n"
     ]
    },
    {
     "name": "stdout",
     "output_type": "stream",
     "text": [
      "[Epoch 2] Avg semantic log-likelihood: -957.4821\n",
      "Epoch 3/3\n"
     ]
    },
    {
     "name": "stderr",
     "output_type": "stream",
     "text": [
      "100%|██████████| 25000/25000 [00:37<00:00, 663.01it/s]\n"
     ]
    },
    {
     "name": "stdout",
     "output_type": "stream",
     "text": [
      "[Epoch 3] Avg semantic log-likelihood: -949.1922\n",
      "Epoch 1/3\n"
     ]
    },
    {
     "name": "stderr",
     "output_type": "stream",
     "text": [
      "100%|██████████| 25000/25000 [00:36<00:00, 675.98it/s]\n"
     ]
    },
    {
     "name": "stdout",
     "output_type": "stream",
     "text": [
      "[Epoch 1] Avg semantic log-likelihood: -1324.4065\n",
      "Epoch 2/3\n"
     ]
    },
    {
     "name": "stderr",
     "output_type": "stream",
     "text": [
      "100%|██████████| 25000/25000 [00:38<00:00, 652.81it/s]\n"
     ]
    },
    {
     "name": "stdout",
     "output_type": "stream",
     "text": [
      "[Epoch 2] Avg semantic log-likelihood: -957.4811\n",
      "Epoch 3/3\n"
     ]
    },
    {
     "name": "stderr",
     "output_type": "stream",
     "text": [
      "100%|██████████| 25000/25000 [00:37<00:00, 661.14it/s]\n"
     ]
    },
    {
     "name": "stdout",
     "output_type": "stream",
     "text": [
      "[Epoch 3] Avg semantic log-likelihood: -949.1877\n",
      "Epoch 1/3\n"
     ]
    },
    {
     "name": "stderr",
     "output_type": "stream",
     "text": [
      "100%|██████████| 25000/25000 [00:37<00:00, 675.36it/s]\n"
     ]
    },
    {
     "name": "stdout",
     "output_type": "stream",
     "text": [
      "[Epoch 1] Avg semantic log-likelihood: -1324.4083\n",
      "Epoch 2/3\n"
     ]
    },
    {
     "name": "stderr",
     "output_type": "stream",
     "text": [
      "100%|██████████| 25000/25000 [00:38<00:00, 657.61it/s]\n"
     ]
    },
    {
     "name": "stdout",
     "output_type": "stream",
     "text": [
      "[Epoch 2] Avg semantic log-likelihood: -957.4825\n",
      "Epoch 3/3\n"
     ]
    },
    {
     "name": "stderr",
     "output_type": "stream",
     "text": [
      "100%|██████████| 25000/25000 [00:37<00:00, 671.50it/s]\n"
     ]
    },
    {
     "name": "stdout",
     "output_type": "stream",
     "text": [
      "[Epoch 3] Avg semantic log-likelihood: -949.1956\n",
      "Epoch 1/3\n"
     ]
    },
    {
     "name": "stderr",
     "output_type": "stream",
     "text": [
      "100%|██████████| 25000/25000 [00:38<00:00, 650.27it/s]\n"
     ]
    },
    {
     "name": "stdout",
     "output_type": "stream",
     "text": [
      "[Epoch 1] Avg semantic log-likelihood: -1324.4065\n",
      "Epoch 2/3\n"
     ]
    },
    {
     "name": "stderr",
     "output_type": "stream",
     "text": [
      "100%|██████████| 25000/25000 [00:37<00:00, 675.50it/s]\n"
     ]
    },
    {
     "name": "stdout",
     "output_type": "stream",
     "text": [
      "[Epoch 2] Avg semantic log-likelihood: -957.4813\n",
      "Epoch 3/3\n"
     ]
    },
    {
     "name": "stderr",
     "output_type": "stream",
     "text": [
      "100%|██████████| 25000/25000 [00:37<00:00, 670.03it/s]\n"
     ]
    },
    {
     "name": "stdout",
     "output_type": "stream",
     "text": [
      "[Epoch 3] Avg semantic log-likelihood: -949.1861\n",
      "Epoch 1/3\n"
     ]
    },
    {
     "name": "stderr",
     "output_type": "stream",
     "text": [
      "100%|██████████| 25000/25000 [00:37<00:00, 665.76it/s]\n"
     ]
    },
    {
     "name": "stdout",
     "output_type": "stream",
     "text": [
      "[Epoch 1] Avg semantic log-likelihood: -1324.4050\n",
      "Epoch 2/3\n"
     ]
    },
    {
     "name": "stderr",
     "output_type": "stream",
     "text": [
      "100%|██████████| 25000/25000 [00:37<00:00, 672.42it/s]\n"
     ]
    },
    {
     "name": "stdout",
     "output_type": "stream",
     "text": [
      "[Epoch 2] Avg semantic log-likelihood: -957.4801\n",
      "Epoch 3/3\n"
     ]
    },
    {
     "name": "stderr",
     "output_type": "stream",
     "text": [
      "100%|██████████| 25000/25000 [00:36<00:00, 685.92it/s]\n"
     ]
    },
    {
     "name": "stdout",
     "output_type": "stream",
     "text": [
      "[Epoch 3] Avg semantic log-likelihood: -949.1805\n",
      "Epoch 1/3\n"
     ]
    },
    {
     "name": "stderr",
     "output_type": "stream",
     "text": [
      "100%|██████████| 25000/25000 [00:36<00:00, 678.85it/s]\n"
     ]
    },
    {
     "name": "stdout",
     "output_type": "stream",
     "text": [
      "[Epoch 1] Avg semantic log-likelihood: -1324.4084\n",
      "Epoch 2/3\n"
     ]
    },
    {
     "name": "stderr",
     "output_type": "stream",
     "text": [
      "100%|██████████| 25000/25000 [00:37<00:00, 675.09it/s]\n"
     ]
    },
    {
     "name": "stdout",
     "output_type": "stream",
     "text": [
      "[Epoch 2] Avg semantic log-likelihood: -957.4844\n",
      "Epoch 3/3\n"
     ]
    },
    {
     "name": "stderr",
     "output_type": "stream",
     "text": [
      "100%|██████████| 25000/25000 [00:36<00:00, 676.49it/s]\n"
     ]
    },
    {
     "name": "stdout",
     "output_type": "stream",
     "text": [
      "[Epoch 3] Avg semantic log-likelihood: -949.2147\n",
      "Epoch 1/3\n"
     ]
    },
    {
     "name": "stderr",
     "output_type": "stream",
     "text": [
      "100%|██████████| 25000/25000 [00:41<00:00, 598.67it/s]\n"
     ]
    },
    {
     "name": "stdout",
     "output_type": "stream",
     "text": [
      "[Epoch 1] Avg semantic log-likelihood: -1324.4066\n",
      "Epoch 2/3\n"
     ]
    },
    {
     "name": "stderr",
     "output_type": "stream",
     "text": [
      "100%|██████████| 25000/25000 [00:37<00:00, 662.64it/s]\n"
     ]
    },
    {
     "name": "stdout",
     "output_type": "stream",
     "text": [
      "[Epoch 2] Avg semantic log-likelihood: -957.4835\n",
      "Epoch 3/3\n"
     ]
    },
    {
     "name": "stderr",
     "output_type": "stream",
     "text": [
      "100%|██████████| 25000/25000 [00:37<00:00, 664.49it/s]\n"
     ]
    },
    {
     "name": "stdout",
     "output_type": "stream",
     "text": [
      "[Epoch 3] Avg semantic log-likelihood: -949.2057\n",
      "Epoch 1/3\n"
     ]
    },
    {
     "name": "stderr",
     "output_type": "stream",
     "text": [
      "100%|██████████| 25000/25000 [00:38<00:00, 650.06it/s]\n"
     ]
    },
    {
     "name": "stdout",
     "output_type": "stream",
     "text": [
      "[Epoch 1] Avg semantic log-likelihood: -1324.4086\n",
      "Epoch 2/3\n"
     ]
    },
    {
     "name": "stderr",
     "output_type": "stream",
     "text": [
      "100%|██████████| 25000/25000 [00:37<00:00, 670.48it/s]\n"
     ]
    },
    {
     "name": "stdout",
     "output_type": "stream",
     "text": [
      "[Epoch 2] Avg semantic log-likelihood: -957.4861\n",
      "Epoch 3/3\n"
     ]
    },
    {
     "name": "stderr",
     "output_type": "stream",
     "text": [
      "100%|██████████| 25000/25000 [00:37<00:00, 675.12it/s]\n"
     ]
    },
    {
     "name": "stdout",
     "output_type": "stream",
     "text": [
      "[Epoch 3] Avg semantic log-likelihood: -949.2293\n",
      "Epoch 1/3\n"
     ]
    },
    {
     "name": "stderr",
     "output_type": "stream",
     "text": [
      "100%|██████████| 25000/25000 [00:36<00:00, 684.09it/s]\n"
     ]
    },
    {
     "name": "stdout",
     "output_type": "stream",
     "text": [
      "[Epoch 1] Avg semantic log-likelihood: -1324.4080\n",
      "Epoch 2/3\n"
     ]
    },
    {
     "name": "stderr",
     "output_type": "stream",
     "text": [
      "100%|██████████| 25000/25000 [00:42<00:00, 592.45it/s]\n"
     ]
    },
    {
     "name": "stdout",
     "output_type": "stream",
     "text": [
      "[Epoch 2] Avg semantic log-likelihood: -957.4835\n",
      "Epoch 3/3\n"
     ]
    },
    {
     "name": "stderr",
     "output_type": "stream",
     "text": [
      "100%|██████████| 25000/25000 [00:37<00:00, 669.97it/s]\n"
     ]
    },
    {
     "name": "stdout",
     "output_type": "stream",
     "text": [
      "[Epoch 3] Avg semantic log-likelihood: -949.2040\n",
      "\n",
      "Generation 4, Best score: -949.6214\n",
      "Best individual: {'beta': 100, 'lambda_reg': 0.0001, 'nu_reg': 0.0001, 'learning_rate': 0.001}\n",
      "\n",
      "Epoch 1/3\n"
     ]
    },
    {
     "name": "stderr",
     "output_type": "stream",
     "text": [
      "100%|██████████| 25000/25000 [00:37<00:00, 668.46it/s]\n"
     ]
    },
    {
     "name": "stdout",
     "output_type": "stream",
     "text": [
      "[Epoch 1] Avg semantic log-likelihood: -1324.4065\n",
      "Epoch 2/3\n"
     ]
    },
    {
     "name": "stderr",
     "output_type": "stream",
     "text": [
      "100%|██████████| 25000/25000 [00:37<00:00, 661.25it/s]\n"
     ]
    },
    {
     "name": "stdout",
     "output_type": "stream",
     "text": [
      "[Epoch 2] Avg semantic log-likelihood: -957.4805\n",
      "Epoch 3/3\n"
     ]
    },
    {
     "name": "stderr",
     "output_type": "stream",
     "text": [
      "100%|██████████| 25000/25000 [00:36<00:00, 678.13it/s]\n"
     ]
    },
    {
     "name": "stdout",
     "output_type": "stream",
     "text": [
      "[Epoch 3] Avg semantic log-likelihood: -949.1827\n",
      "Epoch 1/3\n"
     ]
    },
    {
     "name": "stderr",
     "output_type": "stream",
     "text": [
      "100%|██████████| 25000/25000 [00:37<00:00, 669.67it/s]\n"
     ]
    },
    {
     "name": "stdout",
     "output_type": "stream",
     "text": [
      "[Epoch 1] Avg semantic log-likelihood: -1324.4062\n",
      "Epoch 2/3\n"
     ]
    },
    {
     "name": "stderr",
     "output_type": "stream",
     "text": [
      "100%|██████████| 25000/25000 [00:37<00:00, 665.94it/s]\n"
     ]
    },
    {
     "name": "stdout",
     "output_type": "stream",
     "text": [
      "[Epoch 2] Avg semantic log-likelihood: -957.4825\n",
      "Epoch 3/3\n"
     ]
    },
    {
     "name": "stderr",
     "output_type": "stream",
     "text": [
      "100%|██████████| 25000/25000 [00:38<00:00, 655.23it/s]\n"
     ]
    },
    {
     "name": "stdout",
     "output_type": "stream",
     "text": [
      "[Epoch 3] Avg semantic log-likelihood: -949.2007\n",
      "Epoch 1/3\n"
     ]
    },
    {
     "name": "stderr",
     "output_type": "stream",
     "text": [
      "100%|██████████| 25000/25000 [00:36<00:00, 681.11it/s]\n"
     ]
    },
    {
     "name": "stdout",
     "output_type": "stream",
     "text": [
      "[Epoch 1] Avg semantic log-likelihood: -1324.4064\n",
      "Epoch 2/3\n"
     ]
    },
    {
     "name": "stderr",
     "output_type": "stream",
     "text": [
      "100%|██████████| 25000/25000 [00:37<00:00, 670.62it/s]\n"
     ]
    },
    {
     "name": "stdout",
     "output_type": "stream",
     "text": [
      "[Epoch 2] Avg semantic log-likelihood: -957.4824\n",
      "Epoch 3/3\n"
     ]
    },
    {
     "name": "stderr",
     "output_type": "stream",
     "text": [
      "100%|██████████| 25000/25000 [00:37<00:00, 666.70it/s]\n"
     ]
    },
    {
     "name": "stdout",
     "output_type": "stream",
     "text": [
      "[Epoch 3] Avg semantic log-likelihood: -949.2018\n",
      "Epoch 1/3\n"
     ]
    },
    {
     "name": "stderr",
     "output_type": "stream",
     "text": [
      "100%|██████████| 25000/25000 [00:37<00:00, 670.57it/s]\n"
     ]
    },
    {
     "name": "stdout",
     "output_type": "stream",
     "text": [
      "[Epoch 1] Avg semantic log-likelihood: -1324.4060\n",
      "Epoch 2/3\n"
     ]
    },
    {
     "name": "stderr",
     "output_type": "stream",
     "text": [
      "100%|██████████| 25000/25000 [00:38<00:00, 656.62it/s]\n"
     ]
    },
    {
     "name": "stdout",
     "output_type": "stream",
     "text": [
      "[Epoch 2] Avg semantic log-likelihood: -957.4806\n",
      "Epoch 3/3\n"
     ]
    },
    {
     "name": "stderr",
     "output_type": "stream",
     "text": [
      "100%|██████████| 25000/25000 [00:37<00:00, 668.11it/s]\n"
     ]
    },
    {
     "name": "stdout",
     "output_type": "stream",
     "text": [
      "[Epoch 3] Avg semantic log-likelihood: -949.1799\n",
      "Epoch 1/3\n"
     ]
    },
    {
     "name": "stderr",
     "output_type": "stream",
     "text": [
      "100%|██████████| 25000/25000 [00:38<00:00, 651.38it/s]\n"
     ]
    },
    {
     "name": "stdout",
     "output_type": "stream",
     "text": [
      "[Epoch 1] Avg semantic log-likelihood: -1324.4078\n",
      "Epoch 2/3\n"
     ]
    },
    {
     "name": "stderr",
     "output_type": "stream",
     "text": [
      "100%|██████████| 25000/25000 [00:36<00:00, 678.84it/s]\n"
     ]
    },
    {
     "name": "stdout",
     "output_type": "stream",
     "text": [
      "[Epoch 2] Avg semantic log-likelihood: -957.4843\n",
      "Epoch 3/3\n"
     ]
    },
    {
     "name": "stderr",
     "output_type": "stream",
     "text": [
      "100%|██████████| 25000/25000 [00:37<00:00, 674.06it/s]\n"
     ]
    },
    {
     "name": "stdout",
     "output_type": "stream",
     "text": [
      "[Epoch 3] Avg semantic log-likelihood: -949.2147\n",
      "Epoch 1/3\n"
     ]
    },
    {
     "name": "stderr",
     "output_type": "stream",
     "text": [
      "100%|██████████| 25000/25000 [00:38<00:00, 657.84it/s]\n"
     ]
    },
    {
     "name": "stdout",
     "output_type": "stream",
     "text": [
      "[Epoch 1] Avg semantic log-likelihood: -1324.4043\n",
      "Epoch 2/3\n"
     ]
    },
    {
     "name": "stderr",
     "output_type": "stream",
     "text": [
      "100%|██████████| 25000/25000 [00:37<00:00, 674.14it/s]\n"
     ]
    },
    {
     "name": "stdout",
     "output_type": "stream",
     "text": [
      "[Epoch 2] Avg semantic log-likelihood: -957.4813\n",
      "Epoch 3/3\n"
     ]
    },
    {
     "name": "stderr",
     "output_type": "stream",
     "text": [
      "100%|██████████| 25000/25000 [00:37<00:00, 662.15it/s]\n"
     ]
    },
    {
     "name": "stdout",
     "output_type": "stream",
     "text": [
      "[Epoch 3] Avg semantic log-likelihood: -949.1904\n",
      "Epoch 1/3\n"
     ]
    },
    {
     "name": "stderr",
     "output_type": "stream",
     "text": [
      "100%|██████████| 25000/25000 [00:36<00:00, 681.09it/s]\n"
     ]
    },
    {
     "name": "stdout",
     "output_type": "stream",
     "text": [
      "[Epoch 1] Avg semantic log-likelihood: -1324.4088\n",
      "Epoch 2/3\n"
     ]
    },
    {
     "name": "stderr",
     "output_type": "stream",
     "text": [
      "100%|██████████| 25000/25000 [00:36<00:00, 679.34it/s]\n"
     ]
    },
    {
     "name": "stdout",
     "output_type": "stream",
     "text": [
      "[Epoch 2] Avg semantic log-likelihood: -957.4828\n",
      "Epoch 3/3\n"
     ]
    },
    {
     "name": "stderr",
     "output_type": "stream",
     "text": [
      "100%|██████████| 25000/25000 [00:37<00:00, 667.98it/s]\n"
     ]
    },
    {
     "name": "stdout",
     "output_type": "stream",
     "text": [
      "[Epoch 3] Avg semantic log-likelihood: -949.1984\n",
      "Epoch 1/3\n"
     ]
    },
    {
     "name": "stderr",
     "output_type": "stream",
     "text": [
      "100%|██████████| 25000/25000 [00:37<00:00, 667.87it/s]\n"
     ]
    },
    {
     "name": "stdout",
     "output_type": "stream",
     "text": [
      "[Epoch 1] Avg semantic log-likelihood: -1324.4102\n",
      "Epoch 2/3\n"
     ]
    },
    {
     "name": "stderr",
     "output_type": "stream",
     "text": [
      "100%|██████████| 25000/25000 [00:36<00:00, 685.12it/s]\n"
     ]
    },
    {
     "name": "stdout",
     "output_type": "stream",
     "text": [
      "[Epoch 2] Avg semantic log-likelihood: -957.4862\n",
      "Epoch 3/3\n"
     ]
    },
    {
     "name": "stderr",
     "output_type": "stream",
     "text": [
      "100%|██████████| 25000/25000 [00:37<00:00, 674.85it/s]\n"
     ]
    },
    {
     "name": "stdout",
     "output_type": "stream",
     "text": [
      "[Epoch 3] Avg semantic log-likelihood: -949.2231\n",
      "Epoch 1/3\n"
     ]
    },
    {
     "name": "stderr",
     "output_type": "stream",
     "text": [
      "100%|██████████| 25000/25000 [00:37<00:00, 673.40it/s]\n"
     ]
    },
    {
     "name": "stdout",
     "output_type": "stream",
     "text": [
      "[Epoch 1] Avg semantic log-likelihood: -1324.4069\n",
      "Epoch 2/3\n"
     ]
    },
    {
     "name": "stderr",
     "output_type": "stream",
     "text": [
      "100%|██████████| 25000/25000 [00:38<00:00, 656.14it/s]\n"
     ]
    },
    {
     "name": "stdout",
     "output_type": "stream",
     "text": [
      "[Epoch 2] Avg semantic log-likelihood: -957.4851\n",
      "Epoch 3/3\n"
     ]
    },
    {
     "name": "stderr",
     "output_type": "stream",
     "text": [
      "100%|██████████| 25000/25000 [00:37<00:00, 669.85it/s]\n"
     ]
    },
    {
     "name": "stdout",
     "output_type": "stream",
     "text": [
      "[Epoch 3] Avg semantic log-likelihood: -949.2218\n",
      "Epoch 1/3\n"
     ]
    },
    {
     "name": "stderr",
     "output_type": "stream",
     "text": [
      "100%|██████████| 25000/25000 [00:37<00:00, 670.49it/s]\n"
     ]
    },
    {
     "name": "stdout",
     "output_type": "stream",
     "text": [
      "[Epoch 1] Avg semantic log-likelihood: -1324.4054\n",
      "Epoch 2/3\n"
     ]
    },
    {
     "name": "stderr",
     "output_type": "stream",
     "text": [
      "100%|██████████| 25000/25000 [00:36<00:00, 688.13it/s]\n"
     ]
    },
    {
     "name": "stdout",
     "output_type": "stream",
     "text": [
      "[Epoch 2] Avg semantic log-likelihood: -957.4811\n",
      "Epoch 3/3\n"
     ]
    },
    {
     "name": "stderr",
     "output_type": "stream",
     "text": [
      "100%|██████████| 25000/25000 [00:37<00:00, 669.94it/s]\n"
     ]
    },
    {
     "name": "stdout",
     "output_type": "stream",
     "text": [
      "[Epoch 3] Avg semantic log-likelihood: -949.1870\n",
      "\n",
      "Generation 5, Best score: -949.6260\n",
      "Best individual: {'beta': 100, 'lambda_reg': 0.0001, 'nu_reg': 0.0001, 'learning_rate': 0.001}\n",
      "\n",
      "Epoch 1/3\n"
     ]
    },
    {
     "name": "stderr",
     "output_type": "stream",
     "text": [
      "100%|██████████| 25000/25000 [00:37<00:00, 667.42it/s]\n"
     ]
    },
    {
     "name": "stdout",
     "output_type": "stream",
     "text": [
      "[Epoch 1] Avg semantic log-likelihood: -1324.4077\n",
      "Epoch 2/3\n"
     ]
    },
    {
     "name": "stderr",
     "output_type": "stream",
     "text": [
      "100%|██████████| 25000/25000 [00:36<00:00, 678.18it/s]\n"
     ]
    },
    {
     "name": "stdout",
     "output_type": "stream",
     "text": [
      "[Epoch 2] Avg semantic log-likelihood: -957.4845\n",
      "Epoch 3/3\n"
     ]
    },
    {
     "name": "stderr",
     "output_type": "stream",
     "text": [
      "100%|██████████| 25000/25000 [00:38<00:00, 651.35it/s]\n"
     ]
    },
    {
     "name": "stdout",
     "output_type": "stream",
     "text": [
      "[Epoch 3] Avg semantic log-likelihood: -949.2168\n",
      "Epoch 1/3\n"
     ]
    },
    {
     "name": "stderr",
     "output_type": "stream",
     "text": [
      "100%|██████████| 25000/25000 [00:37<00:00, 658.21it/s]\n"
     ]
    },
    {
     "name": "stdout",
     "output_type": "stream",
     "text": [
      "[Epoch 1] Avg semantic log-likelihood: -1324.4065\n",
      "Epoch 2/3\n"
     ]
    },
    {
     "name": "stderr",
     "output_type": "stream",
     "text": [
      "100%|██████████| 25000/25000 [00:36<00:00, 683.67it/s]\n"
     ]
    },
    {
     "name": "stdout",
     "output_type": "stream",
     "text": [
      "[Epoch 2] Avg semantic log-likelihood: -957.4830\n",
      "Epoch 3/3\n"
     ]
    },
    {
     "name": "stderr",
     "output_type": "stream",
     "text": [
      "100%|██████████| 25000/25000 [00:36<00:00, 678.95it/s]\n"
     ]
    },
    {
     "name": "stdout",
     "output_type": "stream",
     "text": [
      "[Epoch 3] Avg semantic log-likelihood: -949.2022\n",
      "Epoch 1/3\n"
     ]
    },
    {
     "name": "stderr",
     "output_type": "stream",
     "text": [
      "100%|██████████| 25000/25000 [00:37<00:00, 657.96it/s]\n"
     ]
    },
    {
     "name": "stdout",
     "output_type": "stream",
     "text": [
      "[Epoch 1] Avg semantic log-likelihood: -1324.4074\n",
      "Epoch 2/3\n"
     ]
    },
    {
     "name": "stderr",
     "output_type": "stream",
     "text": [
      "100%|██████████| 25000/25000 [00:37<00:00, 670.37it/s]\n"
     ]
    },
    {
     "name": "stdout",
     "output_type": "stream",
     "text": [
      "[Epoch 2] Avg semantic log-likelihood: -957.4831\n",
      "Epoch 3/3\n"
     ]
    },
    {
     "name": "stderr",
     "output_type": "stream",
     "text": [
      "100%|██████████| 25000/25000 [00:37<00:00, 660.12it/s]\n"
     ]
    },
    {
     "name": "stdout",
     "output_type": "stream",
     "text": [
      "[Epoch 3] Avg semantic log-likelihood: -949.2032\n",
      "Epoch 1/3\n"
     ]
    },
    {
     "name": "stderr",
     "output_type": "stream",
     "text": [
      "100%|██████████| 25000/25000 [00:36<00:00, 678.77it/s]\n"
     ]
    },
    {
     "name": "stdout",
     "output_type": "stream",
     "text": [
      "[Epoch 1] Avg semantic log-likelihood: -1324.4096\n",
      "Epoch 2/3\n"
     ]
    },
    {
     "name": "stderr",
     "output_type": "stream",
     "text": [
      "100%|██████████| 25000/25000 [00:37<00:00, 671.81it/s]\n"
     ]
    },
    {
     "name": "stdout",
     "output_type": "stream",
     "text": [
      "[Epoch 2] Avg semantic log-likelihood: -957.4847\n",
      "Epoch 3/3\n"
     ]
    },
    {
     "name": "stderr",
     "output_type": "stream",
     "text": [
      "100%|██████████| 25000/25000 [00:37<00:00, 666.70it/s]\n"
     ]
    },
    {
     "name": "stdout",
     "output_type": "stream",
     "text": [
      "[Epoch 3] Avg semantic log-likelihood: -949.2121\n",
      "Epoch 1/3\n"
     ]
    },
    {
     "name": "stderr",
     "output_type": "stream",
     "text": [
      "100%|██████████| 25000/25000 [00:36<00:00, 680.74it/s]\n"
     ]
    },
    {
     "name": "stdout",
     "output_type": "stream",
     "text": [
      "[Epoch 1] Avg semantic log-likelihood: -1324.4062\n",
      "Epoch 2/3\n"
     ]
    },
    {
     "name": "stderr",
     "output_type": "stream",
     "text": [
      "100%|██████████| 25000/25000 [00:37<00:00, 660.91it/s]\n"
     ]
    },
    {
     "name": "stdout",
     "output_type": "stream",
     "text": [
      "[Epoch 2] Avg semantic log-likelihood: -957.4836\n",
      "Epoch 3/3\n"
     ]
    },
    {
     "name": "stderr",
     "output_type": "stream",
     "text": [
      "100%|██████████| 25000/25000 [00:36<00:00, 679.13it/s]\n"
     ]
    },
    {
     "name": "stdout",
     "output_type": "stream",
     "text": [
      "[Epoch 3] Avg semantic log-likelihood: -949.2079\n",
      "Epoch 1/3\n"
     ]
    },
    {
     "name": "stderr",
     "output_type": "stream",
     "text": [
      "100%|██████████| 25000/25000 [00:09<00:00, 2677.91it/s]\n"
     ]
    },
    {
     "name": "stdout",
     "output_type": "stream",
     "text": [
      "[Epoch 1] Avg semantic log-likelihood: -1324.4155\n",
      "Epoch 2/3\n"
     ]
    },
    {
     "name": "stderr",
     "output_type": "stream",
     "text": [
      "100%|██████████| 25000/25000 [00:09<00:00, 2564.55it/s]\n"
     ]
    },
    {
     "name": "stdout",
     "output_type": "stream",
     "text": [
      "[Epoch 2] Avg semantic log-likelihood: -957.4966\n",
      "Epoch 3/3\n"
     ]
    },
    {
     "name": "stderr",
     "output_type": "stream",
     "text": [
      "100%|██████████| 25000/25000 [00:09<00:00, 2525.87it/s]\n"
     ]
    },
    {
     "name": "stdout",
     "output_type": "stream",
     "text": [
      "[Epoch 3] Avg semantic log-likelihood: -949.2715\n",
      "Epoch 1/3\n"
     ]
    },
    {
     "name": "stderr",
     "output_type": "stream",
     "text": [
      "100%|██████████| 25000/25000 [00:37<00:00, 675.00it/s]\n"
     ]
    },
    {
     "name": "stdout",
     "output_type": "stream",
     "text": [
      "[Epoch 1] Avg semantic log-likelihood: -1324.4074\n",
      "Epoch 2/3\n"
     ]
    },
    {
     "name": "stderr",
     "output_type": "stream",
     "text": [
      "100%|██████████| 25000/25000 [00:37<00:00, 663.28it/s]\n"
     ]
    },
    {
     "name": "stdout",
     "output_type": "stream",
     "text": [
      "[Epoch 2] Avg semantic log-likelihood: -957.4842\n",
      "Epoch 3/3\n"
     ]
    },
    {
     "name": "stderr",
     "output_type": "stream",
     "text": [
      "100%|██████████| 25000/25000 [00:36<00:00, 679.13it/s]\n"
     ]
    },
    {
     "name": "stdout",
     "output_type": "stream",
     "text": [
      "[Epoch 3] Avg semantic log-likelihood: -949.2115\n",
      "Epoch 1/3\n"
     ]
    },
    {
     "name": "stderr",
     "output_type": "stream",
     "text": [
      "100%|██████████| 25000/25000 [00:37<00:00, 671.98it/s]\n"
     ]
    },
    {
     "name": "stdout",
     "output_type": "stream",
     "text": [
      "[Epoch 1] Avg semantic log-likelihood: -1324.4066\n",
      "Epoch 2/3\n"
     ]
    },
    {
     "name": "stderr",
     "output_type": "stream",
     "text": [
      "100%|██████████| 25000/25000 [00:37<00:00, 670.77it/s]\n"
     ]
    },
    {
     "name": "stdout",
     "output_type": "stream",
     "text": [
      "[Epoch 2] Avg semantic log-likelihood: -957.4829\n",
      "Epoch 3/3\n"
     ]
    },
    {
     "name": "stderr",
     "output_type": "stream",
     "text": [
      "100%|██████████| 25000/25000 [00:37<00:00, 665.36it/s]\n"
     ]
    },
    {
     "name": "stdout",
     "output_type": "stream",
     "text": [
      "[Epoch 3] Avg semantic log-likelihood: -949.2015\n",
      "Epoch 1/3\n"
     ]
    },
    {
     "name": "stderr",
     "output_type": "stream",
     "text": [
      "100%|██████████| 25000/25000 [00:36<00:00, 675.86it/s]\n"
     ]
    },
    {
     "name": "stdout",
     "output_type": "stream",
     "text": [
      "[Epoch 1] Avg semantic log-likelihood: -1324.4089\n",
      "Epoch 2/3\n"
     ]
    },
    {
     "name": "stderr",
     "output_type": "stream",
     "text": [
      "100%|██████████| 25000/25000 [00:37<00:00, 660.33it/s]\n"
     ]
    },
    {
     "name": "stdout",
     "output_type": "stream",
     "text": [
      "[Epoch 2] Avg semantic log-likelihood: -957.4853\n",
      "Epoch 3/3\n"
     ]
    },
    {
     "name": "stderr",
     "output_type": "stream",
     "text": [
      "100%|██████████| 25000/25000 [00:37<00:00, 669.79it/s]\n"
     ]
    },
    {
     "name": "stdout",
     "output_type": "stream",
     "text": [
      "[Epoch 3] Avg semantic log-likelihood: -949.2209\n",
      "Epoch 1/3\n"
     ]
    },
    {
     "name": "stderr",
     "output_type": "stream",
     "text": [
      "100%|██████████| 25000/25000 [00:11<00:00, 2133.02it/s]\n"
     ]
    },
    {
     "name": "stdout",
     "output_type": "stream",
     "text": [
      "[Epoch 1] Avg semantic log-likelihood: -1324.4109\n",
      "Epoch 2/3\n"
     ]
    },
    {
     "name": "stderr",
     "output_type": "stream",
     "text": [
      "100%|██████████| 25000/25000 [00:12<00:00, 1993.41it/s]\n"
     ]
    },
    {
     "name": "stdout",
     "output_type": "stream",
     "text": [
      "[Epoch 2] Avg semantic log-likelihood: -957.4908\n",
      "Epoch 3/3\n"
     ]
    },
    {
     "name": "stderr",
     "output_type": "stream",
     "text": [
      "100%|██████████| 25000/25000 [00:12<00:00, 2013.70it/s]\n"
     ]
    },
    {
     "name": "stdout",
     "output_type": "stream",
     "text": [
      "[Epoch 3] Avg semantic log-likelihood: -949.2463\n",
      "\n",
      "Generation 6, Best score: -949.6454\n",
      "Best individual: {'beta': 100, 'lambda_reg': 0.0001, 'nu_reg': 0.0001, 'learning_rate': 0.001}\n",
      "\n",
      "Epoch 1/3\n"
     ]
    },
    {
     "name": "stderr",
     "output_type": "stream",
     "text": [
      "100%|██████████| 25000/25000 [00:36<00:00, 680.25it/s]\n"
     ]
    },
    {
     "name": "stdout",
     "output_type": "stream",
     "text": [
      "[Epoch 1] Avg semantic log-likelihood: -1324.4068\n",
      "Epoch 2/3\n"
     ]
    },
    {
     "name": "stderr",
     "output_type": "stream",
     "text": [
      "100%|██████████| 25000/25000 [00:37<00:00, 665.73it/s]\n"
     ]
    },
    {
     "name": "stdout",
     "output_type": "stream",
     "text": [
      "[Epoch 2] Avg semantic log-likelihood: -957.4831\n",
      "Epoch 3/3\n"
     ]
    },
    {
     "name": "stderr",
     "output_type": "stream",
     "text": [
      "100%|██████████| 25000/25000 [00:37<00:00, 660.61it/s]\n"
     ]
    },
    {
     "name": "stdout",
     "output_type": "stream",
     "text": [
      "[Epoch 3] Avg semantic log-likelihood: -949.2002\n",
      "Epoch 1/3\n"
     ]
    },
    {
     "name": "stderr",
     "output_type": "stream",
     "text": [
      "100%|██████████| 25000/25000 [00:37<00:00, 668.91it/s]\n"
     ]
    },
    {
     "name": "stdout",
     "output_type": "stream",
     "text": [
      "[Epoch 1] Avg semantic log-likelihood: -1324.4093\n",
      "Epoch 2/3\n"
     ]
    },
    {
     "name": "stderr",
     "output_type": "stream",
     "text": [
      "100%|██████████| 25000/25000 [00:37<00:00, 658.40it/s]\n"
     ]
    },
    {
     "name": "stdout",
     "output_type": "stream",
     "text": [
      "[Epoch 2] Avg semantic log-likelihood: -957.4831\n",
      "Epoch 3/3\n"
     ]
    },
    {
     "name": "stderr",
     "output_type": "stream",
     "text": [
      "100%|██████████| 25000/25000 [00:37<00:00, 664.91it/s]\n"
     ]
    },
    {
     "name": "stdout",
     "output_type": "stream",
     "text": [
      "[Epoch 3] Avg semantic log-likelihood: -949.2013\n",
      "Epoch 1/3\n"
     ]
    },
    {
     "name": "stderr",
     "output_type": "stream",
     "text": [
      "100%|██████████| 25000/25000 [00:37<00:00, 664.25it/s]\n"
     ]
    },
    {
     "name": "stdout",
     "output_type": "stream",
     "text": [
      "[Epoch 1] Avg semantic log-likelihood: -1324.4067\n",
      "Epoch 2/3\n"
     ]
    },
    {
     "name": "stderr",
     "output_type": "stream",
     "text": [
      "100%|██████████| 25000/25000 [00:36<00:00, 682.61it/s]\n"
     ]
    },
    {
     "name": "stdout",
     "output_type": "stream",
     "text": [
      "[Epoch 2] Avg semantic log-likelihood: -957.4835\n",
      "Epoch 3/3\n"
     ]
    },
    {
     "name": "stderr",
     "output_type": "stream",
     "text": [
      "100%|██████████| 25000/25000 [00:37<00:00, 668.24it/s]\n"
     ]
    },
    {
     "name": "stdout",
     "output_type": "stream",
     "text": [
      "[Epoch 3] Avg semantic log-likelihood: -949.2097\n",
      "Epoch 1/3\n"
     ]
    },
    {
     "name": "stderr",
     "output_type": "stream",
     "text": [
      "100%|██████████| 25000/25000 [00:36<00:00, 689.69it/s]\n"
     ]
    },
    {
     "name": "stdout",
     "output_type": "stream",
     "text": [
      "[Epoch 1] Avg semantic log-likelihood: -1324.4054\n",
      "Epoch 2/3\n"
     ]
    },
    {
     "name": "stderr",
     "output_type": "stream",
     "text": [
      "100%|██████████| 25000/25000 [00:37<00:00, 670.39it/s]\n"
     ]
    },
    {
     "name": "stdout",
     "output_type": "stream",
     "text": [
      "[Epoch 2] Avg semantic log-likelihood: -957.4814\n",
      "Epoch 3/3\n"
     ]
    },
    {
     "name": "stderr",
     "output_type": "stream",
     "text": [
      "100%|██████████| 25000/25000 [00:37<00:00, 660.82it/s]\n"
     ]
    },
    {
     "name": "stdout",
     "output_type": "stream",
     "text": [
      "[Epoch 3] Avg semantic log-likelihood: -949.1887\n",
      "Epoch 1/3\n"
     ]
    },
    {
     "name": "stderr",
     "output_type": "stream",
     "text": [
      "100%|██████████| 25000/25000 [00:36<00:00, 675.77it/s]\n"
     ]
    },
    {
     "name": "stdout",
     "output_type": "stream",
     "text": [
      "[Epoch 1] Avg semantic log-likelihood: -1324.4062\n",
      "Epoch 2/3\n"
     ]
    },
    {
     "name": "stderr",
     "output_type": "stream",
     "text": [
      "100%|██████████| 25000/25000 [00:37<00:00, 671.07it/s]\n"
     ]
    },
    {
     "name": "stdout",
     "output_type": "stream",
     "text": [
      "[Epoch 2] Avg semantic log-likelihood: -957.4812\n",
      "Epoch 3/3\n"
     ]
    },
    {
     "name": "stderr",
     "output_type": "stream",
     "text": [
      "100%|██████████| 25000/25000 [00:36<00:00, 676.24it/s]\n"
     ]
    },
    {
     "name": "stdout",
     "output_type": "stream",
     "text": [
      "[Epoch 3] Avg semantic log-likelihood: -949.1845\n",
      "Epoch 1/3\n"
     ]
    },
    {
     "name": "stderr",
     "output_type": "stream",
     "text": [
      "100%|██████████| 25000/25000 [00:37<00:00, 669.65it/s]\n"
     ]
    },
    {
     "name": "stdout",
     "output_type": "stream",
     "text": [
      "[Epoch 1] Avg semantic log-likelihood: -1324.4071\n",
      "Epoch 2/3\n"
     ]
    },
    {
     "name": "stderr",
     "output_type": "stream",
     "text": [
      "100%|██████████| 25000/25000 [00:37<00:00, 666.79it/s]\n"
     ]
    },
    {
     "name": "stdout",
     "output_type": "stream",
     "text": [
      "[Epoch 2] Avg semantic log-likelihood: -957.4818\n",
      "Epoch 3/3\n"
     ]
    },
    {
     "name": "stderr",
     "output_type": "stream",
     "text": [
      "100%|██████████| 25000/25000 [00:37<00:00, 665.60it/s]\n"
     ]
    },
    {
     "name": "stdout",
     "output_type": "stream",
     "text": [
      "[Epoch 3] Avg semantic log-likelihood: -949.1891\n",
      "Epoch 1/3\n"
     ]
    },
    {
     "name": "stderr",
     "output_type": "stream",
     "text": [
      "100%|██████████| 25000/25000 [00:41<00:00, 601.41it/s]\n"
     ]
    },
    {
     "name": "stdout",
     "output_type": "stream",
     "text": [
      "[Epoch 1] Avg semantic log-likelihood: -1324.4095\n",
      "Epoch 2/3\n"
     ]
    },
    {
     "name": "stderr",
     "output_type": "stream",
     "text": [
      "100%|██████████| 25000/25000 [00:44<00:00, 562.55it/s]\n"
     ]
    },
    {
     "name": "stdout",
     "output_type": "stream",
     "text": [
      "[Epoch 2] Avg semantic log-likelihood: -957.4857\n",
      "Epoch 3/3\n"
     ]
    },
    {
     "name": "stderr",
     "output_type": "stream",
     "text": [
      "100%|██████████| 25000/25000 [00:36<00:00, 683.18it/s]\n"
     ]
    },
    {
     "name": "stdout",
     "output_type": "stream",
     "text": [
      "[Epoch 3] Avg semantic log-likelihood: -949.2212\n",
      "Epoch 1/3\n"
     ]
    },
    {
     "name": "stderr",
     "output_type": "stream",
     "text": [
      "100%|██████████| 25000/25000 [00:37<00:00, 670.76it/s]\n"
     ]
    },
    {
     "name": "stdout",
     "output_type": "stream",
     "text": [
      "[Epoch 1] Avg semantic log-likelihood: -1324.4072\n",
      "Epoch 2/3\n"
     ]
    },
    {
     "name": "stderr",
     "output_type": "stream",
     "text": [
      "100%|██████████| 25000/25000 [00:38<00:00, 648.10it/s]\n"
     ]
    },
    {
     "name": "stdout",
     "output_type": "stream",
     "text": [
      "[Epoch 2] Avg semantic log-likelihood: -957.4826\n",
      "Epoch 3/3\n"
     ]
    },
    {
     "name": "stderr",
     "output_type": "stream",
     "text": [
      "100%|██████████| 25000/25000 [00:38<00:00, 644.86it/s]\n"
     ]
    },
    {
     "name": "stdout",
     "output_type": "stream",
     "text": [
      "[Epoch 3] Avg semantic log-likelihood: -949.1982\n",
      "Epoch 1/3\n"
     ]
    },
    {
     "name": "stderr",
     "output_type": "stream",
     "text": [
      "100%|██████████| 25000/25000 [00:38<00:00, 648.12it/s]\n"
     ]
    },
    {
     "name": "stdout",
     "output_type": "stream",
     "text": [
      "[Epoch 1] Avg semantic log-likelihood: -1324.4073\n",
      "Epoch 2/3\n"
     ]
    },
    {
     "name": "stderr",
     "output_type": "stream",
     "text": [
      "100%|██████████| 25000/25000 [00:37<00:00, 667.56it/s]\n"
     ]
    },
    {
     "name": "stdout",
     "output_type": "stream",
     "text": [
      "[Epoch 2] Avg semantic log-likelihood: -957.4819\n",
      "Epoch 3/3\n"
     ]
    },
    {
     "name": "stderr",
     "output_type": "stream",
     "text": [
      "100%|██████████| 25000/25000 [00:37<00:00, 674.00it/s]\n"
     ]
    },
    {
     "name": "stdout",
     "output_type": "stream",
     "text": [
      "[Epoch 3] Avg semantic log-likelihood: -949.1916\n",
      "Epoch 1/3\n"
     ]
    },
    {
     "name": "stderr",
     "output_type": "stream",
     "text": [
      "100%|██████████| 25000/25000 [00:38<00:00, 651.57it/s]\n"
     ]
    },
    {
     "name": "stdout",
     "output_type": "stream",
     "text": [
      "[Epoch 1] Avg semantic log-likelihood: -1324.3534\n",
      "Epoch 2/3\n"
     ]
    },
    {
     "name": "stderr",
     "output_type": "stream",
     "text": [
      "100%|██████████| 25000/25000 [00:37<00:00, 674.33it/s]\n"
     ]
    },
    {
     "name": "stdout",
     "output_type": "stream",
     "text": [
      "[Epoch 2] Avg semantic log-likelihood: -943.3882\n",
      "Epoch 3/3\n"
     ]
    },
    {
     "name": "stderr",
     "output_type": "stream",
     "text": [
      "100%|██████████| 25000/25000 [00:43<00:00, 580.75it/s]\n"
     ]
    },
    {
     "name": "stdout",
     "output_type": "stream",
     "text": [
      "[Epoch 3] Avg semantic log-likelihood: -2686.9090\n",
      "\n",
      "Generation 7, Best score: -949.6325\n",
      "Best individual: {'beta': 100, 'lambda_reg': 0.0001, 'nu_reg': 0.0001, 'learning_rate': 0.001}\n",
      "\n",
      "Epoch 1/3\n"
     ]
    },
    {
     "name": "stderr",
     "output_type": "stream",
     "text": [
      "100%|██████████| 25000/25000 [00:35<00:00, 705.99it/s]\n"
     ]
    },
    {
     "name": "stdout",
     "output_type": "stream",
     "text": [
      "[Epoch 1] Avg semantic log-likelihood: -1324.4080\n",
      "Epoch 2/3\n"
     ]
    },
    {
     "name": "stderr",
     "output_type": "stream",
     "text": [
      "100%|██████████| 25000/25000 [00:34<00:00, 729.52it/s]\n"
     ]
    },
    {
     "name": "stdout",
     "output_type": "stream",
     "text": [
      "[Epoch 2] Avg semantic log-likelihood: -957.4824\n",
      "Epoch 3/3\n"
     ]
    },
    {
     "name": "stderr",
     "output_type": "stream",
     "text": [
      "100%|██████████| 25000/25000 [00:33<00:00, 741.52it/s]\n"
     ]
    },
    {
     "name": "stdout",
     "output_type": "stream",
     "text": [
      "[Epoch 3] Avg semantic log-likelihood: -949.1948\n",
      "Epoch 1/3\n"
     ]
    },
    {
     "name": "stderr",
     "output_type": "stream",
     "text": [
      "100%|██████████| 25000/25000 [00:34<00:00, 728.16it/s]\n"
     ]
    },
    {
     "name": "stdout",
     "output_type": "stream",
     "text": [
      "[Epoch 1] Avg semantic log-likelihood: -1324.4062\n",
      "Epoch 2/3\n"
     ]
    },
    {
     "name": "stderr",
     "output_type": "stream",
     "text": [
      "100%|██████████| 25000/25000 [00:33<00:00, 747.37it/s]\n"
     ]
    },
    {
     "name": "stdout",
     "output_type": "stream",
     "text": [
      "[Epoch 2] Avg semantic log-likelihood: -957.4832\n",
      "Epoch 3/3\n"
     ]
    },
    {
     "name": "stderr",
     "output_type": "stream",
     "text": [
      "100%|██████████| 25000/25000 [00:34<00:00, 728.19it/s]\n"
     ]
    },
    {
     "name": "stdout",
     "output_type": "stream",
     "text": [
      "[Epoch 3] Avg semantic log-likelihood: -949.2050\n",
      "Epoch 1/3\n"
     ]
    },
    {
     "name": "stderr",
     "output_type": "stream",
     "text": [
      "100%|██████████| 25000/25000 [00:34<00:00, 715.21it/s]\n"
     ]
    },
    {
     "name": "stdout",
     "output_type": "stream",
     "text": [
      "[Epoch 1] Avg semantic log-likelihood: -1324.4088\n",
      "Epoch 2/3\n"
     ]
    },
    {
     "name": "stderr",
     "output_type": "stream",
     "text": [
      "100%|██████████| 25000/25000 [00:34<00:00, 717.91it/s]\n"
     ]
    },
    {
     "name": "stdout",
     "output_type": "stream",
     "text": [
      "[Epoch 2] Avg semantic log-likelihood: -957.4847\n",
      "Epoch 3/3\n"
     ]
    },
    {
     "name": "stderr",
     "output_type": "stream",
     "text": [
      "100%|██████████| 25000/25000 [00:33<00:00, 740.44it/s]\n"
     ]
    },
    {
     "name": "stdout",
     "output_type": "stream",
     "text": [
      "[Epoch 3] Avg semantic log-likelihood: -949.2156\n",
      "Epoch 1/3\n"
     ]
    },
    {
     "name": "stderr",
     "output_type": "stream",
     "text": [
      "100%|██████████| 25000/25000 [00:34<00:00, 724.91it/s]\n"
     ]
    },
    {
     "name": "stdout",
     "output_type": "stream",
     "text": [
      "[Epoch 1] Avg semantic log-likelihood: -1324.4075\n",
      "Epoch 2/3\n"
     ]
    },
    {
     "name": "stderr",
     "output_type": "stream",
     "text": [
      "100%|██████████| 25000/25000 [00:35<00:00, 706.16it/s]\n"
     ]
    },
    {
     "name": "stdout",
     "output_type": "stream",
     "text": [
      "[Epoch 2] Avg semantic log-likelihood: -957.4816\n",
      "Epoch 3/3\n"
     ]
    },
    {
     "name": "stderr",
     "output_type": "stream",
     "text": [
      "100%|██████████| 25000/25000 [00:34<00:00, 732.97it/s]\n"
     ]
    },
    {
     "name": "stdout",
     "output_type": "stream",
     "text": [
      "[Epoch 3] Avg semantic log-likelihood: -949.1915\n",
      "Epoch 1/3\n"
     ]
    },
    {
     "name": "stderr",
     "output_type": "stream",
     "text": [
      "100%|██████████| 25000/25000 [00:34<00:00, 727.97it/s]\n"
     ]
    },
    {
     "name": "stdout",
     "output_type": "stream",
     "text": [
      "[Epoch 1] Avg semantic log-likelihood: -1324.4071\n",
      "Epoch 2/3\n"
     ]
    },
    {
     "name": "stderr",
     "output_type": "stream",
     "text": [
      "100%|██████████| 25000/25000 [00:33<00:00, 748.99it/s]\n"
     ]
    },
    {
     "name": "stdout",
     "output_type": "stream",
     "text": [
      "[Epoch 2] Avg semantic log-likelihood: -957.4827\n",
      "Epoch 3/3\n"
     ]
    },
    {
     "name": "stderr",
     "output_type": "stream",
     "text": [
      "100%|██████████| 25000/25000 [00:34<00:00, 720.53it/s]\n"
     ]
    },
    {
     "name": "stdout",
     "output_type": "stream",
     "text": [
      "[Epoch 3] Avg semantic log-likelihood: -949.2018\n",
      "Epoch 1/3\n"
     ]
    },
    {
     "name": "stderr",
     "output_type": "stream",
     "text": [
      "100%|██████████| 25000/25000 [00:34<00:00, 733.23it/s]\n"
     ]
    },
    {
     "name": "stdout",
     "output_type": "stream",
     "text": [
      "[Epoch 1] Avg semantic log-likelihood: -1323.6953\n",
      "Epoch 2/3\n"
     ]
    },
    {
     "name": "stderr",
     "output_type": "stream",
     "text": [
      "100%|██████████| 25000/25000 [00:35<00:00, 702.69it/s]\n"
     ]
    },
    {
     "name": "stdout",
     "output_type": "stream",
     "text": [
      "[Epoch 2] Avg semantic log-likelihood: -3172.4484\n",
      "Epoch 3/3\n"
     ]
    },
    {
     "name": "stderr",
     "output_type": "stream",
     "text": [
      "100%|██████████| 25000/25000 [00:36<00:00, 685.05it/s]\n"
     ]
    },
    {
     "name": "stdout",
     "output_type": "stream",
     "text": [
      "[Epoch 3] Avg semantic log-likelihood: -3158.2357\n",
      "Epoch 1/3\n"
     ]
    },
    {
     "name": "stderr",
     "output_type": "stream",
     "text": [
      "100%|██████████| 25000/25000 [00:34<00:00, 728.87it/s]\n"
     ]
    },
    {
     "name": "stdout",
     "output_type": "stream",
     "text": [
      "[Epoch 1] Avg semantic log-likelihood: -1324.4074\n",
      "Epoch 2/3\n"
     ]
    },
    {
     "name": "stderr",
     "output_type": "stream",
     "text": [
      "100%|██████████| 25000/25000 [00:34<00:00, 723.68it/s]\n"
     ]
    },
    {
     "name": "stdout",
     "output_type": "stream",
     "text": [
      "[Epoch 2] Avg semantic log-likelihood: -957.4838\n",
      "Epoch 3/3\n"
     ]
    },
    {
     "name": "stderr",
     "output_type": "stream",
     "text": [
      "100%|██████████| 25000/25000 [00:34<00:00, 725.18it/s]\n"
     ]
    },
    {
     "name": "stdout",
     "output_type": "stream",
     "text": [
      "[Epoch 3] Avg semantic log-likelihood: -949.2060\n",
      "Epoch 1/3\n"
     ]
    },
    {
     "name": "stderr",
     "output_type": "stream",
     "text": [
      "100%|██████████| 25000/25000 [00:34<00:00, 731.33it/s]\n"
     ]
    },
    {
     "name": "stdout",
     "output_type": "stream",
     "text": [
      "[Epoch 1] Avg semantic log-likelihood: -1324.4080\n",
      "Epoch 2/3\n"
     ]
    },
    {
     "name": "stderr",
     "output_type": "stream",
     "text": [
      "100%|██████████| 25000/25000 [00:33<00:00, 739.47it/s]\n"
     ]
    },
    {
     "name": "stdout",
     "output_type": "stream",
     "text": [
      "[Epoch 2] Avg semantic log-likelihood: -957.4822\n",
      "Epoch 3/3\n"
     ]
    },
    {
     "name": "stderr",
     "output_type": "stream",
     "text": [
      "100%|██████████| 25000/25000 [00:34<00:00, 731.84it/s]\n"
     ]
    },
    {
     "name": "stdout",
     "output_type": "stream",
     "text": [
      "[Epoch 3] Avg semantic log-likelihood: -949.1951\n",
      "Epoch 1/3\n"
     ]
    },
    {
     "name": "stderr",
     "output_type": "stream",
     "text": [
      "100%|██████████| 25000/25000 [00:34<00:00, 729.44it/s]\n"
     ]
    },
    {
     "name": "stdout",
     "output_type": "stream",
     "text": [
      "[Epoch 1] Avg semantic log-likelihood: -1324.4082\n",
      "Epoch 2/3\n"
     ]
    },
    {
     "name": "stderr",
     "output_type": "stream",
     "text": [
      "100%|██████████| 25000/25000 [00:34<00:00, 734.35it/s]\n"
     ]
    },
    {
     "name": "stdout",
     "output_type": "stream",
     "text": [
      "[Epoch 2] Avg semantic log-likelihood: -957.4840\n",
      "Epoch 3/3\n"
     ]
    },
    {
     "name": "stderr",
     "output_type": "stream",
     "text": [
      "100%|██████████| 25000/25000 [00:34<00:00, 735.06it/s]\n"
     ]
    },
    {
     "name": "stdout",
     "output_type": "stream",
     "text": [
      "[Epoch 3] Avg semantic log-likelihood: -949.2094\n",
      "Epoch 1/3\n"
     ]
    },
    {
     "name": "stderr",
     "output_type": "stream",
     "text": [
      "100%|██████████| 25000/25000 [00:35<00:00, 706.50it/s]\n"
     ]
    },
    {
     "name": "stdout",
     "output_type": "stream",
     "text": [
      "[Epoch 1] Avg semantic log-likelihood: -1324.4044\n",
      "Epoch 2/3\n"
     ]
    },
    {
     "name": "stderr",
     "output_type": "stream",
     "text": [
      "100%|██████████| 25000/25000 [00:34<00:00, 734.04it/s]\n"
     ]
    },
    {
     "name": "stdout",
     "output_type": "stream",
     "text": [
      "[Epoch 2] Avg semantic log-likelihood: -957.4801\n",
      "Epoch 3/3\n"
     ]
    },
    {
     "name": "stderr",
     "output_type": "stream",
     "text": [
      "100%|██████████| 25000/25000 [00:34<00:00, 724.81it/s]\n"
     ]
    },
    {
     "name": "stdout",
     "output_type": "stream",
     "text": [
      "[Epoch 3] Avg semantic log-likelihood: -949.1823\n",
      "\n",
      "Generation 8, Best score: -949.6257\n",
      "Best individual: {'beta': 100, 'lambda_reg': 0.0001, 'nu_reg': 0.0001, 'learning_rate': 0.001}\n",
      "\n",
      "Epoch 1/3\n"
     ]
    },
    {
     "name": "stderr",
     "output_type": "stream",
     "text": [
      "100%|██████████| 25000/25000 [00:34<00:00, 727.44it/s]\n"
     ]
    },
    {
     "name": "stdout",
     "output_type": "stream",
     "text": [
      "[Epoch 1] Avg semantic log-likelihood: -1324.4070\n",
      "Epoch 2/3\n"
     ]
    },
    {
     "name": "stderr",
     "output_type": "stream",
     "text": [
      "100%|██████████| 25000/25000 [00:33<00:00, 745.53it/s]\n"
     ]
    },
    {
     "name": "stdout",
     "output_type": "stream",
     "text": [
      "[Epoch 2] Avg semantic log-likelihood: -957.4831\n",
      "Epoch 3/3\n"
     ]
    },
    {
     "name": "stderr",
     "output_type": "stream",
     "text": [
      "100%|██████████| 25000/25000 [00:34<00:00, 727.83it/s]\n"
     ]
    },
    {
     "name": "stdout",
     "output_type": "stream",
     "text": [
      "[Epoch 3] Avg semantic log-likelihood: -949.2051\n",
      "Epoch 1/3\n"
     ]
    },
    {
     "name": "stderr",
     "output_type": "stream",
     "text": [
      "100%|██████████| 25000/25000 [00:34<00:00, 722.47it/s]\n"
     ]
    },
    {
     "name": "stdout",
     "output_type": "stream",
     "text": [
      "[Epoch 1] Avg semantic log-likelihood: -1324.4075\n",
      "Epoch 2/3\n"
     ]
    },
    {
     "name": "stderr",
     "output_type": "stream",
     "text": [
      "100%|██████████| 25000/25000 [00:34<00:00, 728.60it/s]\n"
     ]
    },
    {
     "name": "stdout",
     "output_type": "stream",
     "text": [
      "[Epoch 2] Avg semantic log-likelihood: -957.4840\n",
      "Epoch 3/3\n"
     ]
    },
    {
     "name": "stderr",
     "output_type": "stream",
     "text": [
      "100%|██████████| 25000/25000 [00:34<00:00, 733.05it/s]\n"
     ]
    },
    {
     "name": "stdout",
     "output_type": "stream",
     "text": [
      "[Epoch 3] Avg semantic log-likelihood: -949.2149\n",
      "Epoch 1/3\n"
     ]
    },
    {
     "name": "stderr",
     "output_type": "stream",
     "text": [
      "100%|██████████| 25000/25000 [00:34<00:00, 725.36it/s]\n"
     ]
    },
    {
     "name": "stdout",
     "output_type": "stream",
     "text": [
      "[Epoch 1] Avg semantic log-likelihood: -1324.4082\n",
      "Epoch 2/3\n"
     ]
    },
    {
     "name": "stderr",
     "output_type": "stream",
     "text": [
      "100%|██████████| 25000/25000 [00:34<00:00, 726.84it/s]\n"
     ]
    },
    {
     "name": "stdout",
     "output_type": "stream",
     "text": [
      "[Epoch 2] Avg semantic log-likelihood: -957.4817\n",
      "Epoch 3/3\n"
     ]
    },
    {
     "name": "stderr",
     "output_type": "stream",
     "text": [
      "100%|██████████| 25000/25000 [00:34<00:00, 722.43it/s]\n"
     ]
    },
    {
     "name": "stdout",
     "output_type": "stream",
     "text": [
      "[Epoch 3] Avg semantic log-likelihood: -949.1885\n",
      "Epoch 1/3\n"
     ]
    },
    {
     "name": "stderr",
     "output_type": "stream",
     "text": [
      "100%|██████████| 25000/25000 [00:34<00:00, 721.42it/s]\n"
     ]
    },
    {
     "name": "stdout",
     "output_type": "stream",
     "text": [
      "[Epoch 1] Avg semantic log-likelihood: -1324.4073\n",
      "Epoch 2/3\n"
     ]
    },
    {
     "name": "stderr",
     "output_type": "stream",
     "text": [
      "100%|██████████| 25000/25000 [00:33<00:00, 745.60it/s]\n"
     ]
    },
    {
     "name": "stdout",
     "output_type": "stream",
     "text": [
      "[Epoch 2] Avg semantic log-likelihood: -957.4822\n",
      "Epoch 3/3\n"
     ]
    },
    {
     "name": "stderr",
     "output_type": "stream",
     "text": [
      "100%|██████████| 25000/25000 [00:35<00:00, 708.13it/s]\n"
     ]
    },
    {
     "name": "stdout",
     "output_type": "stream",
     "text": [
      "[Epoch 3] Avg semantic log-likelihood: -949.1943\n",
      "Epoch 1/3\n"
     ]
    },
    {
     "name": "stderr",
     "output_type": "stream",
     "text": [
      "100%|██████████| 25000/25000 [00:35<00:00, 713.79it/s]\n"
     ]
    },
    {
     "name": "stdout",
     "output_type": "stream",
     "text": [
      "[Epoch 1] Avg semantic log-likelihood: -1324.4062\n",
      "Epoch 2/3\n"
     ]
    },
    {
     "name": "stderr",
     "output_type": "stream",
     "text": [
      "100%|██████████| 25000/25000 [00:35<00:00, 712.08it/s]\n"
     ]
    },
    {
     "name": "stdout",
     "output_type": "stream",
     "text": [
      "[Epoch 2] Avg semantic log-likelihood: -957.4830\n",
      "Epoch 3/3\n"
     ]
    },
    {
     "name": "stderr",
     "output_type": "stream",
     "text": [
      "100%|██████████| 25000/25000 [00:34<00:00, 729.88it/s]\n"
     ]
    },
    {
     "name": "stdout",
     "output_type": "stream",
     "text": [
      "[Epoch 3] Avg semantic log-likelihood: -949.2041\n",
      "Epoch 1/3\n"
     ]
    },
    {
     "name": "stderr",
     "output_type": "stream",
     "text": [
      "100%|██████████| 25000/25000 [00:36<00:00, 687.11it/s]\n"
     ]
    },
    {
     "name": "stdout",
     "output_type": "stream",
     "text": [
      "[Epoch 1] Avg semantic log-likelihood: -1324.4074\n",
      "Epoch 2/3\n"
     ]
    },
    {
     "name": "stderr",
     "output_type": "stream",
     "text": [
      "100%|██████████| 25000/25000 [00:36<00:00, 684.36it/s]\n"
     ]
    },
    {
     "name": "stdout",
     "output_type": "stream",
     "text": [
      "[Epoch 2] Avg semantic log-likelihood: -957.4839\n",
      "Epoch 3/3\n"
     ]
    },
    {
     "name": "stderr",
     "output_type": "stream",
     "text": [
      "100%|██████████| 25000/25000 [00:37<00:00, 663.98it/s]\n"
     ]
    },
    {
     "name": "stdout",
     "output_type": "stream",
     "text": [
      "[Epoch 3] Avg semantic log-likelihood: -949.2103\n",
      "Epoch 1/3\n"
     ]
    },
    {
     "name": "stderr",
     "output_type": "stream",
     "text": [
      "100%|██████████| 25000/25000 [00:37<00:00, 675.28it/s]\n"
     ]
    },
    {
     "name": "stdout",
     "output_type": "stream",
     "text": [
      "[Epoch 1] Avg semantic log-likelihood: -1324.4104\n",
      "Epoch 2/3\n"
     ]
    },
    {
     "name": "stderr",
     "output_type": "stream",
     "text": [
      "100%|██████████| 25000/25000 [00:37<00:00, 674.71it/s]\n"
     ]
    },
    {
     "name": "stdout",
     "output_type": "stream",
     "text": [
      "[Epoch 2] Avg semantic log-likelihood: -957.4864\n",
      "Epoch 3/3\n"
     ]
    },
    {
     "name": "stderr",
     "output_type": "stream",
     "text": [
      "100%|██████████| 25000/25000 [00:36<00:00, 681.61it/s]\n"
     ]
    },
    {
     "name": "stdout",
     "output_type": "stream",
     "text": [
      "[Epoch 3] Avg semantic log-likelihood: -949.2264\n",
      "Epoch 1/3\n"
     ]
    },
    {
     "name": "stderr",
     "output_type": "stream",
     "text": [
      "100%|██████████| 25000/25000 [00:36<00:00, 678.50it/s]\n"
     ]
    },
    {
     "name": "stdout",
     "output_type": "stream",
     "text": [
      "[Epoch 1] Avg semantic log-likelihood: -1324.4083\n",
      "Epoch 2/3\n"
     ]
    },
    {
     "name": "stderr",
     "output_type": "stream",
     "text": [
      "100%|██████████| 25000/25000 [00:36<00:00, 680.93it/s]\n"
     ]
    },
    {
     "name": "stdout",
     "output_type": "stream",
     "text": [
      "[Epoch 2] Avg semantic log-likelihood: -957.4846\n",
      "Epoch 3/3\n"
     ]
    },
    {
     "name": "stderr",
     "output_type": "stream",
     "text": [
      "100%|██████████| 25000/25000 [00:36<00:00, 686.08it/s]\n"
     ]
    },
    {
     "name": "stdout",
     "output_type": "stream",
     "text": [
      "[Epoch 3] Avg semantic log-likelihood: -949.2110\n",
      "Epoch 1/3\n"
     ]
    },
    {
     "name": "stderr",
     "output_type": "stream",
     "text": [
      "100%|██████████| 25000/25000 [00:36<00:00, 692.28it/s]\n"
     ]
    },
    {
     "name": "stdout",
     "output_type": "stream",
     "text": [
      "[Epoch 1] Avg semantic log-likelihood: -1324.4066\n",
      "Epoch 2/3\n"
     ]
    },
    {
     "name": "stderr",
     "output_type": "stream",
     "text": [
      "100%|██████████| 25000/25000 [00:37<00:00, 671.29it/s]\n"
     ]
    },
    {
     "name": "stdout",
     "output_type": "stream",
     "text": [
      "[Epoch 2] Avg semantic log-likelihood: -957.4816\n",
      "Epoch 3/3\n"
     ]
    },
    {
     "name": "stderr",
     "output_type": "stream",
     "text": [
      "100%|██████████| 25000/25000 [00:36<00:00, 683.34it/s]\n"
     ]
    },
    {
     "name": "stdout",
     "output_type": "stream",
     "text": [
      "[Epoch 3] Avg semantic log-likelihood: -949.1913\n",
      "Epoch 1/3\n"
     ]
    },
    {
     "name": "stderr",
     "output_type": "stream",
     "text": [
      "100%|██████████| 25000/25000 [00:36<00:00, 683.99it/s]\n"
     ]
    },
    {
     "name": "stdout",
     "output_type": "stream",
     "text": [
      "[Epoch 1] Avg semantic log-likelihood: -1324.4079\n",
      "Epoch 2/3\n"
     ]
    },
    {
     "name": "stderr",
     "output_type": "stream",
     "text": [
      "100%|██████████| 25000/25000 [00:38<00:00, 656.72it/s]\n"
     ]
    },
    {
     "name": "stdout",
     "output_type": "stream",
     "text": [
      "[Epoch 2] Avg semantic log-likelihood: -957.4891\n",
      "Epoch 3/3\n"
     ]
    },
    {
     "name": "stderr",
     "output_type": "stream",
     "text": [
      "100%|██████████| 25000/25000 [00:36<00:00, 678.26it/s]\n"
     ]
    },
    {
     "name": "stdout",
     "output_type": "stream",
     "text": [
      "[Epoch 3] Avg semantic log-likelihood: -949.2544\n",
      "\n",
      "Generation 9, Best score: -949.6318\n",
      "Best individual: {'beta': 100, 'lambda_reg': 0.0001, 'nu_reg': 0.0001, 'learning_rate': 0.001}\n",
      "\n",
      "Epoch 1/3\n"
     ]
    },
    {
     "name": "stderr",
     "output_type": "stream",
     "text": [
      "100%|██████████| 25000/25000 [00:37<00:00, 671.92it/s]\n"
     ]
    },
    {
     "name": "stdout",
     "output_type": "stream",
     "text": [
      "[Epoch 1] Avg semantic log-likelihood: -1324.4057\n",
      "Epoch 2/3\n"
     ]
    },
    {
     "name": "stderr",
     "output_type": "stream",
     "text": [
      "100%|██████████| 25000/25000 [00:37<00:00, 669.12it/s]\n"
     ]
    },
    {
     "name": "stdout",
     "output_type": "stream",
     "text": [
      "[Epoch 2] Avg semantic log-likelihood: -957.4812\n",
      "Epoch 3/3\n"
     ]
    },
    {
     "name": "stderr",
     "output_type": "stream",
     "text": [
      "100%|██████████| 25000/25000 [00:36<00:00, 676.37it/s]\n"
     ]
    },
    {
     "name": "stdout",
     "output_type": "stream",
     "text": [
      "[Epoch 3] Avg semantic log-likelihood: -949.1918\n",
      "Epoch 1/3\n"
     ]
    },
    {
     "name": "stderr",
     "output_type": "stream",
     "text": [
      "100%|██████████| 25000/25000 [00:37<00:00, 673.00it/s]\n"
     ]
    },
    {
     "name": "stdout",
     "output_type": "stream",
     "text": [
      "[Epoch 1] Avg semantic log-likelihood: -1324.4094\n",
      "Epoch 2/3\n"
     ]
    },
    {
     "name": "stderr",
     "output_type": "stream",
     "text": [
      "100%|██████████| 25000/25000 [00:36<00:00, 690.94it/s]\n"
     ]
    },
    {
     "name": "stdout",
     "output_type": "stream",
     "text": [
      "[Epoch 2] Avg semantic log-likelihood: -957.4853\n",
      "Epoch 3/3\n"
     ]
    },
    {
     "name": "stderr",
     "output_type": "stream",
     "text": [
      "100%|██████████| 25000/25000 [00:37<00:00, 673.64it/s]\n"
     ]
    },
    {
     "name": "stdout",
     "output_type": "stream",
     "text": [
      "[Epoch 3] Avg semantic log-likelihood: -949.2189\n",
      "Epoch 1/3\n"
     ]
    },
    {
     "name": "stderr",
     "output_type": "stream",
     "text": [
      "100%|██████████| 25000/25000 [00:36<00:00, 682.32it/s]\n"
     ]
    },
    {
     "name": "stdout",
     "output_type": "stream",
     "text": [
      "[Epoch 1] Avg semantic log-likelihood: -1324.4040\n",
      "Epoch 2/3\n"
     ]
    },
    {
     "name": "stderr",
     "output_type": "stream",
     "text": [
      "100%|██████████| 25000/25000 [00:36<00:00, 681.72it/s]\n"
     ]
    },
    {
     "name": "stdout",
     "output_type": "stream",
     "text": [
      "[Epoch 2] Avg semantic log-likelihood: -957.4802\n",
      "Epoch 3/3\n"
     ]
    },
    {
     "name": "stderr",
     "output_type": "stream",
     "text": [
      "100%|██████████| 25000/25000 [00:36<00:00, 676.63it/s]\n"
     ]
    },
    {
     "name": "stdout",
     "output_type": "stream",
     "text": [
      "[Epoch 3] Avg semantic log-likelihood: -949.1813\n",
      "Epoch 1/3\n"
     ]
    },
    {
     "name": "stderr",
     "output_type": "stream",
     "text": [
      "100%|██████████| 25000/25000 [00:36<00:00, 681.86it/s]\n"
     ]
    },
    {
     "name": "stdout",
     "output_type": "stream",
     "text": [
      "[Epoch 1] Avg semantic log-likelihood: -1324.4063\n",
      "Epoch 2/3\n"
     ]
    },
    {
     "name": "stderr",
     "output_type": "stream",
     "text": [
      "100%|██████████| 25000/25000 [00:36<00:00, 687.01it/s]\n"
     ]
    },
    {
     "name": "stdout",
     "output_type": "stream",
     "text": [
      "[Epoch 2] Avg semantic log-likelihood: -957.4833\n",
      "Epoch 3/3\n"
     ]
    },
    {
     "name": "stderr",
     "output_type": "stream",
     "text": [
      "100%|██████████| 25000/25000 [00:36<00:00, 678.72it/s]\n"
     ]
    },
    {
     "name": "stdout",
     "output_type": "stream",
     "text": [
      "[Epoch 3] Avg semantic log-likelihood: -949.2058\n",
      "Epoch 1/3\n"
     ]
    },
    {
     "name": "stderr",
     "output_type": "stream",
     "text": [
      "100%|██████████| 25000/25000 [00:36<00:00, 688.30it/s]\n"
     ]
    },
    {
     "name": "stdout",
     "output_type": "stream",
     "text": [
      "[Epoch 1] Avg semantic log-likelihood: -1324.4076\n",
      "Epoch 2/3\n"
     ]
    },
    {
     "name": "stderr",
     "output_type": "stream",
     "text": [
      "100%|██████████| 25000/25000 [00:37<00:00, 671.11it/s]\n"
     ]
    },
    {
     "name": "stdout",
     "output_type": "stream",
     "text": [
      "[Epoch 2] Avg semantic log-likelihood: -957.4839\n",
      "Epoch 3/3\n"
     ]
    },
    {
     "name": "stderr",
     "output_type": "stream",
     "text": [
      "100%|██████████| 25000/25000 [00:36<00:00, 683.38it/s]\n"
     ]
    },
    {
     "name": "stdout",
     "output_type": "stream",
     "text": [
      "[Epoch 3] Avg semantic log-likelihood: -949.2091\n",
      "Epoch 1/3\n"
     ]
    },
    {
     "name": "stderr",
     "output_type": "stream",
     "text": [
      "100%|██████████| 25000/25000 [00:38<00:00, 655.69it/s]\n"
     ]
    },
    {
     "name": "stdout",
     "output_type": "stream",
     "text": [
      "[Epoch 1] Avg semantic log-likelihood: -1324.4064\n",
      "Epoch 2/3\n"
     ]
    },
    {
     "name": "stderr",
     "output_type": "stream",
     "text": [
      "100%|██████████| 25000/25000 [00:36<00:00, 676.74it/s]\n"
     ]
    },
    {
     "name": "stdout",
     "output_type": "stream",
     "text": [
      "[Epoch 2] Avg semantic log-likelihood: -957.4819\n",
      "Epoch 3/3\n"
     ]
    },
    {
     "name": "stderr",
     "output_type": "stream",
     "text": [
      "100%|██████████| 25000/25000 [00:36<00:00, 680.63it/s]\n"
     ]
    },
    {
     "name": "stdout",
     "output_type": "stream",
     "text": [
      "[Epoch 3] Avg semantic log-likelihood: -949.1954\n",
      "Epoch 1/3\n"
     ]
    },
    {
     "name": "stderr",
     "output_type": "stream",
     "text": [
      "100%|██████████| 25000/25000 [00:36<00:00, 690.08it/s]\n"
     ]
    },
    {
     "name": "stdout",
     "output_type": "stream",
     "text": [
      "[Epoch 1] Avg semantic log-likelihood: -1324.4073\n",
      "Epoch 2/3\n"
     ]
    },
    {
     "name": "stderr",
     "output_type": "stream",
     "text": [
      "100%|██████████| 25000/25000 [00:36<00:00, 685.49it/s]\n"
     ]
    },
    {
     "name": "stdout",
     "output_type": "stream",
     "text": [
      "[Epoch 2] Avg semantic log-likelihood: -957.4856\n",
      "Epoch 3/3\n"
     ]
    },
    {
     "name": "stderr",
     "output_type": "stream",
     "text": [
      "100%|██████████| 25000/25000 [00:37<00:00, 666.69it/s]\n"
     ]
    },
    {
     "name": "stdout",
     "output_type": "stream",
     "text": [
      "[Epoch 3] Avg semantic log-likelihood: -949.2253\n",
      "Epoch 1/3\n"
     ]
    },
    {
     "name": "stderr",
     "output_type": "stream",
     "text": [
      "100%|██████████| 25000/25000 [00:38<00:00, 656.69it/s]\n"
     ]
    },
    {
     "name": "stdout",
     "output_type": "stream",
     "text": [
      "[Epoch 1] Avg semantic log-likelihood: -1324.2754\n",
      "Epoch 2/3\n"
     ]
    },
    {
     "name": "stderr",
     "output_type": "stream",
     "text": [
      "100%|██████████| 25000/25000 [00:37<00:00, 658.44it/s]\n"
     ]
    },
    {
     "name": "stdout",
     "output_type": "stream",
     "text": [
      "[Epoch 2] Avg semantic log-likelihood: -1594.8655\n",
      "Epoch 3/3\n"
     ]
    },
    {
     "name": "stderr",
     "output_type": "stream",
     "text": [
      "100%|██████████| 25000/25000 [00:40<00:00, 609.88it/s]\n"
     ]
    },
    {
     "name": "stdout",
     "output_type": "stream",
     "text": [
      "[Epoch 3] Avg semantic log-likelihood: -3150.3703\n",
      "Epoch 1/3\n"
     ]
    },
    {
     "name": "stderr",
     "output_type": "stream",
     "text": [
      "100%|██████████| 25000/25000 [00:37<00:00, 675.09it/s]\n"
     ]
    },
    {
     "name": "stdout",
     "output_type": "stream",
     "text": [
      "[Epoch 1] Avg semantic log-likelihood: -1324.4049\n",
      "Epoch 2/3\n"
     ]
    },
    {
     "name": "stderr",
     "output_type": "stream",
     "text": [
      "100%|██████████| 25000/25000 [00:36<00:00, 681.19it/s]\n"
     ]
    },
    {
     "name": "stdout",
     "output_type": "stream",
     "text": [
      "[Epoch 2] Avg semantic log-likelihood: -957.4810\n",
      "Epoch 3/3\n"
     ]
    },
    {
     "name": "stderr",
     "output_type": "stream",
     "text": [
      "100%|██████████| 25000/25000 [00:37<00:00, 673.16it/s]\n"
     ]
    },
    {
     "name": "stdout",
     "output_type": "stream",
     "text": [
      "[Epoch 3] Avg semantic log-likelihood: -949.1863\n",
      "Epoch 1/3\n"
     ]
    },
    {
     "name": "stderr",
     "output_type": "stream",
     "text": [
      "100%|██████████| 25000/25000 [00:37<00:00, 671.14it/s]\n"
     ]
    },
    {
     "name": "stdout",
     "output_type": "stream",
     "text": [
      "[Epoch 1] Avg semantic log-likelihood: -1324.4075\n",
      "Epoch 2/3\n"
     ]
    },
    {
     "name": "stderr",
     "output_type": "stream",
     "text": [
      "100%|██████████| 25000/25000 [00:37<00:00, 660.37it/s]\n"
     ]
    },
    {
     "name": "stdout",
     "output_type": "stream",
     "text": [
      "[Epoch 2] Avg semantic log-likelihood: -957.4833\n",
      "Epoch 3/3\n"
     ]
    },
    {
     "name": "stderr",
     "output_type": "stream",
     "text": [
      "100%|██████████| 25000/25000 [00:36<00:00, 691.41it/s]\n"
     ]
    },
    {
     "name": "stdout",
     "output_type": "stream",
     "text": [
      "[Epoch 3] Avg semantic log-likelihood: -949.2018\n",
      "\n",
      "Generation 10, Best score: -949.6247\n",
      "Best individual: {'beta': 100, 'lambda_reg': 0.0001, 'nu_reg': 0.0001, 'learning_rate': 0.001}\n",
      "\n",
      "Best individual: ({'beta': 100, 'lambda_reg': 0.0001, 'nu_reg': 0.0001, 'learning_rate': 0.001}, np.float64(-949.6247132291654))\n"
     ]
    }
   ],
   "source": [
    "# Espace de recherche des hyperparamètres\n",
    "param_space = {\n",
    "    'beta': [25, 50, 75, 100],\n",
    "    'lambda_reg': [1e-4, 1e-3, 1e-2, 1e-1],\n",
    "    'nu_reg': [1e-5, 1e-4, 1e-3, 1e-2],\n",
    "    'learning_rate': [0.001, 0.005, 0.01, 0.05],\n",
    "}\n",
    "\n",
    "# Génère un individu\n",
    "def generate_individual():\n",
    "    return {\n",
    "        'beta': random.choice(param_space['beta']),\n",
    "        'lambda_reg': random.choice(param_space['lambda_reg']),\n",
    "        'nu_reg': random.choice(param_space['nu_reg']),\n",
    "        'learning_rate': random.choice(param_space['learning_rate']),\n",
    "    }\n",
    "\n",
    "# Évalue un individu (doit appeler ton modèle ici)\n",
    "def evaluate(individual, vocab, text):\n",
    "    model = Model(\n",
    "        beta=individual['beta'],\n",
    "        lambda_reg=individual['lambda_reg'],\n",
    "        nu_reg=individual['nu_reg'],\n",
    "        learning_rate=individual['learning_rate']\n",
    "    )\n",
    "    model.train(vocab, text, epochs=3)\n",
    "    return model.compute_objective()  # À maximiser\n",
    "\n",
    "# Crossover\n",
    "def crossover(parent1, parent2):\n",
    "    child = {}\n",
    "    for key in parent1:\n",
    "        child[key] = random.choice([parent1[key], parent2[key]])\n",
    "    return child\n",
    "\n",
    "# Mutation\n",
    "def mutate(individual, mutation_rate=0.1):\n",
    "    for key in individual:\n",
    "        if random.random() < mutation_rate:\n",
    "            individual[key] = random.choice(param_space[key])\n",
    "    return individual\n",
    "\n",
    "# Algorithme principal\n",
    "def genetic_search(vocab, text, generations=10, population_size=10):\n",
    "    population = [generate_individual() for _ in range(population_size)]\n",
    "    \n",
    "    for generation in range(generations):\n",
    "        scored = [(ind, evaluate(ind, vocab, text)) for ind in population]\n",
    "        scored.sort(key=lambda x: x[1], reverse=True)  # Maximize objective\n",
    "\n",
    "        print(f\"\\nGeneration {generation + 1}, Best score: {scored[0][1]:.4f}\")\n",
    "        print(f\"Best individual: {scored[0][0]}\\n\")\n",
    "\n",
    "        survivors = [ind for ind, _ in scored[:population_size // 2]]\n",
    "\n",
    "        # Reproduction\n",
    "        next_gen = survivors.copy()\n",
    "        while len(next_gen) < population_size:\n",
    "            parents = random.sample(survivors, 2)\n",
    "            child = mutate(crossover(parents[0], parents[1]))\n",
    "            next_gen.append(child)\n",
    "\n",
    "        population = next_gen\n",
    "\n",
    "    return scored[0]\n",
    "\n",
    "best = genetic_search(vocab, df.iloc[:len_train][\"filtered_text\"], generations=10, population_size=10)\n",
    "print(f\"Best individual: {best}\")"
   ]
  },
  {
   "cell_type": "code",
   "execution_count": 22,
   "id": "03a357e5",
   "metadata": {},
   "outputs": [
    {
     "data": {
      "text/plain": [
       "({'beta': 100, 'lambda_reg': 0.0001, 'nu_reg': 0.0001, 'learning_rate': 0.001},\n",
       " np.float64(-949.6247132291654))"
      ]
     },
     "execution_count": 22,
     "metadata": {},
     "output_type": "execute_result"
    }
   ],
   "source": [
    "best"
   ]
  },
  {
   "cell_type": "code",
   "execution_count": 23,
   "id": "3b0a0dab",
   "metadata": {},
   "outputs": [
    {
     "name": "stdout",
     "output_type": "stream",
     "text": [
      "Epoch 1/3\n"
     ]
    },
    {
     "name": "stderr",
     "output_type": "stream",
     "text": [
      "100%|██████████| 25000/25000 [00:36<00:00, 685.69it/s]\n"
     ]
    },
    {
     "name": "stdout",
     "output_type": "stream",
     "text": [
      "[Epoch 1] Avg semantic log-likelihood: -1324.4088\n",
      "Epoch 2/3\n"
     ]
    },
    {
     "name": "stderr",
     "output_type": "stream",
     "text": [
      "100%|██████████| 25000/25000 [00:36<00:00, 687.20it/s]\n"
     ]
    },
    {
     "name": "stdout",
     "output_type": "stream",
     "text": [
      "[Epoch 2] Avg semantic log-likelihood: -957.4850\n",
      "Epoch 3/3\n"
     ]
    },
    {
     "name": "stderr",
     "output_type": "stream",
     "text": [
      "100%|██████████| 25000/25000 [00:36<00:00, 687.66it/s]\n"
     ]
    },
    {
     "name": "stdout",
     "output_type": "stream",
     "text": [
      "[Epoch 3] Avg semantic log-likelihood: -949.2149\n"
     ]
    },
    {
     "data": {
      "text/plain": [
       "np.float64(-949.6580182020165)"
      ]
     },
     "execution_count": 23,
     "metadata": {},
     "output_type": "execute_result"
    }
   ],
   "source": [
    "model = Model(\n",
    "    beta= best[0]['beta'], \n",
    "    lambda_reg = best[0]['lambda_reg'], \n",
    "    nu_reg = best[0]['nu_reg'], \n",
    "    learning_rate = best[0]['learning_rate']\n",
    ")\n",
    "model.train(vocab, df.iloc[:len_train][\"filtered_text\"], epochs=3)\n",
    "model.compute_objective()"
   ]
  },
  {
   "cell_type": "markdown",
   "id": "a3fd931d",
   "metadata": {},
   "source": [
    "# Modèle pout la classification supervisé (avec EarlyStop et Logisitique Regression, basé sur les hyperparamètres de l'algorithme génétique)"
   ]
  },
  {
   "cell_type": "code",
   "execution_count": null,
   "id": "8224701e",
   "metadata": {},
   "outputs": [],
   "source": [
    "class ModelWithEarlyStopping:\n",
    "    def __init__(self, lambda_reg=0.1, nu_reg=0.1, learning_rate=0.01, beta=10, alpha_sup=1.0, vocab=None):\n",
    "        self.lambda_reg = lambda_reg\n",
    "        self.nu_reg = nu_reg\n",
    "        self.learning_rate = learning_rate\n",
    "        self.beta = beta\n",
    "        self.alpha_sup = alpha_sup  # pondération du terme supervisé\n",
    "        self.vocab = vocab\n",
    "\n",
    "    def train(self, filtered_texts, vocab=None, earlyStop=3, max_epochs=100):\n",
    "        if vocab:\n",
    "            self.vocab = vocab  # pour usage futur\n",
    "        vocab = self.vocab\n",
    "        vectorizer = CountVectorizer(vocabulary=list(vocab))\n",
    "        X = vectorizer.fit_transform(filtered_texts).toarray()\n",
    "        \n",
    "        self.vectorizer = vectorizer\n",
    "\n",
    "        n_docs, vocab_size = X.shape\n",
    "        self.R = np.random.normal(0, 0.01, size=(self.beta, vocab_size))\n",
    "        self.b = np.zeros(vocab_size)\n",
    "        theta = np.random.normal(0, 0.01, size=(n_docs, self.beta))\n",
    "\n",
    "        best_avg_ll = float('-inf')\n",
    "        best_params = {}\n",
    "        no_improve_count = 0\n",
    "\n",
    "        for epoch in range(max_epochs):\n",
    "            print(f\"Epoch {epoch + 1}/{max_epochs}\")\n",
    "            total_log_likelihood = 0.0\n",
    "\n",
    "            for k in range(n_docs):\n",
    "                x_k = X[k]\n",
    "                if x_k.sum() == 0:\n",
    "                    continue\n",
    "\n",
    "                for _ in range(3):\n",
    "                    probs = softmax_probs(theta[k], self.R, self.b)\n",
    "                    grad_theta = self.R @ (x_k - probs * x_k.sum()) - self.lambda_reg * theta[k]\n",
    "                    theta[k] += self.learning_rate * grad_theta\n",
    "\n",
    "                log_probs = np.dot(x_k, np.log(probs + 1e-9))\n",
    "                total_log_likelihood += log_probs\n",
    "\n",
    "            for k in range(n_docs):\n",
    "                x_k = X[k]\n",
    "                if x_k.sum() == 0:\n",
    "                    continue\n",
    "                probs = softmax_probs(theta[k], self.R, self.b)\n",
    "                err = x_k - probs * x_k.sum()\n",
    "                grad_R = np.outer(theta[k], err)\n",
    "                grad_b = err\n",
    "\n",
    "                self.R += self.learning_rate * (grad_R - self.nu_reg * self.R)\n",
    "                self.b += self.learning_rate * grad_b\n",
    "\n",
    "            avg_ll = total_log_likelihood / n_docs\n",
    "            print(f\"[Epoch {epoch+1}] Avg semantic log-likelihood: {avg_ll:.4f}\")\n",
    "\n",
    "            if avg_ll > best_avg_ll + 1e-4:\n",
    "                best_avg_ll = avg_ll\n",
    "                best_params = {\n",
    "                    'R': self.R.copy(),\n",
    "                    'b': self.b.copy(),\n",
    "                    'theta': theta.copy()\n",
    "                }\n",
    "                no_improve_count = 0\n",
    "            else:\n",
    "                no_improve_count += 1\n",
    "                if no_improve_count >= earlyStop:\n",
    "                    print(f\"Early stopping at epoch {epoch+1}. Best avg log-likelihood: {best_avg_ll:.4f}\")\n",
    "                    break\n",
    "\n",
    "        self.R = best_params['R']\n",
    "        self.b = best_params['b']\n",
    "        self.theta = best_params['theta']\n",
    "        self.avg_log_likelihood = best_avg_ll\n",
    "\n",
    "    def train_classifier(self, y):\n",
    "        \"\"\"\n",
    "        Entraîne une régression logistique binaire sur les vecteurs theta_k appris.\n",
    "        \"\"\"\n",
    "        assert hasattr(self, 'theta'), \"Train the model first to get theta.\"\n",
    "        self.classifier = LinearSVC()\n",
    "        self.classifier.fit(self.theta, y)\n",
    "        print(\"Régression logistique entraînée.\")\n",
    "\n",
    "    def fit(self, filtered_texts, y, vocab=None, earlyStop=3, max_epochs=100):\n",
    "        \"\"\"\n",
    "        Entraîne le modèle et la régression logistique sur les textes filtrés et les labels.\n",
    "        \"\"\"\n",
    "        self.train(filtered_texts, vocab, earlyStop, max_epochs)\n",
    "        self.train_classifier(y)\n",
    "\n",
    "    def predict(self, filtered_texts):\n",
    "        \"\"\"\n",
    "        Prédit les labels binaires pour de nouveaux textes.\n",
    "        \"\"\"\n",
    "        assert hasattr(self, 'classifier'), \"Train the classifier first.\"\n",
    "        X = self.vectorizer.transform(filtered_texts).toarray()\n",
    "        n_docs = X.shape[0]\n",
    "        theta = np.zeros((n_docs, self.beta))\n",
    "\n",
    "        for k in range(n_docs):\n",
    "            x_k = X[k]\n",
    "            if x_k.sum() == 0:\n",
    "                continue\n",
    "            theta_k = np.zeros(self.beta)\n",
    "            for _ in range(3):\n",
    "                probs = softmax_probs(theta_k, self.R, self.b)\n",
    "                grad_theta = self.R @ (x_k - probs * x_k.sum()) - self.lambda_reg * theta_k\n",
    "                theta_k += self.learning_rate * grad_theta\n",
    "            theta[k] = theta_k\n",
    "\n",
    "        preds = self.classifier.predict(theta)\n",
    "        return preds\n",
    "\n",
    "    def compute_objective(self):\n",
    "        return self.avg_log_likelihood - self.lambda_reg * np.sum(self.R**2) - self.nu_reg * np.sum(self.b**2)\n"
   ]
  },
  {
   "cell_type": "code",
   "execution_count": 28,
   "id": "09d421ab",
   "metadata": {},
   "outputs": [
    {
     "name": "stdout",
     "output_type": "stream",
     "text": [
      "Epoch 1/100\n",
      "[Epoch 1] Avg semantic log-likelihood: -1324.4051\n",
      "Epoch 2/100\n",
      "[Epoch 2] Avg semantic log-likelihood: -957.4814\n",
      "Epoch 3/100\n",
      "[Epoch 3] Avg semantic log-likelihood: -949.1931\n",
      "Epoch 4/100\n",
      "[Epoch 4] Avg semantic log-likelihood: -945.7415\n",
      "Epoch 5/100\n",
      "[Epoch 5] Avg semantic log-likelihood: -943.3462\n",
      "Epoch 6/100\n",
      "[Epoch 6] Avg semantic log-likelihood: -941.0435\n",
      "Epoch 7/100\n",
      "[Epoch 7] Avg semantic log-likelihood: -938.3610\n",
      "Epoch 8/100\n",
      "[Epoch 8] Avg semantic log-likelihood: -935.9909\n",
      "Epoch 9/100\n",
      "[Epoch 9] Avg semantic log-likelihood: -933.8892\n",
      "Epoch 10/100\n",
      "[Epoch 10] Avg semantic log-likelihood: -931.4956\n",
      "Epoch 11/100\n",
      "[Epoch 11] Avg semantic log-likelihood: -929.2984\n",
      "Epoch 12/100\n",
      "[Epoch 12] Avg semantic log-likelihood: -927.2420\n",
      "Epoch 13/100\n",
      "[Epoch 13] Avg semantic log-likelihood: -925.1888\n",
      "Epoch 14/100\n",
      "[Epoch 14] Avg semantic log-likelihood: -923.1411\n",
      "Epoch 15/100\n",
      "[Epoch 15] Avg semantic log-likelihood: -921.1808\n",
      "Epoch 16/100\n",
      "[Epoch 16] Avg semantic log-likelihood: -919.1951\n",
      "Epoch 17/100\n",
      "[Epoch 17] Avg semantic log-likelihood: -917.1698\n",
      "Epoch 18/100\n",
      "[Epoch 18] Avg semantic log-likelihood: -915.1052\n",
      "Epoch 19/100\n",
      "[Epoch 19] Avg semantic log-likelihood: -913.0250\n",
      "Epoch 20/100\n",
      "[Epoch 20] Avg semantic log-likelihood: -910.9799\n",
      "Epoch 21/100\n",
      "[Epoch 21] Avg semantic log-likelihood: -908.8748\n",
      "Epoch 22/100\n",
      "[Epoch 22] Avg semantic log-likelihood: -906.8124\n",
      "Epoch 23/100\n",
      "[Epoch 23] Avg semantic log-likelihood: -904.7688\n",
      "Epoch 24/100\n",
      "[Epoch 24] Avg semantic log-likelihood: -902.7893\n",
      "Epoch 25/100\n",
      "[Epoch 25] Avg semantic log-likelihood: -900.8240\n",
      "Epoch 26/100\n",
      "[Epoch 26] Avg semantic log-likelihood: -898.8397\n",
      "Epoch 27/100\n",
      "[Epoch 27] Avg semantic log-likelihood: -896.8859\n",
      "Epoch 28/100\n",
      "[Epoch 28] Avg semantic log-likelihood: -895.0189\n",
      "Epoch 29/100\n",
      "[Epoch 29] Avg semantic log-likelihood: -893.0637\n",
      "Epoch 30/100\n",
      "[Epoch 30] Avg semantic log-likelihood: -891.2349\n",
      "Epoch 31/100\n",
      "[Epoch 31] Avg semantic log-likelihood: -889.4169\n",
      "Epoch 32/100\n",
      "[Epoch 32] Avg semantic log-likelihood: -887.6719\n",
      "Epoch 33/100\n",
      "[Epoch 33] Avg semantic log-likelihood: -885.9352\n",
      "Epoch 34/100\n",
      "[Epoch 34] Avg semantic log-likelihood: -884.2478\n",
      "Epoch 35/100\n",
      "[Epoch 35] Avg semantic log-likelihood: -882.5924\n",
      "Epoch 36/100\n",
      "[Epoch 36] Avg semantic log-likelihood: -881.0410\n",
      "Epoch 37/100\n",
      "[Epoch 37] Avg semantic log-likelihood: -879.4455\n",
      "Epoch 38/100\n",
      "[Epoch 38] Avg semantic log-likelihood: -877.9413\n",
      "Epoch 39/100\n",
      "[Epoch 39] Avg semantic log-likelihood: -876.5253\n",
      "Epoch 40/100\n",
      "[Epoch 40] Avg semantic log-likelihood: -875.0941\n",
      "Epoch 41/100\n",
      "[Epoch 41] Avg semantic log-likelihood: -873.7877\n",
      "Epoch 42/100\n",
      "[Epoch 42] Avg semantic log-likelihood: -872.5209\n",
      "Epoch 43/100\n",
      "[Epoch 43] Avg semantic log-likelihood: -871.2266\n",
      "Epoch 44/100\n",
      "[Epoch 44] Avg semantic log-likelihood: -870.0437\n",
      "Epoch 45/100\n",
      "[Epoch 45] Avg semantic log-likelihood: -868.8396\n",
      "Epoch 46/100\n",
      "[Epoch 46] Avg semantic log-likelihood: -867.7715\n",
      "Epoch 47/100\n",
      "[Epoch 47] Avg semantic log-likelihood: -866.7372\n",
      "Epoch 48/100\n",
      "[Epoch 48] Avg semantic log-likelihood: -865.6791\n",
      "Epoch 49/100\n",
      "[Epoch 49] Avg semantic log-likelihood: -864.7037\n",
      "Epoch 50/100\n",
      "[Epoch 50] Avg semantic log-likelihood: -863.7545\n",
      "Epoch 51/100\n",
      "[Epoch 51] Avg semantic log-likelihood: -862.8780\n",
      "Epoch 52/100\n",
      "[Epoch 52] Avg semantic log-likelihood: -861.9870\n",
      "Epoch 53/100\n",
      "[Epoch 53] Avg semantic log-likelihood: -861.1392\n",
      "Epoch 54/100\n",
      "[Epoch 54] Avg semantic log-likelihood: -860.3448\n",
      "Epoch 55/100\n",
      "[Epoch 55] Avg semantic log-likelihood: -859.5471\n",
      "Epoch 56/100\n",
      "[Epoch 56] Avg semantic log-likelihood: -858.8123\n",
      "Epoch 57/100\n",
      "[Epoch 57] Avg semantic log-likelihood: -858.0671\n",
      "Epoch 58/100\n",
      "[Epoch 58] Avg semantic log-likelihood: -857.3312\n",
      "Epoch 59/100\n",
      "[Epoch 59] Avg semantic log-likelihood: -856.7045\n",
      "Epoch 60/100\n",
      "[Epoch 60] Avg semantic log-likelihood: -856.0474\n",
      "Epoch 61/100\n",
      "[Epoch 61] Avg semantic log-likelihood: -855.3415\n",
      "Epoch 62/100\n",
      "[Epoch 62] Avg semantic log-likelihood: -854.7115\n",
      "Epoch 63/100\n",
      "[Epoch 63] Avg semantic log-likelihood: -854.1006\n",
      "Epoch 64/100\n",
      "[Epoch 64] Avg semantic log-likelihood: -853.4718\n",
      "Epoch 65/100\n",
      "[Epoch 65] Avg semantic log-likelihood: -852.9119\n",
      "Epoch 66/100\n",
      "[Epoch 66] Avg semantic log-likelihood: -852.3361\n",
      "Epoch 67/100\n",
      "[Epoch 67] Avg semantic log-likelihood: -851.8013\n",
      "Epoch 68/100\n",
      "[Epoch 68] Avg semantic log-likelihood: -851.2409\n",
      "Epoch 69/100\n",
      "[Epoch 69] Avg semantic log-likelihood: -850.7123\n",
      "Epoch 70/100\n",
      "[Epoch 70] Avg semantic log-likelihood: -850.1757\n",
      "Epoch 71/100\n",
      "[Epoch 71] Avg semantic log-likelihood: -849.7225\n",
      "Epoch 72/100\n",
      "[Epoch 72] Avg semantic log-likelihood: -849.2428\n",
      "Epoch 73/100\n",
      "[Epoch 73] Avg semantic log-likelihood: -848.7102\n",
      "Epoch 74/100\n",
      "[Epoch 74] Avg semantic log-likelihood: -848.2250\n",
      "Epoch 75/100\n",
      "[Epoch 75] Avg semantic log-likelihood: -847.8079\n",
      "Epoch 76/100\n",
      "[Epoch 76] Avg semantic log-likelihood: -847.3113\n",
      "Epoch 77/100\n",
      "[Epoch 77] Avg semantic log-likelihood: -846.8944\n",
      "Epoch 78/100\n",
      "[Epoch 78] Avg semantic log-likelihood: -846.4975\n",
      "Epoch 79/100\n",
      "[Epoch 79] Avg semantic log-likelihood: -846.0685\n",
      "Epoch 80/100\n",
      "[Epoch 80] Avg semantic log-likelihood: -845.6040\n",
      "Epoch 81/100\n",
      "[Epoch 81] Avg semantic log-likelihood: -845.2193\n",
      "Epoch 82/100\n",
      "[Epoch 82] Avg semantic log-likelihood: -844.8181\n",
      "Epoch 83/100\n",
      "[Epoch 83] Avg semantic log-likelihood: -844.4488\n",
      "Epoch 84/100\n",
      "[Epoch 84] Avg semantic log-likelihood: -844.0380\n",
      "Epoch 85/100\n",
      "[Epoch 85] Avg semantic log-likelihood: -843.6693\n",
      "Epoch 86/100\n",
      "[Epoch 86] Avg semantic log-likelihood: -843.3171\n",
      "Epoch 87/100\n",
      "[Epoch 87] Avg semantic log-likelihood: -842.9361\n",
      "Epoch 88/100\n",
      "[Epoch 88] Avg semantic log-likelihood: -842.6209\n",
      "Epoch 89/100\n",
      "[Epoch 89] Avg semantic log-likelihood: -842.2393\n",
      "Epoch 90/100\n",
      "[Epoch 90] Avg semantic log-likelihood: -841.9022\n",
      "Epoch 91/100\n",
      "[Epoch 91] Avg semantic log-likelihood: -841.5861\n",
      "Epoch 92/100\n",
      "[Epoch 92] Avg semantic log-likelihood: -841.2334\n",
      "Epoch 93/100\n",
      "[Epoch 93] Avg semantic log-likelihood: -840.9613\n",
      "Epoch 94/100\n",
      "[Epoch 94] Avg semantic log-likelihood: -840.5968\n",
      "Epoch 95/100\n",
      "[Epoch 95] Avg semantic log-likelihood: -840.2770\n",
      "Epoch 96/100\n",
      "[Epoch 96] Avg semantic log-likelihood: -839.9925\n",
      "Epoch 97/100\n",
      "[Epoch 97] Avg semantic log-likelihood: -839.7179\n",
      "Epoch 98/100\n",
      "[Epoch 98] Avg semantic log-likelihood: -839.3861\n",
      "Epoch 99/100\n",
      "[Epoch 99] Avg semantic log-likelihood: -839.1615\n",
      "Epoch 100/100\n",
      "[Epoch 100] Avg semantic log-likelihood: -838.8198\n",
      "Régression logistique entraînée.\n"
     ]
    }
   ],
   "source": [
    "model = ModelWithEarlyStopping(\n",
    "    beta= best[0]['beta'], \n",
    "    lambda_reg = best[0]['lambda_reg'], \n",
    "    nu_reg = best[0]['nu_reg'], \n",
    "    learning_rate = best[0]['learning_rate'],\n",
    "    vocab=vocab\n",
    ")\n",
    "model.fit(df.iloc[:len_train][\"filtered_text\"], df.iloc[:len_train][\"label\"])"
   ]
  },
  {
   "cell_type": "code",
   "execution_count": 29,
   "id": "5781955d",
   "metadata": {},
   "outputs": [],
   "source": [
    "with open('model.pkl', 'wb') as f:\n",
    "    pickle.dump(model, f)"
   ]
  },
  {
   "cell_type": "code",
   "execution_count": 44,
   "id": "a37c7e2a",
   "metadata": {},
   "outputs": [],
   "source": [
    "with open('model.pkl', 'rb') as f:\n",
    "    model = pickle.load(f)"
   ]
  },
  {
   "cell_type": "code",
   "execution_count": 60,
   "id": "2aa5ff55",
   "metadata": {},
   "outputs": [
    {
     "name": "stdout",
     "output_type": "stream",
     "text": [
      "Log-likelihood: -844.5055963099514\n",
      "              precision    recall  f1-score   support\n",
      "\n",
      "         neg       0.62      0.98      0.76     12500\n",
      "         pos       0.95      0.39      0.55     12500\n",
      "\n",
      "    accuracy                           0.68     25000\n",
      "   macro avg       0.78      0.68      0.65     25000\n",
      "weighted avg       0.78      0.68      0.65     25000\n",
      "\n"
     ]
    }
   ],
   "source": [
    "print(\"Log-likelihood:\", model.compute_objective())\n",
    "preds = model.predict(df[\"filtered_text\"].iloc[len_train:])\n",
    "print(classification_report(df[\"label\"].iloc[len_train:], preds, target_names=[\"neg\", \"pos\"]))"
   ]
  },
  {
   "cell_type": "code",
   "execution_count": 100,
   "id": "2665811d",
   "metadata": {},
   "outputs": [
    {
     "name": "stdout",
     "output_type": "stream",
     "text": [
      "Predicted: pos, Actual: pos, Text: LACKAWANNA BLUES is a fine stage play by Ruben Santiago-Hudson and an even finer film as the author ...\n"
     ]
    }
   ],
   "source": [
    "row = df.iloc[random.choice(range(len_train, len_train + len_test))]\n",
    "pred = model.predict([row[\"filtered_text\"]])[0]\n",
    "print(f\"Predicted: {\"pos\" if pred == 1 else \"neg\"}, Actual: {\"pos\" if row['label'] == 1 else \"neg\"}, Text: {row['text'][:100]}...\")"
   ]
  },
  {
   "cell_type": "markdown",
   "id": "4003ea0b",
   "metadata": {},
   "source": [
    "## Comparaison des performances avec d'autres approches"
   ]
  },
  {
   "cell_type": "code",
   "execution_count": 49,
   "id": "d80df492",
   "metadata": {},
   "outputs": [],
   "source": [
    "vectorizer = CountVectorizer(vocabulary=list(vocab))\n",
    "X = vectorizer.transform(df[\"filtered_text\"])\n",
    "X = X.toarray()  # shape: (n_docs, vocab_size)\n",
    "\n",
    "X_train = X[:len_train]\n",
    "X_test = X[len_train:]\n",
    "y_train = df[\"label\"].values[:len_train]\n",
    "y_test = df[\"label\"].values[len_train:]"
   ]
  },
  {
   "cell_type": "markdown",
   "id": "951f42d8",
   "metadata": {},
   "source": [
    "#### Bag of words"
   ]
  },
  {
   "cell_type": "code",
   "execution_count": 50,
   "id": "f552fb8a",
   "metadata": {},
   "outputs": [
    {
     "name": "stdout",
     "output_type": "stream",
     "text": [
      "[BoW] Accuracy: 0.8174\n"
     ]
    }
   ],
   "source": [
    "clf = LinearSVC()\n",
    "clf.fit(X_train, y_train)\n",
    "y_pred = clf.predict(X_test)\n",
    "print(f\"[BoW] Accuracy: {accuracy_score(y_test, y_pred):.4f}\")"
   ]
  },
  {
   "cell_type": "markdown",
   "id": "5066ef2c",
   "metadata": {},
   "source": [
    "#### LSA"
   ]
  },
  {
   "cell_type": "code",
   "execution_count": 51,
   "id": "88b1a6aa",
   "metadata": {},
   "outputs": [
    {
     "name": "stdout",
     "output_type": "stream",
     "text": [
      "[LSA] Accuracy: 0.7668\n"
     ]
    }
   ],
   "source": [
    "svd = TruncatedSVD(n_components=100)\n",
    "X_lsa_train = svd.fit_transform(X_train)\n",
    "X_lsa_test = svd.transform(X_test)\n",
    "\n",
    "clf = LinearSVC()\n",
    "clf.fit(X_lsa_train, y_train)\n",
    "y_pred = clf.predict(X_lsa_test)\n",
    "print(f\"[LSA] Accuracy: {accuracy_score(y_test, y_pred):.4f}\")"
   ]
  },
  {
   "cell_type": "markdown",
   "id": "e587ffa6",
   "metadata": {},
   "source": [
    "#### LDA"
   ]
  },
  {
   "cell_type": "code",
   "execution_count": 52,
   "id": "4c073948",
   "metadata": {},
   "outputs": [
    {
     "name": "stdout",
     "output_type": "stream",
     "text": [
      "[LDA] Accuracy: 0.7942\n"
     ]
    }
   ],
   "source": [
    "lda = LatentDirichletAllocation(n_components=50, max_iter=10, random_state=42)\n",
    "X_lda_train = lda.fit_transform(X_train)\n",
    "X_lda_test = lda.transform(X_test)\n",
    "\n",
    "clf = LinearSVC()\n",
    "clf.fit(X_lda_train, y_train)\n",
    "y_pred = clf.predict(X_lda_test)\n",
    "print(f\"[LDA] Accuracy: {accuracy_score(y_test, y_pred):.4f}\")"
   ]
  },
  {
   "cell_type": "markdown",
   "id": "431ae082",
   "metadata": {},
   "source": [
    "Modèle sémantique seul"
   ]
  },
  {
   "cell_type": "code",
   "execution_count": 53,
   "id": "90d7fba7",
   "metadata": {},
   "outputs": [
    {
     "name": "stdout",
     "output_type": "stream",
     "text": [
      "[Semantic Only] Accuracy: 0.6711\n"
     ]
    }
   ],
   "source": [
    "def doc_features_from_R(X_data, R):\n",
    "    sums = X_data.sum(axis=1, keepdims=True)\n",
    "    sums[sums == 0] = 1  # évite division par zéro\n",
    "    return (X_data @ R.T) / sums\n",
    "\n",
    "X_r_train = doc_features_from_R(X_train, R)\n",
    "X_r_test = doc_features_from_R(X_test, R)\n",
    "\n",
    "clf = LinearSVC()\n",
    "clf.fit(X_r_train, y_train)\n",
    "y_pred = clf.predict(X_r_test)\n",
    "print(f\"[Semantic Only] Accuracy: {accuracy_score(y_test, y_pred):.4f}\")"
   ]
  },
  {
   "cell_type": "markdown",
   "id": "7028abdc",
   "metadata": {},
   "source": [
    "#### Modèle complet"
   ]
  },
  {
   "cell_type": "code",
   "execution_count": 54,
   "id": "eee6476d",
   "metadata": {},
   "outputs": [
    {
     "name": "stdout",
     "output_type": "stream",
     "text": [
      "[Semantic + Sentiment] Accuracy: 0.6711\n"
     ]
    }
   ],
   "source": [
    "def doc_sentiment_features(X_data, R, psi, bc):\n",
    "    feats = doc_features_from_R(X_data, R)\n",
    "    sentiment_score = expit(feats @ psi + bc).reshape(-1, 1)\n",
    "    return np.hstack([feats, sentiment_score])  # concat ψ info\n",
    "\n",
    "X_full_train = doc_sentiment_features(X_train, R, psi, bc)\n",
    "X_full_test = doc_sentiment_features(X_test, R, psi, bc)\n",
    "\n",
    "clf = LinearSVC()\n",
    "clf.fit(X_full_train, y_train)\n",
    "y_pred = clf.predict(X_full_test)\n",
    "print(f\"[Semantic + Sentiment] Accuracy: {accuracy_score(y_test, y_pred):.4f}\")"
   ]
  },
  {
   "cell_type": "markdown",
   "id": "3b8d73f3",
   "metadata": {},
   "source": [
    "#### Concat BoW et modèle sémantique seul"
   ]
  },
  {
   "cell_type": "code",
   "execution_count": 55,
   "id": "40af09ae",
   "metadata": {},
   "outputs": [
    {
     "name": "stdout",
     "output_type": "stream",
     "text": [
      "[Semantic + BoW] Accuracy: 0.8190\n"
     ]
    }
   ],
   "source": [
    "X_comb_train = np.hstack([X_r_train, X_train])\n",
    "X_comb_test = np.hstack([X_r_test, X_test])\n",
    "\n",
    "clf = LinearSVC()\n",
    "clf.fit(X_comb_train, y_train)\n",
    "y_pred = clf.predict(X_comb_test)\n",
    "print(f\"[Semantic + BoW] Accuracy: {accuracy_score(y_test, y_pred):.4f}\")"
   ]
  }
 ],
 "metadata": {
  "kernelspec": {
   "display_name": "Python 3",
   "language": "python",
   "name": "python3"
  },
  "language_info": {
   "codemirror_mode": {
    "name": "ipython",
    "version": 3
   },
   "file_extension": ".py",
   "mimetype": "text/x-python",
   "name": "python",
   "nbconvert_exporter": "python",
   "pygments_lexer": "ipython3",
   "version": "3.13.3"
  }
 },
 "nbformat": 4,
 "nbformat_minor": 5
}
