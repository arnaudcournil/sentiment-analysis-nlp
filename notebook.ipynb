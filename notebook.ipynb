{
 "cells": [
  {
   "cell_type": "markdown",
   "id": "1a840f7d",
   "metadata": {},
   "source": [
    "# Apprentissage de vecteurs de mots pour l’analyse de sentiments"
   ]
  },
  {
   "cell_type": "markdown",
   "id": "18acfdea",
   "metadata": {},
   "source": [
    "Ce notebook explore l’article Learning Word Vectors for Sentiment Analysis (Maas et al., 2011), qui introduit une méthode de plongement lexical supervisé intégrant des informations de polarité pour améliorer la classification de sentiments."
   ]
  },
  {
   "cell_type": "markdown",
   "id": "09bc0586",
   "metadata": {},
   "source": [
    "## Imports"
   ]
  },
  {
   "cell_type": "code",
   "execution_count": null,
   "id": "5548f878",
   "metadata": {},
   "outputs": [],
   "source": [
    "import os\n",
    "import re\n",
    "import random\n",
    "\n",
    "import pandas as pd\n",
    "import numpy as np\n",
    "import pickle\n",
    "from tqdm import tqdm\n",
    "\n",
    "from scipy.special import expit\n",
    "\n",
    "from sklearn.feature_extraction.text import CountVectorizer\n",
    "from sklearn.decomposition import TruncatedSVD\n",
    "from sklearn.decomposition import LatentDirichletAllocation\n",
    "from sklearn.svm import LinearSVC\n",
    "from sklearn.metrics import accuracy_score\n",
    "from sklearn.metrics import classification_report\n",
    "from sklearn.linear_model import LogisticRegression\n",
    "from scipy.sparse import hstack"
   ]
  },
  {
   "cell_type": "markdown",
   "id": "5bc2a885",
   "metadata": {},
   "source": [
    "## Pré-processing"
   ]
  },
  {
   "cell_type": "code",
   "execution_count": 16,
   "id": "96ee479d",
   "metadata": {},
   "outputs": [],
   "source": [
    "base_dir = \"aclImdb\"\n",
    "train_dir = os.path.join(base_dir, \"train\")\n",
    "test_dir = os.path.join(base_dir, \"test\")\n",
    "\n",
    "def load_reviews_from_dir(directory, label):\n",
    "    data = []\n",
    "    for fname in os.listdir(directory):\n",
    "        if fname.endswith(\".txt\"):\n",
    "            with open(os.path.join(directory, fname), encoding=\"utf-8\") as f:\n",
    "                text = f.read()\n",
    "                data.append((text, label))\n",
    "    return data\n",
    "\n",
    "def load_all_data():\n",
    "    train_pos = load_reviews_from_dir(os.path.join(train_dir, \"pos\"), 1)\n",
    "    train_neg = load_reviews_from_dir(os.path.join(train_dir, \"neg\"), 0)\n",
    "    test_pos  = load_reviews_from_dir(os.path.join(test_dir,  \"pos\"), 1)\n",
    "    test_neg  = load_reviews_from_dir(os.path.join(test_dir,  \"neg\"), 0)\n",
    "    return train_pos + train_neg + test_pos + test_neg, len(train_pos) + len(train_neg), len(test_pos) + len(test_neg)\n",
    "\n",
    "raw_data, len_train, len_test = load_all_data()\n",
    "df = pd.DataFrame(raw_data, columns=[\"text\", \"label\"])\n",
    "\n",
    "def clean_text(text):\n",
    "    text = re.sub(r\"<br\\s*/?>\", \" \", text)  # remplace <br> et <br /> par un espace\n",
    "    text = re.sub(r\"\\s+\", \" \", text)        # normalise les espaces\n",
    "    return text.strip()\n",
    "\n",
    "df[\"text\"] = df[\"text\"].apply(clean_text)\n",
    "\n",
    "vectorizer = CountVectorizer(max_features=5050, token_pattern=r\"(?u)\\b\\w+\\b\")\n",
    "vectorizer.fit(df[\"text\"])\n",
    "full_vocab = vectorizer.get_feature_names_out()\n",
    "\n",
    "# --- Exclusion des 50 mots les plus fréquents comme dans l'article ---\n",
    "excluded_words = full_vocab[:50]\n",
    "vocab = full_vocab[50:]  # Top 5000 mots après exclusion des 50 premiers\n",
    "\n",
    "def filter_tokens(text, vocab_set):\n",
    "    tokens = text.split()\n",
    "    return \" \".join([tok for tok in tokens if tok in vocab_set])\n",
    "\n",
    "vocab_set = set(vocab)\n",
    "df[\"filtered_text\"] = df[\"text\"].apply(lambda x: filter_tokens(x, vocab_set))"
   ]
  },
  {
   "cell_type": "code",
   "execution_count": 18,
   "id": "b6857b5e",
   "metadata": {},
   "outputs": [
    {
     "name": "stdout",
     "output_type": "stream",
     "text": [
      "                                                text  label  \\\n",
      "0  Bromwell High is a cartoon comedy. It ran at t...      1   \n",
      "1  Homelessness (or Houselessness as George Carli...      1   \n",
      "2  Brilliant over-acting by Lesley Ann Warren. Be...      1   \n",
      "3  This is easily the most underrated film inn th...      1   \n",
      "4  This is not the typical Mel Brooks film. It wa...      1   \n",
      "5  This isn't the comedic Robin Williams, nor is ...      1   \n",
      "6  Yes its an art... to successfully make a slow ...      1   \n",
      "7  In this \"critically acclaimed psychological th...      1   \n",
      "8  THE NIGHT LISTENER (2006) **1/2 Robin Williams...      1   \n",
      "9  You know, Robin Williams, God bless him, is co...      1   \n",
      "\n",
      "                                       filtered_text  \n",
      "0  is a cartoon ran at the same time as some othe...  \n",
      "1  as has been an issue for years but never a pla...  \n",
      "2  by dramatic lady have ever and love scenes in ...  \n",
      "3  is easily the most underrated film the its doe...  \n",
      "4  is not the typical was much less slapstick tha...  \n",
      "5  the comedic nor is it the of recent thriller i...  \n",
      "6  its an to successfully make a slow paced story...  \n",
      "7  this psychological thriller based on true a wr...  \n",
      "8  gives a is it about and is the near paranoia o...  \n",
      "9  is constantly shooting himself in the foot lat...  \n"
     ]
    }
   ],
   "source": [
    "print(df.head(10))"
   ]
  },
  {
   "cell_type": "markdown",
   "id": "48b054b4",
   "metadata": {},
   "source": [
    "# Entrainement par vecteur de mots (non supervisé) - Ajustement des hyperparmètres par un algorithme génétique ave cun nombre fixe d'epochs"
   ]
  },
  {
   "cell_type": "code",
   "execution_count": 20,
   "id": "0ee25cc4",
   "metadata": {},
   "outputs": [],
   "source": [
    "def softmax_probs(theta_k, R, b):\n",
    "    logits = np.dot(theta_k, R) + b\n",
    "    logits = logits - np.max(logits)  # stabilité numérique\n",
    "    exps = np.exp(logits)\n",
    "    return exps / np.sum(exps)\n",
    "\n",
    "class Model:\n",
    "    def __init__(self, lambda_reg=0.1, nu_reg=0.1, learning_rate=0.01, beta=10):\n",
    "        self.lambda_reg = lambda_reg\n",
    "        self.nu_reg = nu_reg\n",
    "        self.learning_rate = learning_rate\n",
    "        self.beta = beta\n",
    "\n",
    "    def train(self, vocab, filtered_texts, epochs=3):\n",
    "        vectorizer = CountVectorizer(vocabulary=list(vocab))\n",
    "        X = vectorizer.fit_transform(filtered_texts)\n",
    "        X = X.toarray()  # shape: (n_docs, vocab_size)\n",
    "\n",
    "        n_docs, vocab_size = X.shape\n",
    "\n",
    "        self.R = np.random.normal(0, 0.01, size=(self.beta, vocab_size))\n",
    "        self.b = np.zeros(vocab_size)\n",
    "\n",
    "        theta = np.random.normal(0, 0.01, size=(n_docs, self.beta))\n",
    "\n",
    "        for epoch in range(epochs):\n",
    "            print(f\"Epoch {epoch+1}/{epochs}\")\n",
    "            total_log_likelihood = 0.0\n",
    "            for k in tqdm(range(n_docs)):\n",
    "                x_k = X[k]\n",
    "                if x_k.sum() == 0:\n",
    "                    continue\n",
    "                # E-step : optimiser θ_k\n",
    "                for _ in range(3):\n",
    "                    probs = softmax_probs(theta[k], self.R, self.b)\n",
    "                    grad_theta = self.R @ (x_k - probs * x_k.sum()) - self.lambda_reg * theta[k]\n",
    "                    theta[k] += self.learning_rate * grad_theta\n",
    "\n",
    "                # Log-likelihood\n",
    "                log_probs = np.dot(x_k, np.log(probs + 1e-9))\n",
    "                total_log_likelihood += log_probs\n",
    "\n",
    "            for k in range(n_docs):\n",
    "                x_k = X[k]\n",
    "                if x_k.sum() == 0:\n",
    "                    continue\n",
    "                probs = softmax_probs(theta[k], self.R, self.b)\n",
    "                err = x_k - probs * x_k.sum()\n",
    "                grad_R = np.outer(theta[k], err)\n",
    "                grad_b = err\n",
    "\n",
    "                self.R += self.learning_rate * (grad_R - self.nu_reg * self.R)\n",
    "                self.b += self.learning_rate * grad_b\n",
    "\n",
    "            avg_ll = total_log_likelihood / n_docs\n",
    "            print(f\"[Epoch {epoch+1}] Avg semantic log-likelihood: {avg_ll:.4f}\")\n",
    "        \n",
    "        self.avg_log_likelihood = avg_ll\n",
    "\n",
    "    def compute_objective(self):\n",
    "        return self.avg_log_likelihood - self.lambda_reg * np.sum(self.R**2) - self.nu_reg * np.sum(self.b**2)"
   ]
  },
  {
   "cell_type": "code",
   "execution_count": null,
   "id": "4197824c",
   "metadata": {},
   "outputs": [
    {
     "name": "stdout",
     "output_type": "stream",
     "text": [
      "Epoch 1/3\n"
     ]
    },
    {
     "name": "stderr",
     "output_type": "stream",
     "text": [
      "100%|██████████| 25000/25000 [00:35<00:00, 701.04it/s]\n"
     ]
    },
    {
     "name": "stdout",
     "output_type": "stream",
     "text": [
      "[Epoch 1] Avg semantic log-likelihood: -1324.4082\n",
      "Epoch 2/3\n"
     ]
    },
    {
     "name": "stderr",
     "output_type": "stream",
     "text": [
      "100%|██████████| 25000/25000 [00:35<00:00, 702.86it/s]\n"
     ]
    },
    {
     "name": "stdout",
     "output_type": "stream",
     "text": [
      "[Epoch 2] Avg semantic log-likelihood: -957.4842\n",
      "Epoch 3/3\n"
     ]
    },
    {
     "name": "stderr",
     "output_type": "stream",
     "text": [
      "100%|██████████| 25000/25000 [00:34<00:00, 718.04it/s]\n"
     ]
    },
    {
     "name": "stdout",
     "output_type": "stream",
     "text": [
      "[Epoch 3] Avg semantic log-likelihood: -949.2120\n",
      "Epoch 1/3\n"
     ]
    },
    {
     "name": "stderr",
     "output_type": "stream",
     "text": [
      "100%|██████████| 25000/25000 [00:34<00:00, 719.09it/s]\n"
     ]
    },
    {
     "name": "stdout",
     "output_type": "stream",
     "text": [
      "[Epoch 1] Avg semantic log-likelihood: -1324.2758\n",
      "Epoch 2/3\n"
     ]
    },
    {
     "name": "stderr",
     "output_type": "stream",
     "text": [
      "100%|██████████| 25000/25000 [00:34<00:00, 728.26it/s]\n"
     ]
    },
    {
     "name": "stdout",
     "output_type": "stream",
     "text": [
      "[Epoch 2] Avg semantic log-likelihood: -946.0647\n",
      "Epoch 3/3\n"
     ]
    },
    {
     "name": "stderr",
     "output_type": "stream",
     "text": [
      "100%|██████████| 25000/25000 [00:37<00:00, 661.98it/s]\n"
     ]
    },
    {
     "name": "stdout",
     "output_type": "stream",
     "text": [
      "[Epoch 3] Avg semantic log-likelihood: -3155.9929\n",
      "Epoch 1/3\n"
     ]
    },
    {
     "name": "stderr",
     "output_type": "stream",
     "text": [
      "100%|██████████| 25000/25000 [00:06<00:00, 4014.97it/s]\n"
     ]
    },
    {
     "name": "stdout",
     "output_type": "stream",
     "text": [
      "[Epoch 1] Avg semantic log-likelihood: -1324.3225\n",
      "Epoch 2/3\n"
     ]
    },
    {
     "name": "stderr",
     "output_type": "stream",
     "text": [
      "100%|██████████| 25000/25000 [00:06<00:00, 4124.88it/s]\n"
     ]
    },
    {
     "name": "stdout",
     "output_type": "stream",
     "text": [
      "[Epoch 2] Avg semantic log-likelihood: -2044.1404\n",
      "Epoch 3/3\n"
     ]
    },
    {
     "name": "stderr",
     "output_type": "stream",
     "text": [
      "100%|██████████| 25000/25000 [00:09<00:00, 2680.32it/s]\n"
     ]
    },
    {
     "name": "stdout",
     "output_type": "stream",
     "text": [
      "[Epoch 3] Avg semantic log-likelihood: -3187.0841\n",
      "Epoch 1/3\n"
     ]
    },
    {
     "name": "stderr",
     "output_type": "stream",
     "text": [
      "100%|██████████| 25000/25000 [00:34<00:00, 725.70it/s]\n"
     ]
    },
    {
     "name": "stdout",
     "output_type": "stream",
     "text": [
      "[Epoch 1] Avg semantic log-likelihood: -1324.3473\n",
      "Epoch 2/3\n"
     ]
    },
    {
     "name": "stderr",
     "output_type": "stream",
     "text": [
      "100%|██████████| 25000/25000 [00:34<00:00, 714.93it/s]\n"
     ]
    },
    {
     "name": "stdout",
     "output_type": "stream",
     "text": [
      "[Epoch 2] Avg semantic log-likelihood: -943.5485\n",
      "Epoch 3/3\n"
     ]
    },
    {
     "name": "stderr",
     "output_type": "stream",
     "text": [
      "100%|██████████| 25000/25000 [00:34<00:00, 720.84it/s]\n"
     ]
    },
    {
     "name": "stdout",
     "output_type": "stream",
     "text": [
      "[Epoch 3] Avg semantic log-likelihood: -2580.8963\n",
      "Epoch 1/3\n"
     ]
    },
    {
     "name": "stderr",
     "output_type": "stream",
     "text": [
      "100%|██████████| 25000/25000 [00:06<00:00, 4120.38it/s]\n"
     ]
    },
    {
     "name": "stdout",
     "output_type": "stream",
     "text": [
      "[Epoch 1] Avg semantic log-likelihood: -1324.2262\n",
      "Epoch 2/3\n"
     ]
    },
    {
     "name": "stderr",
     "output_type": "stream",
     "text": [
      "100%|██████████| 25000/25000 [00:06<00:00, 3659.43it/s]\n"
     ]
    },
    {
     "name": "stdout",
     "output_type": "stream",
     "text": [
      "[Epoch 2] Avg semantic log-likelihood: -3197.2842\n",
      "Epoch 3/3\n"
     ]
    },
    {
     "name": "stderr",
     "output_type": "stream",
     "text": [
      "100%|██████████| 25000/25000 [00:08<00:00, 2887.70it/s]\n"
     ]
    },
    {
     "name": "stdout",
     "output_type": "stream",
     "text": [
      "[Epoch 3] Avg semantic log-likelihood: -3202.9233\n",
      "Epoch 1/3\n"
     ]
    },
    {
     "name": "stderr",
     "output_type": "stream",
     "text": [
      "100%|██████████| 25000/25000 [00:09<00:00, 2675.35it/s]\n"
     ]
    },
    {
     "name": "stdout",
     "output_type": "stream",
     "text": [
      "[Epoch 1] Avg semantic log-likelihood: -1324.3318\n",
      "Epoch 2/3\n"
     ]
    },
    {
     "name": "stderr",
     "output_type": "stream",
     "text": [
      "100%|██████████| 25000/25000 [00:09<00:00, 2568.79it/s]\n"
     ]
    },
    {
     "name": "stdout",
     "output_type": "stream",
     "text": [
      "[Epoch 2] Avg semantic log-likelihood: -941.6370\n",
      "Epoch 3/3\n"
     ]
    },
    {
     "name": "stderr",
     "output_type": "stream",
     "text": [
      "100%|██████████| 25000/25000 [00:10<00:00, 2488.34it/s]\n"
     ]
    },
    {
     "name": "stdout",
     "output_type": "stream",
     "text": [
      "[Epoch 3] Avg semantic log-likelihood: -1105.3191\n",
      "Epoch 1/3\n"
     ]
    },
    {
     "name": "stderr",
     "output_type": "stream",
     "text": [
      "100%|██████████| 25000/25000 [00:11<00:00, 2130.48it/s]\n"
     ]
    },
    {
     "name": "stdout",
     "output_type": "stream",
     "text": [
      "[Epoch 1] Avg semantic log-likelihood: -1324.3032\n",
      "Epoch 2/3\n"
     ]
    },
    {
     "name": "stderr",
     "output_type": "stream",
     "text": [
      "100%|██████████| 25000/25000 [00:12<00:00, 1985.91it/s]\n"
     ]
    },
    {
     "name": "stdout",
     "output_type": "stream",
     "text": [
      "[Epoch 2] Avg semantic log-likelihood: -1381.0017\n",
      "Epoch 3/3\n"
     ]
    },
    {
     "name": "stderr",
     "output_type": "stream",
     "text": [
      "100%|██████████| 25000/25000 [00:14<00:00, 1715.17it/s]\n"
     ]
    },
    {
     "name": "stdout",
     "output_type": "stream",
     "text": [
      "[Epoch 3] Avg semantic log-likelihood: -3173.3338\n",
      "Epoch 1/3\n"
     ]
    },
    {
     "name": "stderr",
     "output_type": "stream",
     "text": [
      "100%|██████████| 25000/25000 [00:34<00:00, 718.88it/s]\n"
     ]
    },
    {
     "name": "stdout",
     "output_type": "stream",
     "text": [
      "[Epoch 1] Avg semantic log-likelihood: -1324.4068\n",
      "Epoch 2/3\n"
     ]
    },
    {
     "name": "stderr",
     "output_type": "stream",
     "text": [
      "100%|██████████| 25000/25000 [00:35<00:00, 710.22it/s]\n"
     ]
    },
    {
     "name": "stdout",
     "output_type": "stream",
     "text": [
      "[Epoch 2] Avg semantic log-likelihood: -957.4820\n",
      "Epoch 3/3\n"
     ]
    },
    {
     "name": "stderr",
     "output_type": "stream",
     "text": [
      "100%|██████████| 25000/25000 [00:35<00:00, 701.75it/s]\n"
     ]
    },
    {
     "name": "stdout",
     "output_type": "stream",
     "text": [
      "[Epoch 3] Avg semantic log-likelihood: -949.1942\n",
      "Epoch 1/3\n"
     ]
    },
    {
     "name": "stderr",
     "output_type": "stream",
     "text": [
      "100%|██████████| 25000/25000 [00:06<00:00, 4125.95it/s]\n"
     ]
    },
    {
     "name": "stdout",
     "output_type": "stream",
     "text": [
      "[Epoch 1] Avg semantic log-likelihood: -1324.4068\n",
      "Epoch 2/3\n"
     ]
    },
    {
     "name": "stderr",
     "output_type": "stream",
     "text": [
      "100%|██████████| 25000/25000 [00:06<00:00, 3992.83it/s]\n"
     ]
    },
    {
     "name": "stdout",
     "output_type": "stream",
     "text": [
      "[Epoch 2] Avg semantic log-likelihood: -943.7583\n",
      "Epoch 3/3\n"
     ]
    },
    {
     "name": "stderr",
     "output_type": "stream",
     "text": [
      "100%|██████████| 25000/25000 [00:06<00:00, 4016.37it/s]\n"
     ]
    },
    {
     "name": "stdout",
     "output_type": "stream",
     "text": [
      "[Epoch 3] Avg semantic log-likelihood: -956.7991\n",
      "Epoch 1/3\n"
     ]
    },
    {
     "name": "stderr",
     "output_type": "stream",
     "text": [
      "100%|██████████| 25000/25000 [00:34<00:00, 723.21it/s]\n"
     ]
    },
    {
     "name": "stdout",
     "output_type": "stream",
     "text": [
      "[Epoch 1] Avg semantic log-likelihood: -1324.2905\n",
      "Epoch 2/3\n"
     ]
    },
    {
     "name": "stderr",
     "output_type": "stream",
     "text": [
      "100%|██████████| 25000/25000 [00:35<00:00, 707.40it/s]\n"
     ]
    },
    {
     "name": "stdout",
     "output_type": "stream",
     "text": [
      "[Epoch 2] Avg semantic log-likelihood: -1518.6679\n",
      "Epoch 3/3\n"
     ]
    },
    {
     "name": "stderr",
     "output_type": "stream",
     "text": [
      "100%|██████████| 25000/25000 [00:40<00:00, 617.33it/s]\n"
     ]
    },
    {
     "name": "stdout",
     "output_type": "stream",
     "text": [
      "[Epoch 3] Avg semantic log-likelihood: -3212.4793\n",
      "\n",
      "Generation 1, Best score: -949.6968\n",
      "Best individual: {'beta': 100, 'lambda_reg': 0.001, 'nu_reg': 0.0001, 'learning_rate': 0.001}\n",
      "\n",
      "Epoch 1/3\n"
     ]
    },
    {
     "name": "stderr",
     "output_type": "stream",
     "text": [
      "100%|██████████| 25000/25000 [00:34<00:00, 717.39it/s]\n"
     ]
    },
    {
     "name": "stdout",
     "output_type": "stream",
     "text": [
      "[Epoch 1] Avg semantic log-likelihood: -1324.4072\n",
      "Epoch 2/3\n"
     ]
    },
    {
     "name": "stderr",
     "output_type": "stream",
     "text": [
      "100%|██████████| 25000/25000 [00:35<00:00, 712.11it/s]\n"
     ]
    },
    {
     "name": "stdout",
     "output_type": "stream",
     "text": [
      "[Epoch 2] Avg semantic log-likelihood: -957.4829\n",
      "Epoch 3/3\n"
     ]
    },
    {
     "name": "stderr",
     "output_type": "stream",
     "text": [
      "100%|██████████| 25000/25000 [00:34<00:00, 723.61it/s]\n"
     ]
    },
    {
     "name": "stdout",
     "output_type": "stream",
     "text": [
      "[Epoch 3] Avg semantic log-likelihood: -949.2040\n",
      "Epoch 1/3\n"
     ]
    },
    {
     "name": "stderr",
     "output_type": "stream",
     "text": [
      "100%|██████████| 25000/25000 [00:34<00:00, 715.21it/s]\n"
     ]
    },
    {
     "name": "stdout",
     "output_type": "stream",
     "text": [
      "[Epoch 1] Avg semantic log-likelihood: -1324.4097\n",
      "Epoch 2/3\n"
     ]
    },
    {
     "name": "stderr",
     "output_type": "stream",
     "text": [
      "100%|██████████| 25000/25000 [00:34<00:00, 715.98it/s]\n"
     ]
    },
    {
     "name": "stdout",
     "output_type": "stream",
     "text": [
      "[Epoch 2] Avg semantic log-likelihood: -957.4862\n",
      "Epoch 3/3\n"
     ]
    },
    {
     "name": "stderr",
     "output_type": "stream",
     "text": [
      "100%|██████████| 25000/25000 [00:35<00:00, 705.52it/s]\n"
     ]
    },
    {
     "name": "stdout",
     "output_type": "stream",
     "text": [
      "[Epoch 3] Avg semantic log-likelihood: -949.2273\n",
      "Epoch 1/3\n"
     ]
    },
    {
     "name": "stderr",
     "output_type": "stream",
     "text": [
      "100%|██████████| 25000/25000 [00:06<00:00, 4102.80it/s]\n"
     ]
    },
    {
     "name": "stdout",
     "output_type": "stream",
     "text": [
      "[Epoch 1] Avg semantic log-likelihood: -1324.3965\n",
      "Epoch 2/3\n"
     ]
    },
    {
     "name": "stderr",
     "output_type": "stream",
     "text": [
      "100%|██████████| 25000/25000 [00:05<00:00, 4181.37it/s]\n"
     ]
    },
    {
     "name": "stdout",
     "output_type": "stream",
     "text": [
      "[Epoch 2] Avg semantic log-likelihood: -943.6596\n",
      "Epoch 3/3\n"
     ]
    },
    {
     "name": "stderr",
     "output_type": "stream",
     "text": [
      "100%|██████████| 25000/25000 [00:06<00:00, 4125.87it/s]\n"
     ]
    },
    {
     "name": "stdout",
     "output_type": "stream",
     "text": [
      "[Epoch 3] Avg semantic log-likelihood: -956.4805\n",
      "Epoch 1/3\n"
     ]
    },
    {
     "name": "stderr",
     "output_type": "stream",
     "text": [
      "100%|██████████| 25000/25000 [00:09<00:00, 2698.19it/s]\n"
     ]
    },
    {
     "name": "stdout",
     "output_type": "stream",
     "text": [
      "[Epoch 1] Avg semantic log-likelihood: -1324.3498\n",
      "Epoch 2/3\n"
     ]
    },
    {
     "name": "stderr",
     "output_type": "stream",
     "text": [
      "100%|██████████| 25000/25000 [00:09<00:00, 2607.75it/s]\n"
     ]
    },
    {
     "name": "stdout",
     "output_type": "stream",
     "text": [
      "[Epoch 2] Avg semantic log-likelihood: -942.0147\n",
      "Epoch 3/3\n"
     ]
    },
    {
     "name": "stderr",
     "output_type": "stream",
     "text": [
      "100%|██████████| 25000/25000 [00:09<00:00, 2572.79it/s]\n"
     ]
    },
    {
     "name": "stdout",
     "output_type": "stream",
     "text": [
      "[Epoch 3] Avg semantic log-likelihood: -1279.6728\n",
      "Epoch 1/3\n"
     ]
    },
    {
     "name": "stderr",
     "output_type": "stream",
     "text": [
      "100%|██████████| 25000/25000 [00:35<00:00, 712.46it/s]\n"
     ]
    },
    {
     "name": "stdout",
     "output_type": "stream",
     "text": [
      "[Epoch 1] Avg semantic log-likelihood: -1324.3692\n",
      "Epoch 2/3\n"
     ]
    },
    {
     "name": "stderr",
     "output_type": "stream",
     "text": [
      "100%|██████████| 25000/25000 [00:36<00:00, 693.21it/s]\n"
     ]
    },
    {
     "name": "stdout",
     "output_type": "stream",
     "text": [
      "[Epoch 2] Avg semantic log-likelihood: -943.4069\n",
      "Epoch 3/3\n"
     ]
    },
    {
     "name": "stderr",
     "output_type": "stream",
     "text": [
      "100%|██████████| 25000/25000 [00:34<00:00, 724.05it/s]\n"
     ]
    },
    {
     "name": "stdout",
     "output_type": "stream",
     "text": [
      "[Epoch 3] Avg semantic log-likelihood: -2782.1899\n",
      "Epoch 1/3\n"
     ]
    },
    {
     "name": "stderr",
     "output_type": "stream",
     "text": [
      "100%|██████████| 25000/25000 [00:06<00:00, 4121.98it/s]\n"
     ]
    },
    {
     "name": "stdout",
     "output_type": "stream",
     "text": [
      "[Epoch 1] Avg semantic log-likelihood: -1324.4038\n",
      "Epoch 2/3\n"
     ]
    },
    {
     "name": "stderr",
     "output_type": "stream",
     "text": [
      "100%|██████████| 25000/25000 [00:06<00:00, 4029.77it/s]\n"
     ]
    },
    {
     "name": "stdout",
     "output_type": "stream",
     "text": [
      "[Epoch 2] Avg semantic log-likelihood: -943.6861\n",
      "Epoch 3/3\n"
     ]
    },
    {
     "name": "stderr",
     "output_type": "stream",
     "text": [
      "100%|██████████| 25000/25000 [00:06<00:00, 4131.93it/s]\n"
     ]
    },
    {
     "name": "stdout",
     "output_type": "stream",
     "text": [
      "[Epoch 3] Avg semantic log-likelihood: -956.3298\n",
      "Epoch 1/3\n"
     ]
    },
    {
     "name": "stderr",
     "output_type": "stream",
     "text": [
      "100%|██████████| 25000/25000 [00:34<00:00, 731.30it/s]\n"
     ]
    },
    {
     "name": "stdout",
     "output_type": "stream",
     "text": [
      "[Epoch 1] Avg semantic log-likelihood: -1324.4075\n",
      "Epoch 2/3\n"
     ]
    },
    {
     "name": "stderr",
     "output_type": "stream",
     "text": [
      "100%|██████████| 25000/25000 [00:35<00:00, 713.72it/s]\n"
     ]
    },
    {
     "name": "stdout",
     "output_type": "stream",
     "text": [
      "[Epoch 2] Avg semantic log-likelihood: -957.4840\n",
      "Epoch 3/3\n"
     ]
    },
    {
     "name": "stderr",
     "output_type": "stream",
     "text": [
      "100%|██████████| 25000/25000 [00:35<00:00, 712.57it/s]\n"
     ]
    },
    {
     "name": "stdout",
     "output_type": "stream",
     "text": [
      "[Epoch 3] Avg semantic log-likelihood: -949.2070\n",
      "Epoch 1/3\n"
     ]
    },
    {
     "name": "stderr",
     "output_type": "stream",
     "text": [
      "100%|██████████| 25000/25000 [00:35<00:00, 711.93it/s]\n"
     ]
    },
    {
     "name": "stdout",
     "output_type": "stream",
     "text": [
      "[Epoch 1] Avg semantic log-likelihood: -1324.3547\n",
      "Epoch 2/3\n"
     ]
    },
    {
     "name": "stderr",
     "output_type": "stream",
     "text": [
      "100%|██████████| 25000/25000 [00:35<00:00, 713.94it/s]\n"
     ]
    },
    {
     "name": "stdout",
     "output_type": "stream",
     "text": [
      "[Epoch 2] Avg semantic log-likelihood: -942.9041\n",
      "Epoch 3/3\n"
     ]
    },
    {
     "name": "stderr",
     "output_type": "stream",
     "text": [
      "100%|██████████| 25000/25000 [00:34<00:00, 719.61it/s]\n"
     ]
    },
    {
     "name": "stdout",
     "output_type": "stream",
     "text": [
      "[Epoch 3] Avg semantic log-likelihood: -1672.1687\n",
      "Epoch 1/3\n"
     ]
    },
    {
     "name": "stderr",
     "output_type": "stream",
     "text": [
      "100%|██████████| 25000/25000 [00:35<00:00, 695.04it/s]\n"
     ]
    },
    {
     "name": "stdout",
     "output_type": "stream",
     "text": [
      "[Epoch 1] Avg semantic log-likelihood: -1324.4083\n",
      "Epoch 2/3\n"
     ]
    },
    {
     "name": "stderr",
     "output_type": "stream",
     "text": [
      "100%|██████████| 25000/25000 [00:35<00:00, 710.84it/s]\n"
     ]
    },
    {
     "name": "stdout",
     "output_type": "stream",
     "text": [
      "[Epoch 2] Avg semantic log-likelihood: -957.4855\n",
      "Epoch 3/3\n"
     ]
    },
    {
     "name": "stderr",
     "output_type": "stream",
     "text": [
      "100%|██████████| 25000/25000 [00:34<00:00, 718.02it/s]\n"
     ]
    },
    {
     "name": "stdout",
     "output_type": "stream",
     "text": [
      "[Epoch 3] Avg semantic log-likelihood: -949.2189\n",
      "Epoch 1/3\n"
     ]
    },
    {
     "name": "stderr",
     "output_type": "stream",
     "text": [
      "100%|██████████| 25000/25000 [00:35<00:00, 705.63it/s]\n"
     ]
    },
    {
     "name": "stdout",
     "output_type": "stream",
     "text": [
      "[Epoch 1] Avg semantic log-likelihood: -1324.4092\n",
      "Epoch 2/3\n"
     ]
    },
    {
     "name": "stderr",
     "output_type": "stream",
     "text": [
      "100%|██████████| 25000/25000 [00:35<00:00, 695.42it/s]\n"
     ]
    },
    {
     "name": "stdout",
     "output_type": "stream",
     "text": [
      "[Epoch 2] Avg semantic log-likelihood: -957.4844\n",
      "Epoch 3/3\n"
     ]
    },
    {
     "name": "stderr",
     "output_type": "stream",
     "text": [
      "100%|██████████| 25000/25000 [00:34<00:00, 721.92it/s]\n"
     ]
    },
    {
     "name": "stdout",
     "output_type": "stream",
     "text": [
      "[Epoch 3] Avg semantic log-likelihood: -949.2112\n",
      "\n",
      "Generation 2, Best score: -949.6620\n",
      "Best individual: {'beta': 100, 'lambda_reg': 0.0001, 'nu_reg': 0.0001, 'learning_rate': 0.001}\n",
      "\n",
      "Epoch 1/3\n"
     ]
    },
    {
     "name": "stderr",
     "output_type": "stream",
     "text": [
      "100%|██████████| 25000/25000 [00:37<00:00, 668.32it/s]\n"
     ]
    },
    {
     "name": "stdout",
     "output_type": "stream",
     "text": [
      "[Epoch 1] Avg semantic log-likelihood: -1324.4073\n",
      "Epoch 2/3\n"
     ]
    },
    {
     "name": "stderr",
     "output_type": "stream",
     "text": [
      "100%|██████████| 25000/25000 [00:38<00:00, 648.92it/s]\n"
     ]
    },
    {
     "name": "stdout",
     "output_type": "stream",
     "text": [
      "[Epoch 2] Avg semantic log-likelihood: -957.4826\n",
      "Epoch 3/3\n"
     ]
    },
    {
     "name": "stderr",
     "output_type": "stream",
     "text": [
      "100%|██████████| 25000/25000 [00:36<00:00, 677.09it/s]\n"
     ]
    },
    {
     "name": "stdout",
     "output_type": "stream",
     "text": [
      "[Epoch 3] Avg semantic log-likelihood: -949.2011\n",
      "Epoch 1/3\n"
     ]
    },
    {
     "name": "stderr",
     "output_type": "stream",
     "text": [
      "100%|██████████| 25000/25000 [00:36<00:00, 676.48it/s]\n"
     ]
    },
    {
     "name": "stdout",
     "output_type": "stream",
     "text": [
      "[Epoch 1] Avg semantic log-likelihood: -1324.4093\n",
      "Epoch 2/3\n"
     ]
    },
    {
     "name": "stderr",
     "output_type": "stream",
     "text": [
      "100%|██████████| 25000/25000 [00:38<00:00, 657.05it/s]\n"
     ]
    },
    {
     "name": "stdout",
     "output_type": "stream",
     "text": [
      "[Epoch 2] Avg semantic log-likelihood: -957.4839\n",
      "Epoch 3/3\n"
     ]
    },
    {
     "name": "stderr",
     "output_type": "stream",
     "text": [
      "100%|██████████| 25000/25000 [00:36<00:00, 684.98it/s]\n"
     ]
    },
    {
     "name": "stdout",
     "output_type": "stream",
     "text": [
      "[Epoch 3] Avg semantic log-likelihood: -949.2058\n",
      "Epoch 1/3\n"
     ]
    },
    {
     "name": "stderr",
     "output_type": "stream",
     "text": [
      "100%|██████████| 25000/25000 [00:37<00:00, 668.05it/s]\n"
     ]
    },
    {
     "name": "stdout",
     "output_type": "stream",
     "text": [
      "[Epoch 1] Avg semantic log-likelihood: -1324.4071\n",
      "Epoch 2/3\n"
     ]
    },
    {
     "name": "stderr",
     "output_type": "stream",
     "text": [
      "100%|██████████| 25000/25000 [00:38<00:00, 657.07it/s]\n"
     ]
    },
    {
     "name": "stdout",
     "output_type": "stream",
     "text": [
      "[Epoch 2] Avg semantic log-likelihood: -957.4831\n",
      "Epoch 3/3\n"
     ]
    },
    {
     "name": "stderr",
     "output_type": "stream",
     "text": [
      "100%|██████████| 25000/25000 [00:37<00:00, 663.79it/s]\n"
     ]
    },
    {
     "name": "stdout",
     "output_type": "stream",
     "text": [
      "[Epoch 3] Avg semantic log-likelihood: -949.1993\n",
      "Epoch 1/3\n"
     ]
    },
    {
     "name": "stderr",
     "output_type": "stream",
     "text": [
      "100%|██████████| 25000/25000 [00:36<00:00, 682.68it/s]\n"
     ]
    },
    {
     "name": "stdout",
     "output_type": "stream",
     "text": [
      "[Epoch 1] Avg semantic log-likelihood: -1324.4087\n",
      "Epoch 2/3\n"
     ]
    },
    {
     "name": "stderr",
     "output_type": "stream",
     "text": [
      "100%|██████████| 25000/25000 [00:36<00:00, 682.52it/s]\n"
     ]
    },
    {
     "name": "stdout",
     "output_type": "stream",
     "text": [
      "[Epoch 2] Avg semantic log-likelihood: -957.4866\n",
      "Epoch 3/3\n"
     ]
    },
    {
     "name": "stderr",
     "output_type": "stream",
     "text": [
      "100%|██████████| 25000/25000 [00:38<00:00, 654.89it/s]\n"
     ]
    },
    {
     "name": "stdout",
     "output_type": "stream",
     "text": [
      "[Epoch 3] Avg semantic log-likelihood: -949.2318\n",
      "Epoch 1/3\n"
     ]
    },
    {
     "name": "stderr",
     "output_type": "stream",
     "text": [
      "100%|██████████| 25000/25000 [00:37<00:00, 657.96it/s]\n"
     ]
    },
    {
     "name": "stdout",
     "output_type": "stream",
     "text": [
      "[Epoch 1] Avg semantic log-likelihood: -1324.4082\n",
      "Epoch 2/3\n"
     ]
    },
    {
     "name": "stderr",
     "output_type": "stream",
     "text": [
      "100%|██████████| 25000/25000 [00:37<00:00, 674.08it/s]\n"
     ]
    },
    {
     "name": "stdout",
     "output_type": "stream",
     "text": [
      "[Epoch 2] Avg semantic log-likelihood: -957.4842\n",
      "Epoch 3/3\n"
     ]
    },
    {
     "name": "stderr",
     "output_type": "stream",
     "text": [
      "100%|██████████| 25000/25000 [00:39<00:00, 635.59it/s]\n"
     ]
    },
    {
     "name": "stdout",
     "output_type": "stream",
     "text": [
      "[Epoch 3] Avg semantic log-likelihood: -949.2124\n",
      "Epoch 1/3\n"
     ]
    },
    {
     "name": "stderr",
     "output_type": "stream",
     "text": [
      "100%|██████████| 25000/25000 [00:38<00:00, 644.87it/s]\n"
     ]
    },
    {
     "name": "stdout",
     "output_type": "stream",
     "text": [
      "[Epoch 1] Avg semantic log-likelihood: -1324.4094\n",
      "Epoch 2/3\n"
     ]
    },
    {
     "name": "stderr",
     "output_type": "stream",
     "text": [
      "100%|██████████| 25000/25000 [00:37<00:00, 672.82it/s]\n"
     ]
    },
    {
     "name": "stdout",
     "output_type": "stream",
     "text": [
      "[Epoch 2] Avg semantic log-likelihood: -957.4847\n",
      "Epoch 3/3\n"
     ]
    },
    {
     "name": "stderr",
     "output_type": "stream",
     "text": [
      "100%|██████████| 25000/25000 [00:37<00:00, 658.59it/s]\n"
     ]
    },
    {
     "name": "stdout",
     "output_type": "stream",
     "text": [
      "[Epoch 3] Avg semantic log-likelihood: -949.2156\n",
      "Epoch 1/3\n"
     ]
    },
    {
     "name": "stderr",
     "output_type": "stream",
     "text": [
      "100%|██████████| 25000/25000 [00:36<00:00, 681.26it/s]\n"
     ]
    },
    {
     "name": "stdout",
     "output_type": "stream",
     "text": [
      "[Epoch 1] Avg semantic log-likelihood: -1324.4056\n",
      "Epoch 2/3\n"
     ]
    },
    {
     "name": "stderr",
     "output_type": "stream",
     "text": [
      "100%|██████████| 25000/25000 [00:37<00:00, 666.11it/s]\n"
     ]
    },
    {
     "name": "stdout",
     "output_type": "stream",
     "text": [
      "[Epoch 2] Avg semantic log-likelihood: -957.4832\n",
      "Epoch 3/3\n"
     ]
    },
    {
     "name": "stderr",
     "output_type": "stream",
     "text": [
      "100%|██████████| 25000/25000 [00:36<00:00, 680.45it/s]\n"
     ]
    },
    {
     "name": "stdout",
     "output_type": "stream",
     "text": [
      "[Epoch 3] Avg semantic log-likelihood: -949.2079\n",
      "Epoch 1/3\n"
     ]
    },
    {
     "name": "stderr",
     "output_type": "stream",
     "text": [
      "100%|██████████| 25000/25000 [00:37<00:00, 665.09it/s]\n"
     ]
    },
    {
     "name": "stdout",
     "output_type": "stream",
     "text": [
      "[Epoch 1] Avg semantic log-likelihood: -1324.4047\n",
      "Epoch 2/3\n"
     ]
    },
    {
     "name": "stderr",
     "output_type": "stream",
     "text": [
      "100%|██████████| 25000/25000 [00:37<00:00, 674.10it/s]\n"
     ]
    },
    {
     "name": "stdout",
     "output_type": "stream",
     "text": [
      "[Epoch 2] Avg semantic log-likelihood: -957.4817\n",
      "Epoch 3/3\n"
     ]
    },
    {
     "name": "stderr",
     "output_type": "stream",
     "text": [
      "100%|██████████| 25000/25000 [00:36<00:00, 685.65it/s]\n"
     ]
    },
    {
     "name": "stdout",
     "output_type": "stream",
     "text": [
      "[Epoch 3] Avg semantic log-likelihood: -949.1923\n",
      "Epoch 1/3\n"
     ]
    },
    {
     "name": "stderr",
     "output_type": "stream",
     "text": [
      "100%|██████████| 25000/25000 [00:37<00:00, 658.46it/s]\n"
     ]
    },
    {
     "name": "stdout",
     "output_type": "stream",
     "text": [
      "[Epoch 1] Avg semantic log-likelihood: -1324.4079\n",
      "Epoch 2/3\n"
     ]
    },
    {
     "name": "stderr",
     "output_type": "stream",
     "text": [
      "100%|██████████| 25000/25000 [00:36<00:00, 686.65it/s]\n"
     ]
    },
    {
     "name": "stdout",
     "output_type": "stream",
     "text": [
      "[Epoch 2] Avg semantic log-likelihood: -957.4835\n",
      "Epoch 3/3\n"
     ]
    },
    {
     "name": "stderr",
     "output_type": "stream",
     "text": [
      "100%|██████████| 25000/25000 [00:35<00:00, 695.42it/s]\n"
     ]
    },
    {
     "name": "stdout",
     "output_type": "stream",
     "text": [
      "[Epoch 3] Avg semantic log-likelihood: -949.2025\n",
      "Epoch 1/3\n"
     ]
    },
    {
     "name": "stderr",
     "output_type": "stream",
     "text": [
      "100%|██████████| 25000/25000 [00:11<00:00, 2154.24it/s]\n"
     ]
    },
    {
     "name": "stdout",
     "output_type": "stream",
     "text": [
      "[Epoch 1] Avg semantic log-likelihood: -1324.4119\n",
      "Epoch 2/3\n"
     ]
    },
    {
     "name": "stderr",
     "output_type": "stream",
     "text": [
      "100%|██████████| 25000/25000 [00:12<00:00, 1995.37it/s]\n"
     ]
    },
    {
     "name": "stdout",
     "output_type": "stream",
     "text": [
      "[Epoch 2] Avg semantic log-likelihood: -957.4945\n",
      "Epoch 3/3\n"
     ]
    },
    {
     "name": "stderr",
     "output_type": "stream",
     "text": [
      "100%|██████████| 25000/25000 [00:13<00:00, 1911.61it/s]\n"
     ]
    },
    {
     "name": "stdout",
     "output_type": "stream",
     "text": [
      "[Epoch 3] Avg semantic log-likelihood: -949.2752\n",
      "\n",
      "Generation 3, Best score: -949.6443\n",
      "Best individual: {'beta': 100, 'lambda_reg': 0.0001, 'nu_reg': 0.0001, 'learning_rate': 0.001}\n",
      "\n",
      "Epoch 1/3\n"
     ]
    },
    {
     "name": "stderr",
     "output_type": "stream",
     "text": [
      "100%|██████████| 25000/25000 [00:37<00:00, 661.82it/s]\n"
     ]
    },
    {
     "name": "stdout",
     "output_type": "stream",
     "text": [
      "[Epoch 1] Avg semantic log-likelihood: -1324.4056\n",
      "Epoch 2/3\n"
     ]
    },
    {
     "name": "stderr",
     "output_type": "stream",
     "text": [
      "100%|██████████| 25000/25000 [00:36<00:00, 680.16it/s]\n"
     ]
    },
    {
     "name": "stdout",
     "output_type": "stream",
     "text": [
      "[Epoch 2] Avg semantic log-likelihood: -957.4800\n",
      "Epoch 3/3\n"
     ]
    },
    {
     "name": "stderr",
     "output_type": "stream",
     "text": [
      "100%|██████████| 25000/25000 [00:36<00:00, 685.61it/s]\n"
     ]
    },
    {
     "name": "stdout",
     "output_type": "stream",
     "text": [
      "[Epoch 3] Avg semantic log-likelihood: -949.1780\n",
      "Epoch 1/3\n"
     ]
    },
    {
     "name": "stderr",
     "output_type": "stream",
     "text": [
      "100%|██████████| 25000/25000 [00:36<00:00, 679.86it/s]\n"
     ]
    },
    {
     "name": "stdout",
     "output_type": "stream",
     "text": [
      "[Epoch 1] Avg semantic log-likelihood: -1324.4071\n",
      "Epoch 2/3\n"
     ]
    },
    {
     "name": "stderr",
     "output_type": "stream",
     "text": [
      "100%|██████████| 25000/25000 [00:38<00:00, 647.13it/s]\n"
     ]
    },
    {
     "name": "stdout",
     "output_type": "stream",
     "text": [
      "[Epoch 2] Avg semantic log-likelihood: -957.4821\n",
      "Epoch 3/3\n"
     ]
    },
    {
     "name": "stderr",
     "output_type": "stream",
     "text": [
      "100%|██████████| 25000/25000 [00:37<00:00, 663.01it/s]\n"
     ]
    },
    {
     "name": "stdout",
     "output_type": "stream",
     "text": [
      "[Epoch 3] Avg semantic log-likelihood: -949.1922\n",
      "Epoch 1/3\n"
     ]
    },
    {
     "name": "stderr",
     "output_type": "stream",
     "text": [
      "100%|██████████| 25000/25000 [00:36<00:00, 675.98it/s]\n"
     ]
    },
    {
     "name": "stdout",
     "output_type": "stream",
     "text": [
      "[Epoch 1] Avg semantic log-likelihood: -1324.4065\n",
      "Epoch 2/3\n"
     ]
    },
    {
     "name": "stderr",
     "output_type": "stream",
     "text": [
      "100%|██████████| 25000/25000 [00:38<00:00, 652.81it/s]\n"
     ]
    },
    {
     "name": "stdout",
     "output_type": "stream",
     "text": [
      "[Epoch 2] Avg semantic log-likelihood: -957.4811\n",
      "Epoch 3/3\n"
     ]
    },
    {
     "name": "stderr",
     "output_type": "stream",
     "text": [
      "100%|██████████| 25000/25000 [00:37<00:00, 661.14it/s]\n"
     ]
    },
    {
     "name": "stdout",
     "output_type": "stream",
     "text": [
      "[Epoch 3] Avg semantic log-likelihood: -949.1877\n",
      "Epoch 1/3\n"
     ]
    },
    {
     "name": "stderr",
     "output_type": "stream",
     "text": [
      "100%|██████████| 25000/25000 [00:37<00:00, 675.36it/s]\n"
     ]
    },
    {
     "name": "stdout",
     "output_type": "stream",
     "text": [
      "[Epoch 1] Avg semantic log-likelihood: -1324.4083\n",
      "Epoch 2/3\n"
     ]
    },
    {
     "name": "stderr",
     "output_type": "stream",
     "text": [
      "100%|██████████| 25000/25000 [00:38<00:00, 657.61it/s]\n"
     ]
    },
    {
     "name": "stdout",
     "output_type": "stream",
     "text": [
      "[Epoch 2] Avg semantic log-likelihood: -957.4825\n",
      "Epoch 3/3\n"
     ]
    },
    {
     "name": "stderr",
     "output_type": "stream",
     "text": [
      "100%|██████████| 25000/25000 [00:37<00:00, 671.50it/s]\n"
     ]
    },
    {
     "name": "stdout",
     "output_type": "stream",
     "text": [
      "[Epoch 3] Avg semantic log-likelihood: -949.1956\n",
      "Epoch 1/3\n"
     ]
    },
    {
     "name": "stderr",
     "output_type": "stream",
     "text": [
      "100%|██████████| 25000/25000 [00:38<00:00, 650.27it/s]\n"
     ]
    },
    {
     "name": "stdout",
     "output_type": "stream",
     "text": [
      "[Epoch 1] Avg semantic log-likelihood: -1324.4065\n",
      "Epoch 2/3\n"
     ]
    },
    {
     "name": "stderr",
     "output_type": "stream",
     "text": [
      "100%|██████████| 25000/25000 [00:37<00:00, 675.50it/s]\n"
     ]
    },
    {
     "name": "stdout",
     "output_type": "stream",
     "text": [
      "[Epoch 2] Avg semantic log-likelihood: -957.4813\n",
      "Epoch 3/3\n"
     ]
    },
    {
     "name": "stderr",
     "output_type": "stream",
     "text": [
      "100%|██████████| 25000/25000 [00:37<00:00, 670.03it/s]\n"
     ]
    },
    {
     "name": "stdout",
     "output_type": "stream",
     "text": [
      "[Epoch 3] Avg semantic log-likelihood: -949.1861\n",
      "Epoch 1/3\n"
     ]
    },
    {
     "name": "stderr",
     "output_type": "stream",
     "text": [
      "100%|██████████| 25000/25000 [00:37<00:00, 665.76it/s]\n"
     ]
    },
    {
     "name": "stdout",
     "output_type": "stream",
     "text": [
      "[Epoch 1] Avg semantic log-likelihood: -1324.4050\n",
      "Epoch 2/3\n"
     ]
    },
    {
     "name": "stderr",
     "output_type": "stream",
     "text": [
      "100%|██████████| 25000/25000 [00:37<00:00, 672.42it/s]\n"
     ]
    },
    {
     "name": "stdout",
     "output_type": "stream",
     "text": [
      "[Epoch 2] Avg semantic log-likelihood: -957.4801\n",
      "Epoch 3/3\n"
     ]
    },
    {
     "name": "stderr",
     "output_type": "stream",
     "text": [
      "100%|██████████| 25000/25000 [00:36<00:00, 685.92it/s]\n"
     ]
    },
    {
     "name": "stdout",
     "output_type": "stream",
     "text": [
      "[Epoch 3] Avg semantic log-likelihood: -949.1805\n",
      "Epoch 1/3\n"
     ]
    },
    {
     "name": "stderr",
     "output_type": "stream",
     "text": [
      "100%|██████████| 25000/25000 [00:36<00:00, 678.85it/s]\n"
     ]
    },
    {
     "name": "stdout",
     "output_type": "stream",
     "text": [
      "[Epoch 1] Avg semantic log-likelihood: -1324.4084\n",
      "Epoch 2/3\n"
     ]
    },
    {
     "name": "stderr",
     "output_type": "stream",
     "text": [
      "100%|██████████| 25000/25000 [00:37<00:00, 675.09it/s]\n"
     ]
    },
    {
     "name": "stdout",
     "output_type": "stream",
     "text": [
      "[Epoch 2] Avg semantic log-likelihood: -957.4844\n",
      "Epoch 3/3\n"
     ]
    },
    {
     "name": "stderr",
     "output_type": "stream",
     "text": [
      "100%|██████████| 25000/25000 [00:36<00:00, 676.49it/s]\n"
     ]
    },
    {
     "name": "stdout",
     "output_type": "stream",
     "text": [
      "[Epoch 3] Avg semantic log-likelihood: -949.2147\n",
      "Epoch 1/3\n"
     ]
    },
    {
     "name": "stderr",
     "output_type": "stream",
     "text": [
      "100%|██████████| 25000/25000 [00:41<00:00, 598.67it/s]\n"
     ]
    },
    {
     "name": "stdout",
     "output_type": "stream",
     "text": [
      "[Epoch 1] Avg semantic log-likelihood: -1324.4066\n",
      "Epoch 2/3\n"
     ]
    },
    {
     "name": "stderr",
     "output_type": "stream",
     "text": [
      "100%|██████████| 25000/25000 [00:37<00:00, 662.64it/s]\n"
     ]
    },
    {
     "name": "stdout",
     "output_type": "stream",
     "text": [
      "[Epoch 2] Avg semantic log-likelihood: -957.4835\n",
      "Epoch 3/3\n"
     ]
    },
    {
     "name": "stderr",
     "output_type": "stream",
     "text": [
      "100%|██████████| 25000/25000 [00:37<00:00, 664.49it/s]\n"
     ]
    },
    {
     "name": "stdout",
     "output_type": "stream",
     "text": [
      "[Epoch 3] Avg semantic log-likelihood: -949.2057\n",
      "Epoch 1/3\n"
     ]
    },
    {
     "name": "stderr",
     "output_type": "stream",
     "text": [
      "100%|██████████| 25000/25000 [00:38<00:00, 650.06it/s]\n"
     ]
    },
    {
     "name": "stdout",
     "output_type": "stream",
     "text": [
      "[Epoch 1] Avg semantic log-likelihood: -1324.4086\n",
      "Epoch 2/3\n"
     ]
    },
    {
     "name": "stderr",
     "output_type": "stream",
     "text": [
      "100%|██████████| 25000/25000 [00:37<00:00, 670.48it/s]\n"
     ]
    },
    {
     "name": "stdout",
     "output_type": "stream",
     "text": [
      "[Epoch 2] Avg semantic log-likelihood: -957.4861\n",
      "Epoch 3/3\n"
     ]
    },
    {
     "name": "stderr",
     "output_type": "stream",
     "text": [
      "100%|██████████| 25000/25000 [00:37<00:00, 675.12it/s]\n"
     ]
    },
    {
     "name": "stdout",
     "output_type": "stream",
     "text": [
      "[Epoch 3] Avg semantic log-likelihood: -949.2293\n",
      "Epoch 1/3\n"
     ]
    },
    {
     "name": "stderr",
     "output_type": "stream",
     "text": [
      "100%|██████████| 25000/25000 [00:36<00:00, 684.09it/s]\n"
     ]
    },
    {
     "name": "stdout",
     "output_type": "stream",
     "text": [
      "[Epoch 1] Avg semantic log-likelihood: -1324.4080\n",
      "Epoch 2/3\n"
     ]
    },
    {
     "name": "stderr",
     "output_type": "stream",
     "text": [
      "100%|██████████| 25000/25000 [00:42<00:00, 592.45it/s]\n"
     ]
    },
    {
     "name": "stdout",
     "output_type": "stream",
     "text": [
      "[Epoch 2] Avg semantic log-likelihood: -957.4835\n",
      "Epoch 3/3\n"
     ]
    },
    {
     "name": "stderr",
     "output_type": "stream",
     "text": [
      "100%|██████████| 25000/25000 [00:37<00:00, 669.97it/s]\n"
     ]
    },
    {
     "name": "stdout",
     "output_type": "stream",
     "text": [
      "[Epoch 3] Avg semantic log-likelihood: -949.2040\n",
      "\n",
      "Generation 4, Best score: -949.6214\n",
      "Best individual: {'beta': 100, 'lambda_reg': 0.0001, 'nu_reg': 0.0001, 'learning_rate': 0.001}\n",
      "\n",
      "Epoch 1/3\n"
     ]
    },
    {
     "name": "stderr",
     "output_type": "stream",
     "text": [
      "100%|██████████| 25000/25000 [00:37<00:00, 668.46it/s]\n"
     ]
    },
    {
     "name": "stdout",
     "output_type": "stream",
     "text": [
      "[Epoch 1] Avg semantic log-likelihood: -1324.4065\n",
      "Epoch 2/3\n"
     ]
    },
    {
     "name": "stderr",
     "output_type": "stream",
     "text": [
      "100%|██████████| 25000/25000 [00:37<00:00, 661.25it/s]\n"
     ]
    },
    {
     "name": "stdout",
     "output_type": "stream",
     "text": [
      "[Epoch 2] Avg semantic log-likelihood: -957.4805\n",
      "Epoch 3/3\n"
     ]
    },
    {
     "name": "stderr",
     "output_type": "stream",
     "text": [
      "100%|██████████| 25000/25000 [00:36<00:00, 678.13it/s]\n"
     ]
    },
    {
     "name": "stdout",
     "output_type": "stream",
     "text": [
      "[Epoch 3] Avg semantic log-likelihood: -949.1827\n",
      "Epoch 1/3\n"
     ]
    },
    {
     "name": "stderr",
     "output_type": "stream",
     "text": [
      "100%|██████████| 25000/25000 [00:37<00:00, 669.67it/s]\n"
     ]
    },
    {
     "name": "stdout",
     "output_type": "stream",
     "text": [
      "[Epoch 1] Avg semantic log-likelihood: -1324.4062\n",
      "Epoch 2/3\n"
     ]
    },
    {
     "name": "stderr",
     "output_type": "stream",
     "text": [
      "100%|██████████| 25000/25000 [00:37<00:00, 665.94it/s]\n"
     ]
    },
    {
     "name": "stdout",
     "output_type": "stream",
     "text": [
      "[Epoch 2] Avg semantic log-likelihood: -957.4825\n",
      "Epoch 3/3\n"
     ]
    },
    {
     "name": "stderr",
     "output_type": "stream",
     "text": [
      "100%|██████████| 25000/25000 [00:38<00:00, 655.23it/s]\n"
     ]
    },
    {
     "name": "stdout",
     "output_type": "stream",
     "text": [
      "[Epoch 3] Avg semantic log-likelihood: -949.2007\n",
      "Epoch 1/3\n"
     ]
    },
    {
     "name": "stderr",
     "output_type": "stream",
     "text": [
      "100%|██████████| 25000/25000 [00:36<00:00, 681.11it/s]\n"
     ]
    },
    {
     "name": "stdout",
     "output_type": "stream",
     "text": [
      "[Epoch 1] Avg semantic log-likelihood: -1324.4064\n",
      "Epoch 2/3\n"
     ]
    },
    {
     "name": "stderr",
     "output_type": "stream",
     "text": [
      "100%|██████████| 25000/25000 [00:37<00:00, 670.62it/s]\n"
     ]
    },
    {
     "name": "stdout",
     "output_type": "stream",
     "text": [
      "[Epoch 2] Avg semantic log-likelihood: -957.4824\n",
      "Epoch 3/3\n"
     ]
    },
    {
     "name": "stderr",
     "output_type": "stream",
     "text": [
      "100%|██████████| 25000/25000 [00:37<00:00, 666.70it/s]\n"
     ]
    },
    {
     "name": "stdout",
     "output_type": "stream",
     "text": [
      "[Epoch 3] Avg semantic log-likelihood: -949.2018\n",
      "Epoch 1/3\n"
     ]
    },
    {
     "name": "stderr",
     "output_type": "stream",
     "text": [
      "100%|██████████| 25000/25000 [00:37<00:00, 670.57it/s]\n"
     ]
    },
    {
     "name": "stdout",
     "output_type": "stream",
     "text": [
      "[Epoch 1] Avg semantic log-likelihood: -1324.4060\n",
      "Epoch 2/3\n"
     ]
    },
    {
     "name": "stderr",
     "output_type": "stream",
     "text": [
      "100%|██████████| 25000/25000 [00:38<00:00, 656.62it/s]\n"
     ]
    },
    {
     "name": "stdout",
     "output_type": "stream",
     "text": [
      "[Epoch 2] Avg semantic log-likelihood: -957.4806\n",
      "Epoch 3/3\n"
     ]
    },
    {
     "name": "stderr",
     "output_type": "stream",
     "text": [
      "100%|██████████| 25000/25000 [00:37<00:00, 668.11it/s]\n"
     ]
    },
    {
     "name": "stdout",
     "output_type": "stream",
     "text": [
      "[Epoch 3] Avg semantic log-likelihood: -949.1799\n",
      "Epoch 1/3\n"
     ]
    },
    {
     "name": "stderr",
     "output_type": "stream",
     "text": [
      "100%|██████████| 25000/25000 [00:38<00:00, 651.38it/s]\n"
     ]
    },
    {
     "name": "stdout",
     "output_type": "stream",
     "text": [
      "[Epoch 1] Avg semantic log-likelihood: -1324.4078\n",
      "Epoch 2/3\n"
     ]
    },
    {
     "name": "stderr",
     "output_type": "stream",
     "text": [
      "100%|██████████| 25000/25000 [00:36<00:00, 678.84it/s]\n"
     ]
    },
    {
     "name": "stdout",
     "output_type": "stream",
     "text": [
      "[Epoch 2] Avg semantic log-likelihood: -957.4843\n",
      "Epoch 3/3\n"
     ]
    },
    {
     "name": "stderr",
     "output_type": "stream",
     "text": [
      "100%|██████████| 25000/25000 [00:37<00:00, 674.06it/s]\n"
     ]
    },
    {
     "name": "stdout",
     "output_type": "stream",
     "text": [
      "[Epoch 3] Avg semantic log-likelihood: -949.2147\n",
      "Epoch 1/3\n"
     ]
    },
    {
     "name": "stderr",
     "output_type": "stream",
     "text": [
      "100%|██████████| 25000/25000 [00:38<00:00, 657.84it/s]\n"
     ]
    },
    {
     "name": "stdout",
     "output_type": "stream",
     "text": [
      "[Epoch 1] Avg semantic log-likelihood: -1324.4043\n",
      "Epoch 2/3\n"
     ]
    },
    {
     "name": "stderr",
     "output_type": "stream",
     "text": [
      "100%|██████████| 25000/25000 [00:37<00:00, 674.14it/s]\n"
     ]
    },
    {
     "name": "stdout",
     "output_type": "stream",
     "text": [
      "[Epoch 2] Avg semantic log-likelihood: -957.4813\n",
      "Epoch 3/3\n"
     ]
    },
    {
     "name": "stderr",
     "output_type": "stream",
     "text": [
      "100%|██████████| 25000/25000 [00:37<00:00, 662.15it/s]\n"
     ]
    },
    {
     "name": "stdout",
     "output_type": "stream",
     "text": [
      "[Epoch 3] Avg semantic log-likelihood: -949.1904\n",
      "Epoch 1/3\n"
     ]
    },
    {
     "name": "stderr",
     "output_type": "stream",
     "text": [
      "100%|██████████| 25000/25000 [00:36<00:00, 681.09it/s]\n"
     ]
    },
    {
     "name": "stdout",
     "output_type": "stream",
     "text": [
      "[Epoch 1] Avg semantic log-likelihood: -1324.4088\n",
      "Epoch 2/3\n"
     ]
    },
    {
     "name": "stderr",
     "output_type": "stream",
     "text": [
      "100%|██████████| 25000/25000 [00:36<00:00, 679.34it/s]\n"
     ]
    },
    {
     "name": "stdout",
     "output_type": "stream",
     "text": [
      "[Epoch 2] Avg semantic log-likelihood: -957.4828\n",
      "Epoch 3/3\n"
     ]
    },
    {
     "name": "stderr",
     "output_type": "stream",
     "text": [
      "100%|██████████| 25000/25000 [00:37<00:00, 667.98it/s]\n"
     ]
    },
    {
     "name": "stdout",
     "output_type": "stream",
     "text": [
      "[Epoch 3] Avg semantic log-likelihood: -949.1984\n",
      "Epoch 1/3\n"
     ]
    },
    {
     "name": "stderr",
     "output_type": "stream",
     "text": [
      "100%|██████████| 25000/25000 [00:37<00:00, 667.87it/s]\n"
     ]
    },
    {
     "name": "stdout",
     "output_type": "stream",
     "text": [
      "[Epoch 1] Avg semantic log-likelihood: -1324.4102\n",
      "Epoch 2/3\n"
     ]
    },
    {
     "name": "stderr",
     "output_type": "stream",
     "text": [
      "100%|██████████| 25000/25000 [00:36<00:00, 685.12it/s]\n"
     ]
    },
    {
     "name": "stdout",
     "output_type": "stream",
     "text": [
      "[Epoch 2] Avg semantic log-likelihood: -957.4862\n",
      "Epoch 3/3\n"
     ]
    },
    {
     "name": "stderr",
     "output_type": "stream",
     "text": [
      "100%|██████████| 25000/25000 [00:37<00:00, 674.85it/s]\n"
     ]
    },
    {
     "name": "stdout",
     "output_type": "stream",
     "text": [
      "[Epoch 3] Avg semantic log-likelihood: -949.2231\n",
      "Epoch 1/3\n"
     ]
    },
    {
     "name": "stderr",
     "output_type": "stream",
     "text": [
      "100%|██████████| 25000/25000 [00:37<00:00, 673.40it/s]\n"
     ]
    },
    {
     "name": "stdout",
     "output_type": "stream",
     "text": [
      "[Epoch 1] Avg semantic log-likelihood: -1324.4069\n",
      "Epoch 2/3\n"
     ]
    },
    {
     "name": "stderr",
     "output_type": "stream",
     "text": [
      "100%|██████████| 25000/25000 [00:38<00:00, 656.14it/s]\n"
     ]
    },
    {
     "name": "stdout",
     "output_type": "stream",
     "text": [
      "[Epoch 2] Avg semantic log-likelihood: -957.4851\n",
      "Epoch 3/3\n"
     ]
    },
    {
     "name": "stderr",
     "output_type": "stream",
     "text": [
      "100%|██████████| 25000/25000 [00:37<00:00, 669.85it/s]\n"
     ]
    },
    {
     "name": "stdout",
     "output_type": "stream",
     "text": [
      "[Epoch 3] Avg semantic log-likelihood: -949.2218\n",
      "Epoch 1/3\n"
     ]
    },
    {
     "name": "stderr",
     "output_type": "stream",
     "text": [
      "100%|██████████| 25000/25000 [00:37<00:00, 670.49it/s]\n"
     ]
    },
    {
     "name": "stdout",
     "output_type": "stream",
     "text": [
      "[Epoch 1] Avg semantic log-likelihood: -1324.4054\n",
      "Epoch 2/3\n"
     ]
    },
    {
     "name": "stderr",
     "output_type": "stream",
     "text": [
      "100%|██████████| 25000/25000 [00:36<00:00, 688.13it/s]\n"
     ]
    },
    {
     "name": "stdout",
     "output_type": "stream",
     "text": [
      "[Epoch 2] Avg semantic log-likelihood: -957.4811\n",
      "Epoch 3/3\n"
     ]
    },
    {
     "name": "stderr",
     "output_type": "stream",
     "text": [
      "100%|██████████| 25000/25000 [00:37<00:00, 669.94it/s]\n"
     ]
    },
    {
     "name": "stdout",
     "output_type": "stream",
     "text": [
      "[Epoch 3] Avg semantic log-likelihood: -949.1870\n",
      "\n",
      "Generation 5, Best score: -949.6260\n",
      "Best individual: {'beta': 100, 'lambda_reg': 0.0001, 'nu_reg': 0.0001, 'learning_rate': 0.001}\n",
      "\n",
      "Epoch 1/3\n"
     ]
    },
    {
     "name": "stderr",
     "output_type": "stream",
     "text": [
      "100%|██████████| 25000/25000 [00:37<00:00, 667.42it/s]\n"
     ]
    },
    {
     "name": "stdout",
     "output_type": "stream",
     "text": [
      "[Epoch 1] Avg semantic log-likelihood: -1324.4077\n",
      "Epoch 2/3\n"
     ]
    },
    {
     "name": "stderr",
     "output_type": "stream",
     "text": [
      "100%|██████████| 25000/25000 [00:36<00:00, 678.18it/s]\n"
     ]
    },
    {
     "name": "stdout",
     "output_type": "stream",
     "text": [
      "[Epoch 2] Avg semantic log-likelihood: -957.4845\n",
      "Epoch 3/3\n"
     ]
    },
    {
     "name": "stderr",
     "output_type": "stream",
     "text": [
      "100%|██████████| 25000/25000 [00:38<00:00, 651.35it/s]\n"
     ]
    },
    {
     "name": "stdout",
     "output_type": "stream",
     "text": [
      "[Epoch 3] Avg semantic log-likelihood: -949.2168\n",
      "Epoch 1/3\n"
     ]
    },
    {
     "name": "stderr",
     "output_type": "stream",
     "text": [
      "100%|██████████| 25000/25000 [00:37<00:00, 658.21it/s]\n"
     ]
    },
    {
     "name": "stdout",
     "output_type": "stream",
     "text": [
      "[Epoch 1] Avg semantic log-likelihood: -1324.4065\n",
      "Epoch 2/3\n"
     ]
    },
    {
     "name": "stderr",
     "output_type": "stream",
     "text": [
      "100%|██████████| 25000/25000 [00:36<00:00, 683.67it/s]\n"
     ]
    },
    {
     "name": "stdout",
     "output_type": "stream",
     "text": [
      "[Epoch 2] Avg semantic log-likelihood: -957.4830\n",
      "Epoch 3/3\n"
     ]
    },
    {
     "name": "stderr",
     "output_type": "stream",
     "text": [
      "100%|██████████| 25000/25000 [00:36<00:00, 678.95it/s]\n"
     ]
    },
    {
     "name": "stdout",
     "output_type": "stream",
     "text": [
      "[Epoch 3] Avg semantic log-likelihood: -949.2022\n",
      "Epoch 1/3\n"
     ]
    },
    {
     "name": "stderr",
     "output_type": "stream",
     "text": [
      "100%|██████████| 25000/25000 [00:37<00:00, 657.96it/s]\n"
     ]
    },
    {
     "name": "stdout",
     "output_type": "stream",
     "text": [
      "[Epoch 1] Avg semantic log-likelihood: -1324.4074\n",
      "Epoch 2/3\n"
     ]
    },
    {
     "name": "stderr",
     "output_type": "stream",
     "text": [
      "100%|██████████| 25000/25000 [00:37<00:00, 670.37it/s]\n"
     ]
    },
    {
     "name": "stdout",
     "output_type": "stream",
     "text": [
      "[Epoch 2] Avg semantic log-likelihood: -957.4831\n",
      "Epoch 3/3\n"
     ]
    },
    {
     "name": "stderr",
     "output_type": "stream",
     "text": [
      "100%|██████████| 25000/25000 [00:37<00:00, 660.12it/s]\n"
     ]
    },
    {
     "name": "stdout",
     "output_type": "stream",
     "text": [
      "[Epoch 3] Avg semantic log-likelihood: -949.2032\n",
      "Epoch 1/3\n"
     ]
    },
    {
     "name": "stderr",
     "output_type": "stream",
     "text": [
      "100%|██████████| 25000/25000 [00:36<00:00, 678.77it/s]\n"
     ]
    },
    {
     "name": "stdout",
     "output_type": "stream",
     "text": [
      "[Epoch 1] Avg semantic log-likelihood: -1324.4096\n",
      "Epoch 2/3\n"
     ]
    },
    {
     "name": "stderr",
     "output_type": "stream",
     "text": [
      "100%|██████████| 25000/25000 [00:37<00:00, 671.81it/s]\n"
     ]
    },
    {
     "name": "stdout",
     "output_type": "stream",
     "text": [
      "[Epoch 2] Avg semantic log-likelihood: -957.4847\n",
      "Epoch 3/3\n"
     ]
    },
    {
     "name": "stderr",
     "output_type": "stream",
     "text": [
      "100%|██████████| 25000/25000 [00:37<00:00, 666.70it/s]\n"
     ]
    },
    {
     "name": "stdout",
     "output_type": "stream",
     "text": [
      "[Epoch 3] Avg semantic log-likelihood: -949.2121\n",
      "Epoch 1/3\n"
     ]
    },
    {
     "name": "stderr",
     "output_type": "stream",
     "text": [
      "100%|██████████| 25000/25000 [00:36<00:00, 680.74it/s]\n"
     ]
    },
    {
     "name": "stdout",
     "output_type": "stream",
     "text": [
      "[Epoch 1] Avg semantic log-likelihood: -1324.4062\n",
      "Epoch 2/3\n"
     ]
    },
    {
     "name": "stderr",
     "output_type": "stream",
     "text": [
      "100%|██████████| 25000/25000 [00:37<00:00, 660.91it/s]\n"
     ]
    },
    {
     "name": "stdout",
     "output_type": "stream",
     "text": [
      "[Epoch 2] Avg semantic log-likelihood: -957.4836\n",
      "Epoch 3/3\n"
     ]
    },
    {
     "name": "stderr",
     "output_type": "stream",
     "text": [
      "100%|██████████| 25000/25000 [00:36<00:00, 679.13it/s]\n"
     ]
    },
    {
     "name": "stdout",
     "output_type": "stream",
     "text": [
      "[Epoch 3] Avg semantic log-likelihood: -949.2079\n",
      "Epoch 1/3\n"
     ]
    },
    {
     "name": "stderr",
     "output_type": "stream",
     "text": [
      "100%|██████████| 25000/25000 [00:09<00:00, 2677.91it/s]\n"
     ]
    },
    {
     "name": "stdout",
     "output_type": "stream",
     "text": [
      "[Epoch 1] Avg semantic log-likelihood: -1324.4155\n",
      "Epoch 2/3\n"
     ]
    },
    {
     "name": "stderr",
     "output_type": "stream",
     "text": [
      "100%|██████████| 25000/25000 [00:09<00:00, 2564.55it/s]\n"
     ]
    },
    {
     "name": "stdout",
     "output_type": "stream",
     "text": [
      "[Epoch 2] Avg semantic log-likelihood: -957.4966\n",
      "Epoch 3/3\n"
     ]
    },
    {
     "name": "stderr",
     "output_type": "stream",
     "text": [
      "100%|██████████| 25000/25000 [00:09<00:00, 2525.87it/s]\n"
     ]
    },
    {
     "name": "stdout",
     "output_type": "stream",
     "text": [
      "[Epoch 3] Avg semantic log-likelihood: -949.2715\n",
      "Epoch 1/3\n"
     ]
    },
    {
     "name": "stderr",
     "output_type": "stream",
     "text": [
      "100%|██████████| 25000/25000 [00:37<00:00, 675.00it/s]\n"
     ]
    },
    {
     "name": "stdout",
     "output_type": "stream",
     "text": [
      "[Epoch 1] Avg semantic log-likelihood: -1324.4074\n",
      "Epoch 2/3\n"
     ]
    },
    {
     "name": "stderr",
     "output_type": "stream",
     "text": [
      "100%|██████████| 25000/25000 [00:37<00:00, 663.28it/s]\n"
     ]
    },
    {
     "name": "stdout",
     "output_type": "stream",
     "text": [
      "[Epoch 2] Avg semantic log-likelihood: -957.4842\n",
      "Epoch 3/3\n"
     ]
    },
    {
     "name": "stderr",
     "output_type": "stream",
     "text": [
      "100%|██████████| 25000/25000 [00:36<00:00, 679.13it/s]\n"
     ]
    },
    {
     "name": "stdout",
     "output_type": "stream",
     "text": [
      "[Epoch 3] Avg semantic log-likelihood: -949.2115\n",
      "Epoch 1/3\n"
     ]
    },
    {
     "name": "stderr",
     "output_type": "stream",
     "text": [
      "100%|██████████| 25000/25000 [00:37<00:00, 671.98it/s]\n"
     ]
    },
    {
     "name": "stdout",
     "output_type": "stream",
     "text": [
      "[Epoch 1] Avg semantic log-likelihood: -1324.4066\n",
      "Epoch 2/3\n"
     ]
    },
    {
     "name": "stderr",
     "output_type": "stream",
     "text": [
      "100%|██████████| 25000/25000 [00:37<00:00, 670.77it/s]\n"
     ]
    },
    {
     "name": "stdout",
     "output_type": "stream",
     "text": [
      "[Epoch 2] Avg semantic log-likelihood: -957.4829\n",
      "Epoch 3/3\n"
     ]
    },
    {
     "name": "stderr",
     "output_type": "stream",
     "text": [
      "100%|██████████| 25000/25000 [00:37<00:00, 665.36it/s]\n"
     ]
    },
    {
     "name": "stdout",
     "output_type": "stream",
     "text": [
      "[Epoch 3] Avg semantic log-likelihood: -949.2015\n",
      "Epoch 1/3\n"
     ]
    },
    {
     "name": "stderr",
     "output_type": "stream",
     "text": [
      "100%|██████████| 25000/25000 [00:36<00:00, 675.86it/s]\n"
     ]
    },
    {
     "name": "stdout",
     "output_type": "stream",
     "text": [
      "[Epoch 1] Avg semantic log-likelihood: -1324.4089\n",
      "Epoch 2/3\n"
     ]
    },
    {
     "name": "stderr",
     "output_type": "stream",
     "text": [
      "100%|██████████| 25000/25000 [00:37<00:00, 660.33it/s]\n"
     ]
    },
    {
     "name": "stdout",
     "output_type": "stream",
     "text": [
      "[Epoch 2] Avg semantic log-likelihood: -957.4853\n",
      "Epoch 3/3\n"
     ]
    },
    {
     "name": "stderr",
     "output_type": "stream",
     "text": [
      "100%|██████████| 25000/25000 [00:37<00:00, 669.79it/s]\n"
     ]
    },
    {
     "name": "stdout",
     "output_type": "stream",
     "text": [
      "[Epoch 3] Avg semantic log-likelihood: -949.2209\n",
      "Epoch 1/3\n"
     ]
    },
    {
     "name": "stderr",
     "output_type": "stream",
     "text": [
      "100%|██████████| 25000/25000 [00:11<00:00, 2133.02it/s]\n"
     ]
    },
    {
     "name": "stdout",
     "output_type": "stream",
     "text": [
      "[Epoch 1] Avg semantic log-likelihood: -1324.4109\n",
      "Epoch 2/3\n"
     ]
    },
    {
     "name": "stderr",
     "output_type": "stream",
     "text": [
      "100%|██████████| 25000/25000 [00:12<00:00, 1993.41it/s]\n"
     ]
    },
    {
     "name": "stdout",
     "output_type": "stream",
     "text": [
      "[Epoch 2] Avg semantic log-likelihood: -957.4908\n",
      "Epoch 3/3\n"
     ]
    },
    {
     "name": "stderr",
     "output_type": "stream",
     "text": [
      "100%|██████████| 25000/25000 [00:12<00:00, 2013.70it/s]\n"
     ]
    },
    {
     "name": "stdout",
     "output_type": "stream",
     "text": [
      "[Epoch 3] Avg semantic log-likelihood: -949.2463\n",
      "\n",
      "Generation 6, Best score: -949.6454\n",
      "Best individual: {'beta': 100, 'lambda_reg': 0.0001, 'nu_reg': 0.0001, 'learning_rate': 0.001}\n",
      "\n",
      "Epoch 1/3\n"
     ]
    },
    {
     "name": "stderr",
     "output_type": "stream",
     "text": [
      "100%|██████████| 25000/25000 [00:36<00:00, 680.25it/s]\n"
     ]
    },
    {
     "name": "stdout",
     "output_type": "stream",
     "text": [
      "[Epoch 1] Avg semantic log-likelihood: -1324.4068\n",
      "Epoch 2/3\n"
     ]
    },
    {
     "name": "stderr",
     "output_type": "stream",
     "text": [
      "100%|██████████| 25000/25000 [00:37<00:00, 665.73it/s]\n"
     ]
    },
    {
     "name": "stdout",
     "output_type": "stream",
     "text": [
      "[Epoch 2] Avg semantic log-likelihood: -957.4831\n",
      "Epoch 3/3\n"
     ]
    },
    {
     "name": "stderr",
     "output_type": "stream",
     "text": [
      "100%|██████████| 25000/25000 [00:37<00:00, 660.61it/s]\n"
     ]
    },
    {
     "name": "stdout",
     "output_type": "stream",
     "text": [
      "[Epoch 3] Avg semantic log-likelihood: -949.2002\n",
      "Epoch 1/3\n"
     ]
    },
    {
     "name": "stderr",
     "output_type": "stream",
     "text": [
      "100%|██████████| 25000/25000 [00:37<00:00, 668.91it/s]\n"
     ]
    },
    {
     "name": "stdout",
     "output_type": "stream",
     "text": [
      "[Epoch 1] Avg semantic log-likelihood: -1324.4093\n",
      "Epoch 2/3\n"
     ]
    },
    {
     "name": "stderr",
     "output_type": "stream",
     "text": [
      "100%|██████████| 25000/25000 [00:37<00:00, 658.40it/s]\n"
     ]
    },
    {
     "name": "stdout",
     "output_type": "stream",
     "text": [
      "[Epoch 2] Avg semantic log-likelihood: -957.4831\n",
      "Epoch 3/3\n"
     ]
    },
    {
     "name": "stderr",
     "output_type": "stream",
     "text": [
      "100%|██████████| 25000/25000 [00:37<00:00, 664.91it/s]\n"
     ]
    },
    {
     "name": "stdout",
     "output_type": "stream",
     "text": [
      "[Epoch 3] Avg semantic log-likelihood: -949.2013\n",
      "Epoch 1/3\n"
     ]
    },
    {
     "name": "stderr",
     "output_type": "stream",
     "text": [
      "100%|██████████| 25000/25000 [00:37<00:00, 664.25it/s]\n"
     ]
    },
    {
     "name": "stdout",
     "output_type": "stream",
     "text": [
      "[Epoch 1] Avg semantic log-likelihood: -1324.4067\n",
      "Epoch 2/3\n"
     ]
    },
    {
     "name": "stderr",
     "output_type": "stream",
     "text": [
      "100%|██████████| 25000/25000 [00:36<00:00, 682.61it/s]\n"
     ]
    },
    {
     "name": "stdout",
     "output_type": "stream",
     "text": [
      "[Epoch 2] Avg semantic log-likelihood: -957.4835\n",
      "Epoch 3/3\n"
     ]
    },
    {
     "name": "stderr",
     "output_type": "stream",
     "text": [
      "100%|██████████| 25000/25000 [00:37<00:00, 668.24it/s]\n"
     ]
    },
    {
     "name": "stdout",
     "output_type": "stream",
     "text": [
      "[Epoch 3] Avg semantic log-likelihood: -949.2097\n",
      "Epoch 1/3\n"
     ]
    },
    {
     "name": "stderr",
     "output_type": "stream",
     "text": [
      "100%|██████████| 25000/25000 [00:36<00:00, 689.69it/s]\n"
     ]
    },
    {
     "name": "stdout",
     "output_type": "stream",
     "text": [
      "[Epoch 1] Avg semantic log-likelihood: -1324.4054\n",
      "Epoch 2/3\n"
     ]
    },
    {
     "name": "stderr",
     "output_type": "stream",
     "text": [
      "100%|██████████| 25000/25000 [00:37<00:00, 670.39it/s]\n"
     ]
    },
    {
     "name": "stdout",
     "output_type": "stream",
     "text": [
      "[Epoch 2] Avg semantic log-likelihood: -957.4814\n",
      "Epoch 3/3\n"
     ]
    },
    {
     "name": "stderr",
     "output_type": "stream",
     "text": [
      "100%|██████████| 25000/25000 [00:37<00:00, 660.82it/s]\n"
     ]
    },
    {
     "name": "stdout",
     "output_type": "stream",
     "text": [
      "[Epoch 3] Avg semantic log-likelihood: -949.1887\n",
      "Epoch 1/3\n"
     ]
    },
    {
     "name": "stderr",
     "output_type": "stream",
     "text": [
      "100%|██████████| 25000/25000 [00:36<00:00, 675.77it/s]\n"
     ]
    },
    {
     "name": "stdout",
     "output_type": "stream",
     "text": [
      "[Epoch 1] Avg semantic log-likelihood: -1324.4062\n",
      "Epoch 2/3\n"
     ]
    },
    {
     "name": "stderr",
     "output_type": "stream",
     "text": [
      "100%|██████████| 25000/25000 [00:37<00:00, 671.07it/s]\n"
     ]
    },
    {
     "name": "stdout",
     "output_type": "stream",
     "text": [
      "[Epoch 2] Avg semantic log-likelihood: -957.4812\n",
      "Epoch 3/3\n"
     ]
    },
    {
     "name": "stderr",
     "output_type": "stream",
     "text": [
      "100%|██████████| 25000/25000 [00:36<00:00, 676.24it/s]\n"
     ]
    },
    {
     "name": "stdout",
     "output_type": "stream",
     "text": [
      "[Epoch 3] Avg semantic log-likelihood: -949.1845\n",
      "Epoch 1/3\n"
     ]
    },
    {
     "name": "stderr",
     "output_type": "stream",
     "text": [
      "100%|██████████| 25000/25000 [00:37<00:00, 669.65it/s]\n"
     ]
    },
    {
     "name": "stdout",
     "output_type": "stream",
     "text": [
      "[Epoch 1] Avg semantic log-likelihood: -1324.4071\n",
      "Epoch 2/3\n"
     ]
    },
    {
     "name": "stderr",
     "output_type": "stream",
     "text": [
      "100%|██████████| 25000/25000 [00:37<00:00, 666.79it/s]\n"
     ]
    },
    {
     "name": "stdout",
     "output_type": "stream",
     "text": [
      "[Epoch 2] Avg semantic log-likelihood: -957.4818\n",
      "Epoch 3/3\n"
     ]
    },
    {
     "name": "stderr",
     "output_type": "stream",
     "text": [
      "100%|██████████| 25000/25000 [00:37<00:00, 665.60it/s]\n"
     ]
    },
    {
     "name": "stdout",
     "output_type": "stream",
     "text": [
      "[Epoch 3] Avg semantic log-likelihood: -949.1891\n",
      "Epoch 1/3\n"
     ]
    },
    {
     "name": "stderr",
     "output_type": "stream",
     "text": [
      "100%|██████████| 25000/25000 [00:41<00:00, 601.41it/s]\n"
     ]
    },
    {
     "name": "stdout",
     "output_type": "stream",
     "text": [
      "[Epoch 1] Avg semantic log-likelihood: -1324.4095\n",
      "Epoch 2/3\n"
     ]
    },
    {
     "name": "stderr",
     "output_type": "stream",
     "text": [
      "100%|██████████| 25000/25000 [00:44<00:00, 562.55it/s]\n"
     ]
    },
    {
     "name": "stdout",
     "output_type": "stream",
     "text": [
      "[Epoch 2] Avg semantic log-likelihood: -957.4857\n",
      "Epoch 3/3\n"
     ]
    },
    {
     "name": "stderr",
     "output_type": "stream",
     "text": [
      "100%|██████████| 25000/25000 [00:36<00:00, 683.18it/s]\n"
     ]
    },
    {
     "name": "stdout",
     "output_type": "stream",
     "text": [
      "[Epoch 3] Avg semantic log-likelihood: -949.2212\n",
      "Epoch 1/3\n"
     ]
    },
    {
     "name": "stderr",
     "output_type": "stream",
     "text": [
      "100%|██████████| 25000/25000 [00:37<00:00, 670.76it/s]\n"
     ]
    },
    {
     "name": "stdout",
     "output_type": "stream",
     "text": [
      "[Epoch 1] Avg semantic log-likelihood: -1324.4072\n",
      "Epoch 2/3\n"
     ]
    },
    {
     "name": "stderr",
     "output_type": "stream",
     "text": [
      "100%|██████████| 25000/25000 [00:38<00:00, 648.10it/s]\n"
     ]
    },
    {
     "name": "stdout",
     "output_type": "stream",
     "text": [
      "[Epoch 2] Avg semantic log-likelihood: -957.4826\n",
      "Epoch 3/3\n"
     ]
    },
    {
     "name": "stderr",
     "output_type": "stream",
     "text": [
      "100%|██████████| 25000/25000 [00:38<00:00, 644.86it/s]\n"
     ]
    },
    {
     "name": "stdout",
     "output_type": "stream",
     "text": [
      "[Epoch 3] Avg semantic log-likelihood: -949.1982\n",
      "Epoch 1/3\n"
     ]
    },
    {
     "name": "stderr",
     "output_type": "stream",
     "text": [
      "100%|██████████| 25000/25000 [00:38<00:00, 648.12it/s]\n"
     ]
    },
    {
     "name": "stdout",
     "output_type": "stream",
     "text": [
      "[Epoch 1] Avg semantic log-likelihood: -1324.4073\n",
      "Epoch 2/3\n"
     ]
    },
    {
     "name": "stderr",
     "output_type": "stream",
     "text": [
      "100%|██████████| 25000/25000 [00:37<00:00, 667.56it/s]\n"
     ]
    },
    {
     "name": "stdout",
     "output_type": "stream",
     "text": [
      "[Epoch 2] Avg semantic log-likelihood: -957.4819\n",
      "Epoch 3/3\n"
     ]
    },
    {
     "name": "stderr",
     "output_type": "stream",
     "text": [
      "100%|██████████| 25000/25000 [00:37<00:00, 674.00it/s]\n"
     ]
    },
    {
     "name": "stdout",
     "output_type": "stream",
     "text": [
      "[Epoch 3] Avg semantic log-likelihood: -949.1916\n",
      "Epoch 1/3\n"
     ]
    },
    {
     "name": "stderr",
     "output_type": "stream",
     "text": [
      "100%|██████████| 25000/25000 [00:38<00:00, 651.57it/s]\n"
     ]
    },
    {
     "name": "stdout",
     "output_type": "stream",
     "text": [
      "[Epoch 1] Avg semantic log-likelihood: -1324.3534\n",
      "Epoch 2/3\n"
     ]
    },
    {
     "name": "stderr",
     "output_type": "stream",
     "text": [
      "100%|██████████| 25000/25000 [00:37<00:00, 674.33it/s]\n"
     ]
    },
    {
     "name": "stdout",
     "output_type": "stream",
     "text": [
      "[Epoch 2] Avg semantic log-likelihood: -943.3882\n",
      "Epoch 3/3\n"
     ]
    },
    {
     "name": "stderr",
     "output_type": "stream",
     "text": [
      "100%|██████████| 25000/25000 [00:43<00:00, 580.75it/s]\n"
     ]
    },
    {
     "name": "stdout",
     "output_type": "stream",
     "text": [
      "[Epoch 3] Avg semantic log-likelihood: -2686.9090\n",
      "\n",
      "Generation 7, Best score: -949.6325\n",
      "Best individual: {'beta': 100, 'lambda_reg': 0.0001, 'nu_reg': 0.0001, 'learning_rate': 0.001}\n",
      "\n",
      "Epoch 1/3\n"
     ]
    },
    {
     "name": "stderr",
     "output_type": "stream",
     "text": [
      "100%|██████████| 25000/25000 [00:35<00:00, 705.99it/s]\n"
     ]
    },
    {
     "name": "stdout",
     "output_type": "stream",
     "text": [
      "[Epoch 1] Avg semantic log-likelihood: -1324.4080\n",
      "Epoch 2/3\n"
     ]
    },
    {
     "name": "stderr",
     "output_type": "stream",
     "text": [
      "100%|██████████| 25000/25000 [00:34<00:00, 729.52it/s]\n"
     ]
    },
    {
     "name": "stdout",
     "output_type": "stream",
     "text": [
      "[Epoch 2] Avg semantic log-likelihood: -957.4824\n",
      "Epoch 3/3\n"
     ]
    },
    {
     "name": "stderr",
     "output_type": "stream",
     "text": [
      "100%|██████████| 25000/25000 [00:33<00:00, 741.52it/s]\n"
     ]
    },
    {
     "name": "stdout",
     "output_type": "stream",
     "text": [
      "[Epoch 3] Avg semantic log-likelihood: -949.1948\n",
      "Epoch 1/3\n"
     ]
    },
    {
     "name": "stderr",
     "output_type": "stream",
     "text": [
      "100%|██████████| 25000/25000 [00:34<00:00, 728.16it/s]\n"
     ]
    },
    {
     "name": "stdout",
     "output_type": "stream",
     "text": [
      "[Epoch 1] Avg semantic log-likelihood: -1324.4062\n",
      "Epoch 2/3\n"
     ]
    },
    {
     "name": "stderr",
     "output_type": "stream",
     "text": [
      "100%|██████████| 25000/25000 [00:33<00:00, 747.37it/s]\n"
     ]
    },
    {
     "name": "stdout",
     "output_type": "stream",
     "text": [
      "[Epoch 2] Avg semantic log-likelihood: -957.4832\n",
      "Epoch 3/3\n"
     ]
    },
    {
     "name": "stderr",
     "output_type": "stream",
     "text": [
      "100%|██████████| 25000/25000 [00:34<00:00, 728.19it/s]\n"
     ]
    },
    {
     "name": "stdout",
     "output_type": "stream",
     "text": [
      "[Epoch 3] Avg semantic log-likelihood: -949.2050\n",
      "Epoch 1/3\n"
     ]
    },
    {
     "name": "stderr",
     "output_type": "stream",
     "text": [
      "100%|██████████| 25000/25000 [00:34<00:00, 715.21it/s]\n"
     ]
    },
    {
     "name": "stdout",
     "output_type": "stream",
     "text": [
      "[Epoch 1] Avg semantic log-likelihood: -1324.4088\n",
      "Epoch 2/3\n"
     ]
    },
    {
     "name": "stderr",
     "output_type": "stream",
     "text": [
      "100%|██████████| 25000/25000 [00:34<00:00, 717.91it/s]\n"
     ]
    },
    {
     "name": "stdout",
     "output_type": "stream",
     "text": [
      "[Epoch 2] Avg semantic log-likelihood: -957.4847\n",
      "Epoch 3/3\n"
     ]
    },
    {
     "name": "stderr",
     "output_type": "stream",
     "text": [
      "100%|██████████| 25000/25000 [00:33<00:00, 740.44it/s]\n"
     ]
    },
    {
     "name": "stdout",
     "output_type": "stream",
     "text": [
      "[Epoch 3] Avg semantic log-likelihood: -949.2156\n",
      "Epoch 1/3\n"
     ]
    },
    {
     "name": "stderr",
     "output_type": "stream",
     "text": [
      "100%|██████████| 25000/25000 [00:34<00:00, 724.91it/s]\n"
     ]
    },
    {
     "name": "stdout",
     "output_type": "stream",
     "text": [
      "[Epoch 1] Avg semantic log-likelihood: -1324.4075\n",
      "Epoch 2/3\n"
     ]
    },
    {
     "name": "stderr",
     "output_type": "stream",
     "text": [
      "100%|██████████| 25000/25000 [00:35<00:00, 706.16it/s]\n"
     ]
    },
    {
     "name": "stdout",
     "output_type": "stream",
     "text": [
      "[Epoch 2] Avg semantic log-likelihood: -957.4816\n",
      "Epoch 3/3\n"
     ]
    },
    {
     "name": "stderr",
     "output_type": "stream",
     "text": [
      "100%|██████████| 25000/25000 [00:34<00:00, 732.97it/s]\n"
     ]
    },
    {
     "name": "stdout",
     "output_type": "stream",
     "text": [
      "[Epoch 3] Avg semantic log-likelihood: -949.1915\n",
      "Epoch 1/3\n"
     ]
    },
    {
     "name": "stderr",
     "output_type": "stream",
     "text": [
      "100%|██████████| 25000/25000 [00:34<00:00, 727.97it/s]\n"
     ]
    },
    {
     "name": "stdout",
     "output_type": "stream",
     "text": [
      "[Epoch 1] Avg semantic log-likelihood: -1324.4071\n",
      "Epoch 2/3\n"
     ]
    },
    {
     "name": "stderr",
     "output_type": "stream",
     "text": [
      "100%|██████████| 25000/25000 [00:33<00:00, 748.99it/s]\n"
     ]
    },
    {
     "name": "stdout",
     "output_type": "stream",
     "text": [
      "[Epoch 2] Avg semantic log-likelihood: -957.4827\n",
      "Epoch 3/3\n"
     ]
    },
    {
     "name": "stderr",
     "output_type": "stream",
     "text": [
      "100%|██████████| 25000/25000 [00:34<00:00, 720.53it/s]\n"
     ]
    },
    {
     "name": "stdout",
     "output_type": "stream",
     "text": [
      "[Epoch 3] Avg semantic log-likelihood: -949.2018\n",
      "Epoch 1/3\n"
     ]
    },
    {
     "name": "stderr",
     "output_type": "stream",
     "text": [
      "100%|██████████| 25000/25000 [00:34<00:00, 733.23it/s]\n"
     ]
    },
    {
     "name": "stdout",
     "output_type": "stream",
     "text": [
      "[Epoch 1] Avg semantic log-likelihood: -1323.6953\n",
      "Epoch 2/3\n"
     ]
    },
    {
     "name": "stderr",
     "output_type": "stream",
     "text": [
      "100%|██████████| 25000/25000 [00:35<00:00, 702.69it/s]\n"
     ]
    },
    {
     "name": "stdout",
     "output_type": "stream",
     "text": [
      "[Epoch 2] Avg semantic log-likelihood: -3172.4484\n",
      "Epoch 3/3\n"
     ]
    },
    {
     "name": "stderr",
     "output_type": "stream",
     "text": [
      "100%|██████████| 25000/25000 [00:36<00:00, 685.05it/s]\n"
     ]
    },
    {
     "name": "stdout",
     "output_type": "stream",
     "text": [
      "[Epoch 3] Avg semantic log-likelihood: -3158.2357\n",
      "Epoch 1/3\n"
     ]
    },
    {
     "name": "stderr",
     "output_type": "stream",
     "text": [
      "100%|██████████| 25000/25000 [00:34<00:00, 728.87it/s]\n"
     ]
    },
    {
     "name": "stdout",
     "output_type": "stream",
     "text": [
      "[Epoch 1] Avg semantic log-likelihood: -1324.4074\n",
      "Epoch 2/3\n"
     ]
    },
    {
     "name": "stderr",
     "output_type": "stream",
     "text": [
      "100%|██████████| 25000/25000 [00:34<00:00, 723.68it/s]\n"
     ]
    },
    {
     "name": "stdout",
     "output_type": "stream",
     "text": [
      "[Epoch 2] Avg semantic log-likelihood: -957.4838\n",
      "Epoch 3/3\n"
     ]
    },
    {
     "name": "stderr",
     "output_type": "stream",
     "text": [
      "100%|██████████| 25000/25000 [00:34<00:00, 725.18it/s]\n"
     ]
    },
    {
     "name": "stdout",
     "output_type": "stream",
     "text": [
      "[Epoch 3] Avg semantic log-likelihood: -949.2060\n",
      "Epoch 1/3\n"
     ]
    },
    {
     "name": "stderr",
     "output_type": "stream",
     "text": [
      "100%|██████████| 25000/25000 [00:34<00:00, 731.33it/s]\n"
     ]
    },
    {
     "name": "stdout",
     "output_type": "stream",
     "text": [
      "[Epoch 1] Avg semantic log-likelihood: -1324.4080\n",
      "Epoch 2/3\n"
     ]
    },
    {
     "name": "stderr",
     "output_type": "stream",
     "text": [
      "100%|██████████| 25000/25000 [00:33<00:00, 739.47it/s]\n"
     ]
    },
    {
     "name": "stdout",
     "output_type": "stream",
     "text": [
      "[Epoch 2] Avg semantic log-likelihood: -957.4822\n",
      "Epoch 3/3\n"
     ]
    },
    {
     "name": "stderr",
     "output_type": "stream",
     "text": [
      "100%|██████████| 25000/25000 [00:34<00:00, 731.84it/s]\n"
     ]
    },
    {
     "name": "stdout",
     "output_type": "stream",
     "text": [
      "[Epoch 3] Avg semantic log-likelihood: -949.1951\n",
      "Epoch 1/3\n"
     ]
    },
    {
     "name": "stderr",
     "output_type": "stream",
     "text": [
      "100%|██████████| 25000/25000 [00:34<00:00, 729.44it/s]\n"
     ]
    },
    {
     "name": "stdout",
     "output_type": "stream",
     "text": [
      "[Epoch 1] Avg semantic log-likelihood: -1324.4082\n",
      "Epoch 2/3\n"
     ]
    },
    {
     "name": "stderr",
     "output_type": "stream",
     "text": [
      "100%|██████████| 25000/25000 [00:34<00:00, 734.35it/s]\n"
     ]
    },
    {
     "name": "stdout",
     "output_type": "stream",
     "text": [
      "[Epoch 2] Avg semantic log-likelihood: -957.4840\n",
      "Epoch 3/3\n"
     ]
    },
    {
     "name": "stderr",
     "output_type": "stream",
     "text": [
      "100%|██████████| 25000/25000 [00:34<00:00, 735.06it/s]\n"
     ]
    },
    {
     "name": "stdout",
     "output_type": "stream",
     "text": [
      "[Epoch 3] Avg semantic log-likelihood: -949.2094\n",
      "Epoch 1/3\n"
     ]
    },
    {
     "name": "stderr",
     "output_type": "stream",
     "text": [
      "100%|██████████| 25000/25000 [00:35<00:00, 706.50it/s]\n"
     ]
    },
    {
     "name": "stdout",
     "output_type": "stream",
     "text": [
      "[Epoch 1] Avg semantic log-likelihood: -1324.4044\n",
      "Epoch 2/3\n"
     ]
    },
    {
     "name": "stderr",
     "output_type": "stream",
     "text": [
      "100%|██████████| 25000/25000 [00:34<00:00, 734.04it/s]\n"
     ]
    },
    {
     "name": "stdout",
     "output_type": "stream",
     "text": [
      "[Epoch 2] Avg semantic log-likelihood: -957.4801\n",
      "Epoch 3/3\n"
     ]
    },
    {
     "name": "stderr",
     "output_type": "stream",
     "text": [
      "100%|██████████| 25000/25000 [00:34<00:00, 724.81it/s]\n"
     ]
    },
    {
     "name": "stdout",
     "output_type": "stream",
     "text": [
      "[Epoch 3] Avg semantic log-likelihood: -949.1823\n",
      "\n",
      "Generation 8, Best score: -949.6257\n",
      "Best individual: {'beta': 100, 'lambda_reg': 0.0001, 'nu_reg': 0.0001, 'learning_rate': 0.001}\n",
      "\n",
      "Epoch 1/3\n"
     ]
    },
    {
     "name": "stderr",
     "output_type": "stream",
     "text": [
      "100%|██████████| 25000/25000 [00:34<00:00, 727.44it/s]\n"
     ]
    },
    {
     "name": "stdout",
     "output_type": "stream",
     "text": [
      "[Epoch 1] Avg semantic log-likelihood: -1324.4070\n",
      "Epoch 2/3\n"
     ]
    },
    {
     "name": "stderr",
     "output_type": "stream",
     "text": [
      "100%|██████████| 25000/25000 [00:33<00:00, 745.53it/s]\n"
     ]
    },
    {
     "name": "stdout",
     "output_type": "stream",
     "text": [
      "[Epoch 2] Avg semantic log-likelihood: -957.4831\n",
      "Epoch 3/3\n"
     ]
    },
    {
     "name": "stderr",
     "output_type": "stream",
     "text": [
      "100%|██████████| 25000/25000 [00:34<00:00, 727.83it/s]\n"
     ]
    },
    {
     "name": "stdout",
     "output_type": "stream",
     "text": [
      "[Epoch 3] Avg semantic log-likelihood: -949.2051\n",
      "Epoch 1/3\n"
     ]
    },
    {
     "name": "stderr",
     "output_type": "stream",
     "text": [
      "100%|██████████| 25000/25000 [00:34<00:00, 722.47it/s]\n"
     ]
    },
    {
     "name": "stdout",
     "output_type": "stream",
     "text": [
      "[Epoch 1] Avg semantic log-likelihood: -1324.4075\n",
      "Epoch 2/3\n"
     ]
    },
    {
     "name": "stderr",
     "output_type": "stream",
     "text": [
      "100%|██████████| 25000/25000 [00:34<00:00, 728.60it/s]\n"
     ]
    },
    {
     "name": "stdout",
     "output_type": "stream",
     "text": [
      "[Epoch 2] Avg semantic log-likelihood: -957.4840\n",
      "Epoch 3/3\n"
     ]
    },
    {
     "name": "stderr",
     "output_type": "stream",
     "text": [
      "100%|██████████| 25000/25000 [00:34<00:00, 733.05it/s]\n"
     ]
    },
    {
     "name": "stdout",
     "output_type": "stream",
     "text": [
      "[Epoch 3] Avg semantic log-likelihood: -949.2149\n",
      "Epoch 1/3\n"
     ]
    },
    {
     "name": "stderr",
     "output_type": "stream",
     "text": [
      "100%|██████████| 25000/25000 [00:34<00:00, 725.36it/s]\n"
     ]
    },
    {
     "name": "stdout",
     "output_type": "stream",
     "text": [
      "[Epoch 1] Avg semantic log-likelihood: -1324.4082\n",
      "Epoch 2/3\n"
     ]
    },
    {
     "name": "stderr",
     "output_type": "stream",
     "text": [
      "100%|██████████| 25000/25000 [00:34<00:00, 726.84it/s]\n"
     ]
    },
    {
     "name": "stdout",
     "output_type": "stream",
     "text": [
      "[Epoch 2] Avg semantic log-likelihood: -957.4817\n",
      "Epoch 3/3\n"
     ]
    },
    {
     "name": "stderr",
     "output_type": "stream",
     "text": [
      "100%|██████████| 25000/25000 [00:34<00:00, 722.43it/s]\n"
     ]
    },
    {
     "name": "stdout",
     "output_type": "stream",
     "text": [
      "[Epoch 3] Avg semantic log-likelihood: -949.1885\n",
      "Epoch 1/3\n"
     ]
    },
    {
     "name": "stderr",
     "output_type": "stream",
     "text": [
      "100%|██████████| 25000/25000 [00:34<00:00, 721.42it/s]\n"
     ]
    },
    {
     "name": "stdout",
     "output_type": "stream",
     "text": [
      "[Epoch 1] Avg semantic log-likelihood: -1324.4073\n",
      "Epoch 2/3\n"
     ]
    },
    {
     "name": "stderr",
     "output_type": "stream",
     "text": [
      "100%|██████████| 25000/25000 [00:33<00:00, 745.60it/s]\n"
     ]
    },
    {
     "name": "stdout",
     "output_type": "stream",
     "text": [
      "[Epoch 2] Avg semantic log-likelihood: -957.4822\n",
      "Epoch 3/3\n"
     ]
    },
    {
     "name": "stderr",
     "output_type": "stream",
     "text": [
      "100%|██████████| 25000/25000 [00:35<00:00, 708.13it/s]\n"
     ]
    },
    {
     "name": "stdout",
     "output_type": "stream",
     "text": [
      "[Epoch 3] Avg semantic log-likelihood: -949.1943\n",
      "Epoch 1/3\n"
     ]
    },
    {
     "name": "stderr",
     "output_type": "stream",
     "text": [
      "100%|██████████| 25000/25000 [00:35<00:00, 713.79it/s]\n"
     ]
    },
    {
     "name": "stdout",
     "output_type": "stream",
     "text": [
      "[Epoch 1] Avg semantic log-likelihood: -1324.4062\n",
      "Epoch 2/3\n"
     ]
    },
    {
     "name": "stderr",
     "output_type": "stream",
     "text": [
      "100%|██████████| 25000/25000 [00:35<00:00, 712.08it/s]\n"
     ]
    },
    {
     "name": "stdout",
     "output_type": "stream",
     "text": [
      "[Epoch 2] Avg semantic log-likelihood: -957.4830\n",
      "Epoch 3/3\n"
     ]
    },
    {
     "name": "stderr",
     "output_type": "stream",
     "text": [
      "100%|██████████| 25000/25000 [00:34<00:00, 729.88it/s]\n"
     ]
    },
    {
     "name": "stdout",
     "output_type": "stream",
     "text": [
      "[Epoch 3] Avg semantic log-likelihood: -949.2041\n",
      "Epoch 1/3\n"
     ]
    },
    {
     "name": "stderr",
     "output_type": "stream",
     "text": [
      "100%|██████████| 25000/25000 [00:36<00:00, 687.11it/s]\n"
     ]
    },
    {
     "name": "stdout",
     "output_type": "stream",
     "text": [
      "[Epoch 1] Avg semantic log-likelihood: -1324.4074\n",
      "Epoch 2/3\n"
     ]
    },
    {
     "name": "stderr",
     "output_type": "stream",
     "text": [
      "100%|██████████| 25000/25000 [00:36<00:00, 684.36it/s]\n"
     ]
    },
    {
     "name": "stdout",
     "output_type": "stream",
     "text": [
      "[Epoch 2] Avg semantic log-likelihood: -957.4839\n",
      "Epoch 3/3\n"
     ]
    },
    {
     "name": "stderr",
     "output_type": "stream",
     "text": [
      "100%|██████████| 25000/25000 [00:37<00:00, 663.98it/s]\n"
     ]
    },
    {
     "name": "stdout",
     "output_type": "stream",
     "text": [
      "[Epoch 3] Avg semantic log-likelihood: -949.2103\n",
      "Epoch 1/3\n"
     ]
    },
    {
     "name": "stderr",
     "output_type": "stream",
     "text": [
      "100%|██████████| 25000/25000 [00:37<00:00, 675.28it/s]\n"
     ]
    },
    {
     "name": "stdout",
     "output_type": "stream",
     "text": [
      "[Epoch 1] Avg semantic log-likelihood: -1324.4104\n",
      "Epoch 2/3\n"
     ]
    },
    {
     "name": "stderr",
     "output_type": "stream",
     "text": [
      "100%|██████████| 25000/25000 [00:37<00:00, 674.71it/s]\n"
     ]
    },
    {
     "name": "stdout",
     "output_type": "stream",
     "text": [
      "[Epoch 2] Avg semantic log-likelihood: -957.4864\n",
      "Epoch 3/3\n"
     ]
    },
    {
     "name": "stderr",
     "output_type": "stream",
     "text": [
      "100%|██████████| 25000/25000 [00:36<00:00, 681.61it/s]\n"
     ]
    },
    {
     "name": "stdout",
     "output_type": "stream",
     "text": [
      "[Epoch 3] Avg semantic log-likelihood: -949.2264\n",
      "Epoch 1/3\n"
     ]
    },
    {
     "name": "stderr",
     "output_type": "stream",
     "text": [
      "100%|██████████| 25000/25000 [00:36<00:00, 678.50it/s]\n"
     ]
    },
    {
     "name": "stdout",
     "output_type": "stream",
     "text": [
      "[Epoch 1] Avg semantic log-likelihood: -1324.4083\n",
      "Epoch 2/3\n"
     ]
    },
    {
     "name": "stderr",
     "output_type": "stream",
     "text": [
      "100%|██████████| 25000/25000 [00:36<00:00, 680.93it/s]\n"
     ]
    },
    {
     "name": "stdout",
     "output_type": "stream",
     "text": [
      "[Epoch 2] Avg semantic log-likelihood: -957.4846\n",
      "Epoch 3/3\n"
     ]
    },
    {
     "name": "stderr",
     "output_type": "stream",
     "text": [
      "100%|██████████| 25000/25000 [00:36<00:00, 686.08it/s]\n"
     ]
    },
    {
     "name": "stdout",
     "output_type": "stream",
     "text": [
      "[Epoch 3] Avg semantic log-likelihood: -949.2110\n",
      "Epoch 1/3\n"
     ]
    },
    {
     "name": "stderr",
     "output_type": "stream",
     "text": [
      "100%|██████████| 25000/25000 [00:36<00:00, 692.28it/s]\n"
     ]
    },
    {
     "name": "stdout",
     "output_type": "stream",
     "text": [
      "[Epoch 1] Avg semantic log-likelihood: -1324.4066\n",
      "Epoch 2/3\n"
     ]
    },
    {
     "name": "stderr",
     "output_type": "stream",
     "text": [
      "100%|██████████| 25000/25000 [00:37<00:00, 671.29it/s]\n"
     ]
    },
    {
     "name": "stdout",
     "output_type": "stream",
     "text": [
      "[Epoch 2] Avg semantic log-likelihood: -957.4816\n",
      "Epoch 3/3\n"
     ]
    },
    {
     "name": "stderr",
     "output_type": "stream",
     "text": [
      "100%|██████████| 25000/25000 [00:36<00:00, 683.34it/s]\n"
     ]
    },
    {
     "name": "stdout",
     "output_type": "stream",
     "text": [
      "[Epoch 3] Avg semantic log-likelihood: -949.1913\n",
      "Epoch 1/3\n"
     ]
    },
    {
     "name": "stderr",
     "output_type": "stream",
     "text": [
      "100%|██████████| 25000/25000 [00:36<00:00, 683.99it/s]\n"
     ]
    },
    {
     "name": "stdout",
     "output_type": "stream",
     "text": [
      "[Epoch 1] Avg semantic log-likelihood: -1324.4079\n",
      "Epoch 2/3\n"
     ]
    },
    {
     "name": "stderr",
     "output_type": "stream",
     "text": [
      "100%|██████████| 25000/25000 [00:38<00:00, 656.72it/s]\n"
     ]
    },
    {
     "name": "stdout",
     "output_type": "stream",
     "text": [
      "[Epoch 2] Avg semantic log-likelihood: -957.4891\n",
      "Epoch 3/3\n"
     ]
    },
    {
     "name": "stderr",
     "output_type": "stream",
     "text": [
      "100%|██████████| 25000/25000 [00:36<00:00, 678.26it/s]\n"
     ]
    },
    {
     "name": "stdout",
     "output_type": "stream",
     "text": [
      "[Epoch 3] Avg semantic log-likelihood: -949.2544\n",
      "\n",
      "Generation 9, Best score: -949.6318\n",
      "Best individual: {'beta': 100, 'lambda_reg': 0.0001, 'nu_reg': 0.0001, 'learning_rate': 0.001}\n",
      "\n",
      "Epoch 1/3\n"
     ]
    },
    {
     "name": "stderr",
     "output_type": "stream",
     "text": [
      "100%|██████████| 25000/25000 [00:37<00:00, 671.92it/s]\n"
     ]
    },
    {
     "name": "stdout",
     "output_type": "stream",
     "text": [
      "[Epoch 1] Avg semantic log-likelihood: -1324.4057\n",
      "Epoch 2/3\n"
     ]
    },
    {
     "name": "stderr",
     "output_type": "stream",
     "text": [
      "100%|██████████| 25000/25000 [00:37<00:00, 669.12it/s]\n"
     ]
    },
    {
     "name": "stdout",
     "output_type": "stream",
     "text": [
      "[Epoch 2] Avg semantic log-likelihood: -957.4812\n",
      "Epoch 3/3\n"
     ]
    },
    {
     "name": "stderr",
     "output_type": "stream",
     "text": [
      "100%|██████████| 25000/25000 [00:36<00:00, 676.37it/s]\n"
     ]
    },
    {
     "name": "stdout",
     "output_type": "stream",
     "text": [
      "[Epoch 3] Avg semantic log-likelihood: -949.1918\n",
      "Epoch 1/3\n"
     ]
    },
    {
     "name": "stderr",
     "output_type": "stream",
     "text": [
      "100%|██████████| 25000/25000 [00:37<00:00, 673.00it/s]\n"
     ]
    },
    {
     "name": "stdout",
     "output_type": "stream",
     "text": [
      "[Epoch 1] Avg semantic log-likelihood: -1324.4094\n",
      "Epoch 2/3\n"
     ]
    },
    {
     "name": "stderr",
     "output_type": "stream",
     "text": [
      "100%|██████████| 25000/25000 [00:36<00:00, 690.94it/s]\n"
     ]
    },
    {
     "name": "stdout",
     "output_type": "stream",
     "text": [
      "[Epoch 2] Avg semantic log-likelihood: -957.4853\n",
      "Epoch 3/3\n"
     ]
    },
    {
     "name": "stderr",
     "output_type": "stream",
     "text": [
      "100%|██████████| 25000/25000 [00:37<00:00, 673.64it/s]\n"
     ]
    },
    {
     "name": "stdout",
     "output_type": "stream",
     "text": [
      "[Epoch 3] Avg semantic log-likelihood: -949.2189\n",
      "Epoch 1/3\n"
     ]
    },
    {
     "name": "stderr",
     "output_type": "stream",
     "text": [
      "100%|██████████| 25000/25000 [00:36<00:00, 682.32it/s]\n"
     ]
    },
    {
     "name": "stdout",
     "output_type": "stream",
     "text": [
      "[Epoch 1] Avg semantic log-likelihood: -1324.4040\n",
      "Epoch 2/3\n"
     ]
    },
    {
     "name": "stderr",
     "output_type": "stream",
     "text": [
      "100%|██████████| 25000/25000 [00:36<00:00, 681.72it/s]\n"
     ]
    },
    {
     "name": "stdout",
     "output_type": "stream",
     "text": [
      "[Epoch 2] Avg semantic log-likelihood: -957.4802\n",
      "Epoch 3/3\n"
     ]
    },
    {
     "name": "stderr",
     "output_type": "stream",
     "text": [
      "100%|██████████| 25000/25000 [00:36<00:00, 676.63it/s]\n"
     ]
    },
    {
     "name": "stdout",
     "output_type": "stream",
     "text": [
      "[Epoch 3] Avg semantic log-likelihood: -949.1813\n",
      "Epoch 1/3\n"
     ]
    },
    {
     "name": "stderr",
     "output_type": "stream",
     "text": [
      "100%|██████████| 25000/25000 [00:36<00:00, 681.86it/s]\n"
     ]
    },
    {
     "name": "stdout",
     "output_type": "stream",
     "text": [
      "[Epoch 1] Avg semantic log-likelihood: -1324.4063\n",
      "Epoch 2/3\n"
     ]
    },
    {
     "name": "stderr",
     "output_type": "stream",
     "text": [
      "100%|██████████| 25000/25000 [00:36<00:00, 687.01it/s]\n"
     ]
    },
    {
     "name": "stdout",
     "output_type": "stream",
     "text": [
      "[Epoch 2] Avg semantic log-likelihood: -957.4833\n",
      "Epoch 3/3\n"
     ]
    },
    {
     "name": "stderr",
     "output_type": "stream",
     "text": [
      "100%|██████████| 25000/25000 [00:36<00:00, 678.72it/s]\n"
     ]
    },
    {
     "name": "stdout",
     "output_type": "stream",
     "text": [
      "[Epoch 3] Avg semantic log-likelihood: -949.2058\n",
      "Epoch 1/3\n"
     ]
    },
    {
     "name": "stderr",
     "output_type": "stream",
     "text": [
      "100%|██████████| 25000/25000 [00:36<00:00, 688.30it/s]\n"
     ]
    },
    {
     "name": "stdout",
     "output_type": "stream",
     "text": [
      "[Epoch 1] Avg semantic log-likelihood: -1324.4076\n",
      "Epoch 2/3\n"
     ]
    },
    {
     "name": "stderr",
     "output_type": "stream",
     "text": [
      "100%|██████████| 25000/25000 [00:37<00:00, 671.11it/s]\n"
     ]
    },
    {
     "name": "stdout",
     "output_type": "stream",
     "text": [
      "[Epoch 2] Avg semantic log-likelihood: -957.4839\n",
      "Epoch 3/3\n"
     ]
    },
    {
     "name": "stderr",
     "output_type": "stream",
     "text": [
      "100%|██████████| 25000/25000 [00:36<00:00, 683.38it/s]\n"
     ]
    },
    {
     "name": "stdout",
     "output_type": "stream",
     "text": [
      "[Epoch 3] Avg semantic log-likelihood: -949.2091\n",
      "Epoch 1/3\n"
     ]
    },
    {
     "name": "stderr",
     "output_type": "stream",
     "text": [
      "100%|██████████| 25000/25000 [00:38<00:00, 655.69it/s]\n"
     ]
    },
    {
     "name": "stdout",
     "output_type": "stream",
     "text": [
      "[Epoch 1] Avg semantic log-likelihood: -1324.4064\n",
      "Epoch 2/3\n"
     ]
    },
    {
     "name": "stderr",
     "output_type": "stream",
     "text": [
      "100%|██████████| 25000/25000 [00:36<00:00, 676.74it/s]\n"
     ]
    },
    {
     "name": "stdout",
     "output_type": "stream",
     "text": [
      "[Epoch 2] Avg semantic log-likelihood: -957.4819\n",
      "Epoch 3/3\n"
     ]
    },
    {
     "name": "stderr",
     "output_type": "stream",
     "text": [
      "100%|██████████| 25000/25000 [00:36<00:00, 680.63it/s]\n"
     ]
    },
    {
     "name": "stdout",
     "output_type": "stream",
     "text": [
      "[Epoch 3] Avg semantic log-likelihood: -949.1954\n",
      "Epoch 1/3\n"
     ]
    },
    {
     "name": "stderr",
     "output_type": "stream",
     "text": [
      "100%|██████████| 25000/25000 [00:36<00:00, 690.08it/s]\n"
     ]
    },
    {
     "name": "stdout",
     "output_type": "stream",
     "text": [
      "[Epoch 1] Avg semantic log-likelihood: -1324.4073\n",
      "Epoch 2/3\n"
     ]
    },
    {
     "name": "stderr",
     "output_type": "stream",
     "text": [
      "100%|██████████| 25000/25000 [00:36<00:00, 685.49it/s]\n"
     ]
    },
    {
     "name": "stdout",
     "output_type": "stream",
     "text": [
      "[Epoch 2] Avg semantic log-likelihood: -957.4856\n",
      "Epoch 3/3\n"
     ]
    },
    {
     "name": "stderr",
     "output_type": "stream",
     "text": [
      "100%|██████████| 25000/25000 [00:37<00:00, 666.69it/s]\n"
     ]
    },
    {
     "name": "stdout",
     "output_type": "stream",
     "text": [
      "[Epoch 3] Avg semantic log-likelihood: -949.2253\n",
      "Epoch 1/3\n"
     ]
    },
    {
     "name": "stderr",
     "output_type": "stream",
     "text": [
      "100%|██████████| 25000/25000 [00:38<00:00, 656.69it/s]\n"
     ]
    },
    {
     "name": "stdout",
     "output_type": "stream",
     "text": [
      "[Epoch 1] Avg semantic log-likelihood: -1324.2754\n",
      "Epoch 2/3\n"
     ]
    },
    {
     "name": "stderr",
     "output_type": "stream",
     "text": [
      "100%|██████████| 25000/25000 [00:37<00:00, 658.44it/s]\n"
     ]
    },
    {
     "name": "stdout",
     "output_type": "stream",
     "text": [
      "[Epoch 2] Avg semantic log-likelihood: -1594.8655\n",
      "Epoch 3/3\n"
     ]
    },
    {
     "name": "stderr",
     "output_type": "stream",
     "text": [
      "100%|██████████| 25000/25000 [00:40<00:00, 609.88it/s]\n"
     ]
    },
    {
     "name": "stdout",
     "output_type": "stream",
     "text": [
      "[Epoch 3] Avg semantic log-likelihood: -3150.3703\n",
      "Epoch 1/3\n"
     ]
    },
    {
     "name": "stderr",
     "output_type": "stream",
     "text": [
      "100%|██████████| 25000/25000 [00:37<00:00, 675.09it/s]\n"
     ]
    },
    {
     "name": "stdout",
     "output_type": "stream",
     "text": [
      "[Epoch 1] Avg semantic log-likelihood: -1324.4049\n",
      "Epoch 2/3\n"
     ]
    },
    {
     "name": "stderr",
     "output_type": "stream",
     "text": [
      "100%|██████████| 25000/25000 [00:36<00:00, 681.19it/s]\n"
     ]
    },
    {
     "name": "stdout",
     "output_type": "stream",
     "text": [
      "[Epoch 2] Avg semantic log-likelihood: -957.4810\n",
      "Epoch 3/3\n"
     ]
    },
    {
     "name": "stderr",
     "output_type": "stream",
     "text": [
      "100%|██████████| 25000/25000 [00:37<00:00, 673.16it/s]\n"
     ]
    },
    {
     "name": "stdout",
     "output_type": "stream",
     "text": [
      "[Epoch 3] Avg semantic log-likelihood: -949.1863\n",
      "Epoch 1/3\n"
     ]
    },
    {
     "name": "stderr",
     "output_type": "stream",
     "text": [
      "100%|██████████| 25000/25000 [00:37<00:00, 671.14it/s]\n"
     ]
    },
    {
     "name": "stdout",
     "output_type": "stream",
     "text": [
      "[Epoch 1] Avg semantic log-likelihood: -1324.4075\n",
      "Epoch 2/3\n"
     ]
    },
    {
     "name": "stderr",
     "output_type": "stream",
     "text": [
      "100%|██████████| 25000/25000 [00:37<00:00, 660.37it/s]\n"
     ]
    },
    {
     "name": "stdout",
     "output_type": "stream",
     "text": [
      "[Epoch 2] Avg semantic log-likelihood: -957.4833\n",
      "Epoch 3/3\n"
     ]
    },
    {
     "name": "stderr",
     "output_type": "stream",
     "text": [
      "100%|██████████| 25000/25000 [00:36<00:00, 691.41it/s]\n"
     ]
    },
    {
     "name": "stdout",
     "output_type": "stream",
     "text": [
      "[Epoch 3] Avg semantic log-likelihood: -949.2018\n",
      "\n",
      "Generation 10, Best score: -949.6247\n",
      "Best individual: {'beta': 100, 'lambda_reg': 0.0001, 'nu_reg': 0.0001, 'learning_rate': 0.001}\n",
      "\n",
      "Best individual: ({'beta': 100, 'lambda_reg': 0.0001, 'nu_reg': 0.0001, 'learning_rate': 0.001}, np.float64(-949.6247132291654))\n"
     ]
    }
   ],
   "source": [
    "# Espace de recherche des hyperparamètres\n",
    "param_space = {\n",
    "    'beta': [25, 50, 75, 100],\n",
    "    'lambda_reg': [1e-4, 1e-3, 1e-2, 1e-1],\n",
    "    'nu_reg': [1e-5, 1e-4, 1e-3, 1e-2],\n",
    "    'learning_rate': [0.001, 0.005, 0.01, 0.05],\n",
    "}\n",
    "\n",
    "# Génère un individu\n",
    "def generate_individual():\n",
    "    return {\n",
    "        'beta': random.choice(param_space['beta']),\n",
    "        'lambda_reg': random.choice(param_space['lambda_reg']),\n",
    "        'nu_reg': random.choice(param_space['nu_reg']),\n",
    "        'learning_rate': random.choice(param_space['learning_rate']),\n",
    "    }\n",
    "\n",
    "# Évalue un individu (doit appeler ton modèle ici)\n",
    "def evaluate(individual, vocab, text):\n",
    "    model = Model(\n",
    "        beta=individual['beta'],\n",
    "        lambda_reg=individual['lambda_reg'],\n",
    "        nu_reg=individual['nu_reg'],\n",
    "        learning_rate=individual['learning_rate']\n",
    "    )\n",
    "    model.train(vocab, text, epochs=3)\n",
    "    return model.compute_objective()  # À maximiser\n",
    "\n",
    "# Crossover\n",
    "def crossover(parent1, parent2):\n",
    "    child = {}\n",
    "    for key in parent1:\n",
    "        child[key] = random.choice([parent1[key], parent2[key]])\n",
    "    return child\n",
    "\n",
    "# Mutation\n",
    "def mutate(individual, mutation_rate=0.1):\n",
    "    for key in individual:\n",
    "        if random.random() < mutation_rate:\n",
    "            individual[key] = random.choice(param_space[key])\n",
    "    return individual\n",
    "\n",
    "# Algorithme principal\n",
    "def genetic_search(vocab, text, generations=10, population_size=10):\n",
    "    population = [generate_individual() for _ in range(population_size)]\n",
    "    \n",
    "    for generation in range(generations):\n",
    "        scored = [(ind, evaluate(ind, vocab, text)) for ind in population]\n",
    "        scored.sort(key=lambda x: x[1], reverse=True)  # Maximize objective\n",
    "\n",
    "        print(f\"\\nGeneration {generation + 1}, Best score: {scored[0][1]:.4f}\")\n",
    "        print(f\"Best individual: {scored[0][0]}\\n\")\n",
    "\n",
    "        survivors = [ind for ind, _ in scored[:population_size // 2]]\n",
    "\n",
    "        # Reproduction\n",
    "        next_gen = survivors.copy()\n",
    "        while len(next_gen) < population_size:\n",
    "            parents = random.sample(survivors, 2)\n",
    "            child = mutate(crossover(parents[0], parents[1]))\n",
    "            next_gen.append(child)\n",
    "\n",
    "        population = next_gen\n",
    "\n",
    "    return scored[0]\n",
    "\n",
    "best = genetic_search(vocab, df.iloc[:len_train][\"filtered_text\"], generations=10, population_size=10)\n",
    "print(f\"Best individual: {best}\")"
   ]
  },
  {
   "cell_type": "code",
   "execution_count": 22,
   "id": "03a357e5",
   "metadata": {},
   "outputs": [
    {
     "data": {
      "text/plain": [
       "({'beta': 100, 'lambda_reg': 0.0001, 'nu_reg': 0.0001, 'learning_rate': 0.001},\n",
       " np.float64(-949.6247132291654))"
      ]
     },
     "execution_count": 22,
     "metadata": {},
     "output_type": "execute_result"
    }
   ],
   "source": [
    "best"
   ]
  },
  {
   "cell_type": "code",
   "execution_count": 23,
   "id": "3b0a0dab",
   "metadata": {},
   "outputs": [
    {
     "name": "stdout",
     "output_type": "stream",
     "text": [
      "Epoch 1/3\n"
     ]
    },
    {
     "name": "stderr",
     "output_type": "stream",
     "text": [
      "100%|██████████| 25000/25000 [00:36<00:00, 685.69it/s]\n"
     ]
    },
    {
     "name": "stdout",
     "output_type": "stream",
     "text": [
      "[Epoch 1] Avg semantic log-likelihood: -1324.4088\n",
      "Epoch 2/3\n"
     ]
    },
    {
     "name": "stderr",
     "output_type": "stream",
     "text": [
      "100%|██████████| 25000/25000 [00:36<00:00, 687.20it/s]\n"
     ]
    },
    {
     "name": "stdout",
     "output_type": "stream",
     "text": [
      "[Epoch 2] Avg semantic log-likelihood: -957.4850\n",
      "Epoch 3/3\n"
     ]
    },
    {
     "name": "stderr",
     "output_type": "stream",
     "text": [
      "100%|██████████| 25000/25000 [00:36<00:00, 687.66it/s]\n"
     ]
    },
    {
     "name": "stdout",
     "output_type": "stream",
     "text": [
      "[Epoch 3] Avg semantic log-likelihood: -949.2149\n"
     ]
    },
    {
     "data": {
      "text/plain": [
       "np.float64(-949.6580182020165)"
      ]
     },
     "execution_count": 23,
     "metadata": {},
     "output_type": "execute_result"
    }
   ],
   "source": [
    "model = Model(\n",
    "    beta= best[0]['beta'], \n",
    "    lambda_reg = best[0]['lambda_reg'], \n",
    "    nu_reg = best[0]['nu_reg'], \n",
    "    learning_rate = best[0]['learning_rate']\n",
    ")\n",
    "model.train(vocab, df.iloc[:len_train][\"filtered_text\"], epochs=3)\n",
    "model.compute_objective()"
   ]
  },
  {
   "cell_type": "markdown",
   "id": "a3fd931d",
   "metadata": {},
   "source": [
    "# Modèle pout la classification supervisé (avec EarlyStop et Logisitique Regression, basé sur les hyperparamètres de l'algorithme génétique)"
   ]
  },
  {
   "cell_type": "code",
   "execution_count": null,
   "id": "8224701e",
   "metadata": {},
   "outputs": [],
   "source": [
    "class ModelWithEarlyStopping:\n",
    "    def __init__(self, lambda_reg=0.1, nu_reg=0.1, learning_rate=0.01, beta=10, alpha_sup=1.0, vocab=None):\n",
    "        self.lambda_reg = lambda_reg\n",
    "        self.nu_reg = nu_reg\n",
    "        self.learning_rate = learning_rate\n",
    "        self.beta = beta\n",
    "        self.alpha_sup = alpha_sup  # pondération du terme supervisé\n",
    "        self.vocab = vocab\n",
    "\n",
    "    def train(self, filtered_texts, vocab=None, earlyStop=3, max_epochs=100):\n",
    "        if vocab:\n",
    "            self.vocab = vocab  # pour usage futur\n",
    "        vocab = self.vocab\n",
    "        vectorizer = CountVectorizer(vocabulary=list(vocab))\n",
    "        X = vectorizer.fit_transform(filtered_texts).toarray()\n",
    "        \n",
    "        self.vectorizer = vectorizer\n",
    "\n",
    "        n_docs, vocab_size = X.shape\n",
    "        self.R = np.random.normal(0, 0.01, size=(self.beta, vocab_size))\n",
    "        self.b = np.zeros(vocab_size)\n",
    "        theta = np.random.normal(0, 0.01, size=(n_docs, self.beta))\n",
    "\n",
    "        best_avg_ll = float('-inf')\n",
    "        best_params = {}\n",
    "        no_improve_count = 0\n",
    "\n",
    "        for epoch in range(max_epochs):\n",
    "            print(f\"Epoch {epoch + 1}/{max_epochs}\")\n",
    "            total_log_likelihood = 0.0\n",
    "\n",
    "            for k in range(n_docs):\n",
    "                x_k = X[k]\n",
    "                if x_k.sum() == 0:\n",
    "                    continue\n",
    "\n",
    "                for _ in range(3):\n",
    "                    probs = softmax_probs(theta[k], self.R, self.b)\n",
    "                    grad_theta = self.R @ (x_k - probs * x_k.sum()) - self.lambda_reg * theta[k]\n",
    "                    theta[k] += self.learning_rate * grad_theta\n",
    "\n",
    "                log_probs = np.dot(x_k, np.log(probs + 1e-9))\n",
    "                total_log_likelihood += log_probs\n",
    "\n",
    "            for k in range(n_docs):\n",
    "                x_k = X[k]\n",
    "                if x_k.sum() == 0:\n",
    "                    continue\n",
    "                probs = softmax_probs(theta[k], self.R, self.b)\n",
    "                err = x_k - probs * x_k.sum()\n",
    "                grad_R = np.outer(theta[k], err)\n",
    "                grad_b = err\n",
    "\n",
    "                self.R += self.learning_rate * (grad_R - self.nu_reg * self.R)\n",
    "                self.b += self.learning_rate * grad_b\n",
    "\n",
    "            avg_ll = total_log_likelihood / n_docs\n",
    "            print(f\"[Epoch {epoch+1}] Avg semantic log-likelihood: {avg_ll:.4f}\")\n",
    "\n",
    "            if avg_ll > best_avg_ll + 1e-4:\n",
    "                best_avg_ll = avg_ll\n",
    "                best_params = {\n",
    "                    'R': self.R.copy(),\n",
    "                    'b': self.b.copy(),\n",
    "                    'theta': theta.copy()\n",
    "                }\n",
    "                no_improve_count = 0\n",
    "            else:\n",
    "                no_improve_count += 1\n",
    "                if no_improve_count >= earlyStop:\n",
    "                    print(f\"Early stopping at epoch {epoch+1}. Best avg log-likelihood: {best_avg_ll:.4f}\")\n",
    "                    break\n",
    "\n",
    "        self.R = best_params['R']\n",
    "        self.b = best_params['b']\n",
    "        self.theta = best_params['theta']\n",
    "        self.avg_log_likelihood = best_avg_ll\n",
    "\n",
    "    def train_classifier(self, y):\n",
    "        \"\"\"\n",
    "        Entraîne une régression logistique binaire sur les vecteurs theta_k appris.\n",
    "        \"\"\"\n",
    "        assert hasattr(self, 'theta'), \"Train the model first to get theta.\"\n",
    "        self.classifier = LinearSVC()\n",
    "        self.classifier.fit(self.theta, y)\n",
    "        print(\"Régression logistique entraînée.\")\n",
    "\n",
    "    def fit(self, filtered_texts, y, vocab=None, earlyStop=3, max_epochs=100):\n",
    "        \"\"\"\n",
    "        Entraîne le modèle et la régression logistique sur les textes filtrés et les labels.\n",
    "        \"\"\"\n",
    "        self.train(filtered_texts, vocab, earlyStop, max_epochs)\n",
    "        self.train_classifier(y)\n",
    "\n",
    "    def predict(self, filtered_texts):\n",
    "        \"\"\"\n",
    "        Prédit les labels binaires pour de nouveaux textes.\n",
    "        \"\"\"\n",
    "        assert hasattr(self, 'classifier'), \"Train the classifier first.\"\n",
    "        X = self.vectorizer.transform(filtered_texts).toarray()\n",
    "        n_docs = X.shape[0]\n",
    "        theta = np.zeros((n_docs, self.beta))\n",
    "\n",
    "        for k in range(n_docs):\n",
    "            x_k = X[k]\n",
    "            if x_k.sum() == 0:\n",
    "                continue\n",
    "            theta_k = np.zeros(self.beta)\n",
    "            for _ in range(3):\n",
    "                probs = softmax_probs(theta_k, self.R, self.b)\n",
    "                grad_theta = self.R @ (x_k - probs * x_k.sum()) - self.lambda_reg * theta_k\n",
    "                theta_k += self.learning_rate * grad_theta\n",
    "            theta[k] = theta_k\n",
    "\n",
    "        preds = self.classifier.predict(theta)\n",
    "        return preds\n",
    "\n",
    "    def compute_objective(self):\n",
    "        return self.avg_log_likelihood - self.lambda_reg * np.sum(self.R**2) - self.nu_reg * np.sum(self.b**2)\n"
   ]
  },
  {
   "cell_type": "code",
   "execution_count": 28,
   "id": "09d421ab",
   "metadata": {},
   "outputs": [
    {
     "name": "stdout",
     "output_type": "stream",
     "text": [
      "Epoch 1/100\n",
      "[Epoch 1] Avg semantic log-likelihood: -1324.4051\n",
      "Epoch 2/100\n",
      "[Epoch 2] Avg semantic log-likelihood: -957.4814\n",
      "Epoch 3/100\n",
      "[Epoch 3] Avg semantic log-likelihood: -949.1931\n",
      "Epoch 4/100\n",
      "[Epoch 4] Avg semantic log-likelihood: -945.7415\n",
      "Epoch 5/100\n",
      "[Epoch 5] Avg semantic log-likelihood: -943.3462\n",
      "Epoch 6/100\n",
      "[Epoch 6] Avg semantic log-likelihood: -941.0435\n",
      "Epoch 7/100\n",
      "[Epoch 7] Avg semantic log-likelihood: -938.3610\n",
      "Epoch 8/100\n",
      "[Epoch 8] Avg semantic log-likelihood: -935.9909\n",
      "Epoch 9/100\n",
      "[Epoch 9] Avg semantic log-likelihood: -933.8892\n",
      "Epoch 10/100\n",
      "[Epoch 10] Avg semantic log-likelihood: -931.4956\n",
      "Epoch 11/100\n",
      "[Epoch 11] Avg semantic log-likelihood: -929.2984\n",
      "Epoch 12/100\n",
      "[Epoch 12] Avg semantic log-likelihood: -927.2420\n",
      "Epoch 13/100\n",
      "[Epoch 13] Avg semantic log-likelihood: -925.1888\n",
      "Epoch 14/100\n",
      "[Epoch 14] Avg semantic log-likelihood: -923.1411\n",
      "Epoch 15/100\n",
      "[Epoch 15] Avg semantic log-likelihood: -921.1808\n",
      "Epoch 16/100\n",
      "[Epoch 16] Avg semantic log-likelihood: -919.1951\n",
      "Epoch 17/100\n",
      "[Epoch 17] Avg semantic log-likelihood: -917.1698\n",
      "Epoch 18/100\n",
      "[Epoch 18] Avg semantic log-likelihood: -915.1052\n",
      "Epoch 19/100\n",
      "[Epoch 19] Avg semantic log-likelihood: -913.0250\n",
      "Epoch 20/100\n",
      "[Epoch 20] Avg semantic log-likelihood: -910.9799\n",
      "Epoch 21/100\n",
      "[Epoch 21] Avg semantic log-likelihood: -908.8748\n",
      "Epoch 22/100\n",
      "[Epoch 22] Avg semantic log-likelihood: -906.8124\n",
      "Epoch 23/100\n",
      "[Epoch 23] Avg semantic log-likelihood: -904.7688\n",
      "Epoch 24/100\n",
      "[Epoch 24] Avg semantic log-likelihood: -902.7893\n",
      "Epoch 25/100\n",
      "[Epoch 25] Avg semantic log-likelihood: -900.8240\n",
      "Epoch 26/100\n",
      "[Epoch 26] Avg semantic log-likelihood: -898.8397\n",
      "Epoch 27/100\n",
      "[Epoch 27] Avg semantic log-likelihood: -896.8859\n",
      "Epoch 28/100\n",
      "[Epoch 28] Avg semantic log-likelihood: -895.0189\n",
      "Epoch 29/100\n",
      "[Epoch 29] Avg semantic log-likelihood: -893.0637\n",
      "Epoch 30/100\n",
      "[Epoch 30] Avg semantic log-likelihood: -891.2349\n",
      "Epoch 31/100\n",
      "[Epoch 31] Avg semantic log-likelihood: -889.4169\n",
      "Epoch 32/100\n",
      "[Epoch 32] Avg semantic log-likelihood: -887.6719\n",
      "Epoch 33/100\n",
      "[Epoch 33] Avg semantic log-likelihood: -885.9352\n",
      "Epoch 34/100\n",
      "[Epoch 34] Avg semantic log-likelihood: -884.2478\n",
      "Epoch 35/100\n",
      "[Epoch 35] Avg semantic log-likelihood: -882.5924\n",
      "Epoch 36/100\n",
      "[Epoch 36] Avg semantic log-likelihood: -881.0410\n",
      "Epoch 37/100\n",
      "[Epoch 37] Avg semantic log-likelihood: -879.4455\n",
      "Epoch 38/100\n",
      "[Epoch 38] Avg semantic log-likelihood: -877.9413\n",
      "Epoch 39/100\n",
      "[Epoch 39] Avg semantic log-likelihood: -876.5253\n",
      "Epoch 40/100\n",
      "[Epoch 40] Avg semantic log-likelihood: -875.0941\n",
      "Epoch 41/100\n",
      "[Epoch 41] Avg semantic log-likelihood: -873.7877\n",
      "Epoch 42/100\n",
      "[Epoch 42] Avg semantic log-likelihood: -872.5209\n",
      "Epoch 43/100\n",
      "[Epoch 43] Avg semantic log-likelihood: -871.2266\n",
      "Epoch 44/100\n",
      "[Epoch 44] Avg semantic log-likelihood: -870.0437\n",
      "Epoch 45/100\n",
      "[Epoch 45] Avg semantic log-likelihood: -868.8396\n",
      "Epoch 46/100\n",
      "[Epoch 46] Avg semantic log-likelihood: -867.7715\n",
      "Epoch 47/100\n",
      "[Epoch 47] Avg semantic log-likelihood: -866.7372\n",
      "Epoch 48/100\n",
      "[Epoch 48] Avg semantic log-likelihood: -865.6791\n",
      "Epoch 49/100\n",
      "[Epoch 49] Avg semantic log-likelihood: -864.7037\n",
      "Epoch 50/100\n",
      "[Epoch 50] Avg semantic log-likelihood: -863.7545\n",
      "Epoch 51/100\n",
      "[Epoch 51] Avg semantic log-likelihood: -862.8780\n",
      "Epoch 52/100\n",
      "[Epoch 52] Avg semantic log-likelihood: -861.9870\n",
      "Epoch 53/100\n",
      "[Epoch 53] Avg semantic log-likelihood: -861.1392\n",
      "Epoch 54/100\n",
      "[Epoch 54] Avg semantic log-likelihood: -860.3448\n",
      "Epoch 55/100\n",
      "[Epoch 55] Avg semantic log-likelihood: -859.5471\n",
      "Epoch 56/100\n",
      "[Epoch 56] Avg semantic log-likelihood: -858.8123\n",
      "Epoch 57/100\n",
      "[Epoch 57] Avg semantic log-likelihood: -858.0671\n",
      "Epoch 58/100\n",
      "[Epoch 58] Avg semantic log-likelihood: -857.3312\n",
      "Epoch 59/100\n",
      "[Epoch 59] Avg semantic log-likelihood: -856.7045\n",
      "Epoch 60/100\n",
      "[Epoch 60] Avg semantic log-likelihood: -856.0474\n",
      "Epoch 61/100\n",
      "[Epoch 61] Avg semantic log-likelihood: -855.3415\n",
      "Epoch 62/100\n",
      "[Epoch 62] Avg semantic log-likelihood: -854.7115\n",
      "Epoch 63/100\n",
      "[Epoch 63] Avg semantic log-likelihood: -854.1006\n",
      "Epoch 64/100\n",
      "[Epoch 64] Avg semantic log-likelihood: -853.4718\n",
      "Epoch 65/100\n",
      "[Epoch 65] Avg semantic log-likelihood: -852.9119\n",
      "Epoch 66/100\n",
      "[Epoch 66] Avg semantic log-likelihood: -852.3361\n",
      "Epoch 67/100\n",
      "[Epoch 67] Avg semantic log-likelihood: -851.8013\n",
      "Epoch 68/100\n",
      "[Epoch 68] Avg semantic log-likelihood: -851.2409\n",
      "Epoch 69/100\n",
      "[Epoch 69] Avg semantic log-likelihood: -850.7123\n",
      "Epoch 70/100\n",
      "[Epoch 70] Avg semantic log-likelihood: -850.1757\n",
      "Epoch 71/100\n",
      "[Epoch 71] Avg semantic log-likelihood: -849.7225\n",
      "Epoch 72/100\n",
      "[Epoch 72] Avg semantic log-likelihood: -849.2428\n",
      "Epoch 73/100\n",
      "[Epoch 73] Avg semantic log-likelihood: -848.7102\n",
      "Epoch 74/100\n",
      "[Epoch 74] Avg semantic log-likelihood: -848.2250\n",
      "Epoch 75/100\n",
      "[Epoch 75] Avg semantic log-likelihood: -847.8079\n",
      "Epoch 76/100\n",
      "[Epoch 76] Avg semantic log-likelihood: -847.3113\n",
      "Epoch 77/100\n",
      "[Epoch 77] Avg semantic log-likelihood: -846.8944\n",
      "Epoch 78/100\n",
      "[Epoch 78] Avg semantic log-likelihood: -846.4975\n",
      "Epoch 79/100\n",
      "[Epoch 79] Avg semantic log-likelihood: -846.0685\n",
      "Epoch 80/100\n",
      "[Epoch 80] Avg semantic log-likelihood: -845.6040\n",
      "Epoch 81/100\n",
      "[Epoch 81] Avg semantic log-likelihood: -845.2193\n",
      "Epoch 82/100\n",
      "[Epoch 82] Avg semantic log-likelihood: -844.8181\n",
      "Epoch 83/100\n",
      "[Epoch 83] Avg semantic log-likelihood: -844.4488\n",
      "Epoch 84/100\n",
      "[Epoch 84] Avg semantic log-likelihood: -844.0380\n",
      "Epoch 85/100\n",
      "[Epoch 85] Avg semantic log-likelihood: -843.6693\n",
      "Epoch 86/100\n",
      "[Epoch 86] Avg semantic log-likelihood: -843.3171\n",
      "Epoch 87/100\n",
      "[Epoch 87] Avg semantic log-likelihood: -842.9361\n",
      "Epoch 88/100\n",
      "[Epoch 88] Avg semantic log-likelihood: -842.6209\n",
      "Epoch 89/100\n",
      "[Epoch 89] Avg semantic log-likelihood: -842.2393\n",
      "Epoch 90/100\n",
      "[Epoch 90] Avg semantic log-likelihood: -841.9022\n",
      "Epoch 91/100\n",
      "[Epoch 91] Avg semantic log-likelihood: -841.5861\n",
      "Epoch 92/100\n",
      "[Epoch 92] Avg semantic log-likelihood: -841.2334\n",
      "Epoch 93/100\n",
      "[Epoch 93] Avg semantic log-likelihood: -840.9613\n",
      "Epoch 94/100\n",
      "[Epoch 94] Avg semantic log-likelihood: -840.5968\n",
      "Epoch 95/100\n",
      "[Epoch 95] Avg semantic log-likelihood: -840.2770\n",
      "Epoch 96/100\n",
      "[Epoch 96] Avg semantic log-likelihood: -839.9925\n",
      "Epoch 97/100\n",
      "[Epoch 97] Avg semantic log-likelihood: -839.7179\n",
      "Epoch 98/100\n",
      "[Epoch 98] Avg semantic log-likelihood: -839.3861\n",
      "Epoch 99/100\n",
      "[Epoch 99] Avg semantic log-likelihood: -839.1615\n",
      "Epoch 100/100\n",
      "[Epoch 100] Avg semantic log-likelihood: -838.8198\n",
      "Régression logistique entraînée.\n"
     ]
    }
   ],
   "source": [
    "model = ModelWithEarlyStopping(\n",
    "    beta= best[0]['beta'], \n",
    "    lambda_reg = best[0]['lambda_reg'], \n",
    "    nu_reg = best[0]['nu_reg'], \n",
    "    learning_rate = best[0]['learning_rate'],\n",
    "    vocab=vocab\n",
    ")\n",
    "model.fit(df.iloc[:len_train][\"filtered_text\"], df.iloc[:len_train][\"label\"])"
   ]
  },
  {
   "cell_type": "code",
   "execution_count": 29,
   "id": "5781955d",
   "metadata": {},
   "outputs": [],
   "source": [
    "with open('model.pkl', 'wb') as f:\n",
    "    pickle.dump(model, f)"
   ]
  },
  {
   "cell_type": "code",
   "execution_count": 44,
   "id": "a37c7e2a",
   "metadata": {},
   "outputs": [],
   "source": [
    "with open('model.pkl', 'rb') as f:\n",
    "    model = pickle.load(f)"
   ]
  },
  {
   "cell_type": "code",
   "execution_count": 60,
   "id": "2aa5ff55",
   "metadata": {},
   "outputs": [
    {
     "name": "stdout",
     "output_type": "stream",
     "text": [
      "Log-likelihood: -844.5055963099514\n",
      "              precision    recall  f1-score   support\n",
      "\n",
      "         neg       0.62      0.98      0.76     12500\n",
      "         pos       0.95      0.39      0.55     12500\n",
      "\n",
      "    accuracy                           0.68     25000\n",
      "   macro avg       0.78      0.68      0.65     25000\n",
      "weighted avg       0.78      0.68      0.65     25000\n",
      "\n"
     ]
    }
   ],
   "source": [
    "print(\"Log-likelihood:\", model.compute_objective())\n",
    "preds = model.predict(df[\"filtered_text\"].iloc[len_train:])\n",
    "print(classification_report(df[\"label\"].iloc[len_train:], preds, target_names=[\"neg\", \"pos\"]))"
   ]
  },
  {
   "cell_type": "code",
   "execution_count": 100,
   "id": "2665811d",
   "metadata": {},
   "outputs": [
    {
     "name": "stdout",
     "output_type": "stream",
     "text": [
      "Predicted: pos, Actual: pos, Text: LACKAWANNA BLUES is a fine stage play by Ruben Santiago-Hudson and an even finer film as the author ...\n"
     ]
    }
   ],
   "source": [
    "row = df.iloc[random.choice(range(len_train, len_train + len_test))]\n",
    "pred = model.predict([row[\"filtered_text\"]])[0]\n",
    "print(f\"Predicted: {\"pos\" if pred == 1 else \"neg\"}, Actual: {\"pos\" if row['label'] == 1 else \"neg\"}, Text: {row['text'][:100]}...\")"
   ]
  },
  {
   "cell_type": "markdown",
   "id": "1784b6b6",
   "metadata": {},
   "source": [
    "## Entraînement combiné"
   ]
  },
  {
   "cell_type": "code",
   "execution_count": null,
   "id": "23cafd7b",
   "metadata": {},
   "outputs": [],
   "source": [
    "class JointModel:\n",
    "    def __init__(self, lambda_reg=0.1, nu_reg=0.1, learning_rate=0.01, beta=10, alpha_sup=1.0, vocab=None):\n",
    "        self.lambda_reg = lambda_reg\n",
    "        self.nu_reg = nu_reg\n",
    "        self.learning_rate = learning_rate\n",
    "        self.beta = beta\n",
    "        self.alpha_sup = alpha_sup\n",
    "        self.vocab = vocab\n",
    "\n",
    "    def fit(self, texts, y, earlyStop=3, max_epochs=20):\n",
    "        vectorizer = CountVectorizer(vocabulary=list(self.vocab))\n",
    "        X = vectorizer.fit_transform(texts).toarray()\n",
    "        self.vectorizer = vectorizer\n",
    "        n_docs, vocab_size = X.shape\n",
    "\n",
    "        self.R = np.random.normal(0, 0.01, size=(self.beta, vocab_size))\n",
    "        self.b = np.zeros(vocab_size)\n",
    "        self.theta = np.random.normal(0, 0.01, size=(n_docs, self.beta))\n",
    "\n",
    "        self.classifier = LogisticRegression(max_iter=1000)\n",
    "\n",
    "        best_ll = -np.inf\n",
    "        no_improve = 0\n",
    "\n",
    "        for epoch in range(max_epochs):\n",
    "            total_sem_ll = 0.0\n",
    "            supervised_X = []\n",
    "\n",
    "            for k in range(n_docs):\n",
    "                x_k = X[k]\n",
    "                if x_k.sum() == 0: continue\n",
    "\n",
    "                for _ in range(3):  # E-step\n",
    "                    probs = softmax_probs(self.theta[k], self.R, self.b)\n",
    "                    grad_theta = self.R @ (x_k - probs * x_k.sum()) - self.lambda_reg * self.theta[k]\n",
    "                    self.theta[k] += self.learning_rate * grad_theta\n",
    "\n",
    "                log_probs = np.dot(x_k, np.log(probs + 1e-9))\n",
    "                total_sem_ll += log_probs\n",
    "\n",
    "            for k in range(n_docs):  # M-step\n",
    "                x_k = X[k]\n",
    "                if x_k.sum() == 0: continue\n",
    "                probs = softmax_probs(self.theta[k], self.R, self.b)\n",
    "                err = x_k - probs * x_k.sum()\n",
    "                grad_R = np.outer(self.theta[k], err)\n",
    "                grad_b = err\n",
    "\n",
    "                self.R += self.learning_rate * (grad_R - self.nu_reg * self.R)\n",
    "                self.b += self.learning_rate * grad_b\n",
    "\n",
    "            # Partie supervision : entraîne le classifieur sur θ_k\n",
    "            self.classifier.fit(self.theta, y)\n",
    "            preds = self.classifier.predict_proba(self.theta)[:, 1]\n",
    "            logloss = -np.mean(y * np.log(preds + 1e-9) + (1 - y) * np.log(1 - preds + 1e-9))\n",
    "\n",
    "            total_loss = (total_sem_ll / n_docs) - self.lambda_reg * np.sum(self.R**2) - self.nu_reg * np.sum(self.b**2)\n",
    "            joint_objective = total_loss - self.alpha_sup * logloss\n",
    "\n",
    "            print(f\"Epoch {epoch+1}: LL={total_sem_ll:.2f}, Supervised loss={logloss:.4f}, Joint={joint_objective:.2f}\")\n",
    "\n",
    "            if joint_objective > best_ll + 1e-4:\n",
    "                best_ll = joint_objective\n",
    "                self.best_R = self.R.copy()\n",
    "                self.best_b = self.b.copy()\n",
    "                self.best_theta = self.theta.copy()\n",
    "                no_improve = 0\n",
    "            else:\n",
    "                no_improve += 1\n",
    "                if no_improve >= earlyStop:\n",
    "                    print(\"Early stopping.\")\n",
    "                    break\n",
    "\n",
    "        self.R = self.best_R\n",
    "        self.b = self.best_b\n",
    "        self.theta = self.best_theta\n",
    "\n",
    "    def predict(self, texts):\n",
    "        X = self.vectorizer.transform(texts).toarray()\n",
    "        n_docs = X.shape[0]\n",
    "        theta = np.zeros((n_docs, self.beta))\n",
    "\n",
    "        for k in range(n_docs):\n",
    "            x_k = X[k]\n",
    "            if x_k.sum() == 0: continue\n",
    "            theta_k = np.zeros(self.beta)\n",
    "            for _ in range(3):\n",
    "                probs = softmax_probs(theta_k, self.R, self.b)\n",
    "                grad_theta = self.R @ (x_k - probs * x_k.sum()) - self.lambda_reg * theta_k\n",
    "                theta_k += self.learning_rate * grad_theta\n",
    "            theta[k] = theta_k\n",
    "\n",
    "        return self.classifier.predict(theta)"
   ]
  },
  {
   "cell_type": "code",
   "execution_count": 16,
   "id": "176c0ca9",
   "metadata": {},
   "outputs": [],
   "source": [
    "best = ({'beta': 100, 'lambda_reg': 0.0001, 'nu_reg': 0.0001, 'learning_rate': 0.001},\n",
    " np.float64(-949.6247132291654))"
   ]
  },
  {
   "cell_type": "code",
   "execution_count": null,
   "id": "002bba25",
   "metadata": {},
   "outputs": [
    {
     "name": "stdout",
     "output_type": "stream",
     "text": [
      "\n",
      ">>> Entraînement pour alpha_sup = 0.01\n",
      "Epoch 1: LL=-26503847.78, Supervised loss=0.6913, Joint=-1325.43\n",
      "Epoch 2: LL=-19230630.68, Supervised loss=0.6885, Joint=-961.87\n",
      "Epoch 3: LL=-19030452.53, Supervised loss=0.6798, Joint=-951.93\n",
      "Epoch 4: LL=-18950532.42, Supervised loss=0.6670, Joint=-947.99\n",
      "Epoch 5: LL=-18898374.71, Supervised loss=0.6548, Joint=-945.43\n",
      "Epoch 6: LL=-18854056.50, Supervised loss=0.6470, Joint=-943.26\n",
      "Epoch 7: LL=-18806352.79, Supervised loss=0.6404, Joint=-940.91\n",
      "Epoch 8: LL=-18760533.23, Supervised loss=0.6349, Joint=-938.66\n",
      "Epoch 9: LL=-18718114.54, Supervised loss=0.6287, Joint=-936.58\n",
      "Epoch 10: LL=-18678875.41, Supervised loss=0.6215, Joint=-934.65\n",
      "Validation Accuracy for alpha_sup=0.01: 0.6574\n",
      "\n",
      ">>> Entraînement pour alpha_sup = 0.1\n",
      "Epoch 1: LL=-26503905.97, Supervised loss=0.6915, Joint=-1325.49\n",
      "Epoch 2: LL=-19230677.66, Supervised loss=0.6890, Joint=-961.93\n",
      "Epoch 3: LL=-19030733.69, Supervised loss=0.6822, Joint=-952.00\n",
      "Epoch 4: LL=-18951532.44, Supervised loss=0.6671, Joint=-948.10\n",
      "Epoch 5: LL=-18899445.94, Supervised loss=0.6542, Joint=-945.54\n",
      "Epoch 6: LL=-18854810.59, Supervised loss=0.6468, Joint=-943.35\n",
      "Epoch 7: LL=-18806254.91, Supervised loss=0.6406, Joint=-940.96\n",
      "Epoch 8: LL=-18759288.51, Supervised loss=0.6354, Joint=-938.65\n",
      "Epoch 9: LL=-18718350.00, Supervised loss=0.6300, Joint=-936.64\n",
      "Epoch 10: LL=-18677770.74, Supervised loss=0.6236, Joint=-934.65\n",
      "Validation Accuracy for alpha_sup=0.1: 0.6574\n",
      "\n",
      ">>> Entraînement pour alpha_sup = 1.0\n",
      "Epoch 1: LL=-26503845.00, Supervised loss=0.6913, Joint=-1326.11\n",
      "Epoch 2: LL=-19230611.76, Supervised loss=0.6892, Joint=-962.55\n",
      "Epoch 3: LL=-19030284.42, Supervised loss=0.6818, Joint=-952.60\n",
      "Epoch 4: LL=-18950081.56, Supervised loss=0.6695, Joint=-948.63\n",
      "Epoch 5: LL=-18899088.02, Supervised loss=0.6561, Joint=-946.11\n",
      "Epoch 6: LL=-18856767.29, Supervised loss=0.6476, Joint=-944.03\n",
      "Epoch 7: LL=-18808593.08, Supervised loss=0.6396, Joint=-941.66\n",
      "Epoch 8: LL=-18762122.38, Supervised loss=0.6322, Joint=-939.36\n",
      "Epoch 9: LL=-18718355.47, Supervised loss=0.6247, Joint=-937.21\n",
      "Epoch 10: LL=-18676782.74, Supervised loss=0.6170, Joint=-935.16\n",
      "Validation Accuracy for alpha_sup=1.0: 0.6632\n",
      "\n",
      ">>> Entraînement pour alpha_sup = 10.0\n",
      "Epoch 1: LL=-26503905.43, Supervised loss=0.6910, Joint=-1332.33\n",
      "Epoch 2: LL=-19230666.97, Supervised loss=0.6886, Joint=-968.75\n",
      "Epoch 3: LL=-19030596.99, Supervised loss=0.6805, Joint=-958.73\n",
      "Epoch 4: LL=-18951008.28, Supervised loss=0.6678, Joint=-954.68\n",
      "Epoch 5: LL=-18899338.67, Supervised loss=0.6559, Joint=-952.03\n",
      "Epoch 6: LL=-18856022.51, Supervised loss=0.6490, Joint=-949.84\n",
      "Epoch 7: LL=-18808552.70, Supervised loss=0.6428, Joint=-947.44\n",
      "Epoch 8: LL=-18763197.75, Supervised loss=0.6376, Joint=-945.16\n",
      "Epoch 9: LL=-18722369.36, Supervised loss=0.6315, Joint=-943.10\n",
      "Epoch 10: LL=-18681347.48, Supervised loss=0.6248, Joint=-941.01\n",
      "Validation Accuracy for alpha_sup=10.0: 0.6522\n",
      "\n",
      "✅ Meilleur alpha_sup : 1.0 avec une accuracy de validation de 0.6632\n"
     ]
    }
   ],
   "source": [
    "alpha_grid = [0.01, 0.1, 1.0, 10.0]\n",
    "results = []\n",
    "\n",
    "# Split 80/20 pour validation\n",
    "df_train_full = df.iloc[:len_train]\n",
    "X_train_full = df_train_full[\"filtered_text\"].tolist()\n",
    "y_train_full = df_train_full[\"label\"].values\n",
    "\n",
    "X_train_int, X_valid, y_train_int, y_valid = train_test_split(\n",
    "    X_train_full, y_train_full, test_size=0.2, random_state=42\n",
    ")\n",
    "\n",
    "for alpha in alpha_grid:\n",
    "    print(f\"\\n>>> Entraînement pour alpha_sup = {alpha}\")\n",
    "    model = JointModel(\n",
    "        lambda_reg=best[0]['lambda_reg'], \n",
    "        nu_reg=best[0]['nu_reg'], \n",
    "        learning_rate=best[0]['learning_rate'],\n",
    "        beta=best[0]['beta'],\n",
    "        alpha_sup=alpha,\n",
    "        vocab=vocab\n",
    "    )\n",
    "    model.fit(X_train_int, y_train_int, earlyStop=3, max_epochs=10)\n",
    "    y_pred_val = model.predict(X_valid)\n",
    "    acc = accuracy_score(y_valid, y_pred_val)\n",
    "    print(f\"Validation Accuracy for alpha_sup={alpha}: {acc:.4f}\")\n",
    "    results.append((alpha, acc))\n",
    "\n",
    "# Sélection du meilleur alpha_sup\n",
    "best_alpha, best_acc = max(results, key=lambda x: x[1])\n",
    "print(f\"\\n✅ Meilleur alpha_sup : {best_alpha} avec une accuracy de validation de {best_acc:.4f}\")"
   ]
  },
  {
   "cell_type": "markdown",
   "id": "36180377",
   "metadata": {},
   "source": [
    "# Ajout des Bag of Words"
   ]
  },
  {
   "cell_type": "code",
   "execution_count": 20,
   "id": "9c5f4a69",
   "metadata": {},
   "outputs": [
    {
     "data": {
      "text/html": [
       "<style>#sk-container-id-1 {\n",
       "  /* Definition of color scheme common for light and dark mode */\n",
       "  --sklearn-color-text: black;\n",
       "  --sklearn-color-line: gray;\n",
       "  /* Definition of color scheme for unfitted estimators */\n",
       "  --sklearn-color-unfitted-level-0: #fff5e6;\n",
       "  --sklearn-color-unfitted-level-1: #f6e4d2;\n",
       "  --sklearn-color-unfitted-level-2: #ffe0b3;\n",
       "  --sklearn-color-unfitted-level-3: chocolate;\n",
       "  /* Definition of color scheme for fitted estimators */\n",
       "  --sklearn-color-fitted-level-0: #f0f8ff;\n",
       "  --sklearn-color-fitted-level-1: #d4ebff;\n",
       "  --sklearn-color-fitted-level-2: #b3dbfd;\n",
       "  --sklearn-color-fitted-level-3: cornflowerblue;\n",
       "\n",
       "  /* Specific color for light theme */\n",
       "  --sklearn-color-text-on-default-background: var(--sg-text-color, var(--theme-code-foreground, var(--jp-content-font-color1, black)));\n",
       "  --sklearn-color-background: var(--sg-background-color, var(--theme-background, var(--jp-layout-color0, white)));\n",
       "  --sklearn-color-border-box: var(--sg-text-color, var(--theme-code-foreground, var(--jp-content-font-color1, black)));\n",
       "  --sklearn-color-icon: #696969;\n",
       "\n",
       "  @media (prefers-color-scheme: dark) {\n",
       "    /* Redefinition of color scheme for dark theme */\n",
       "    --sklearn-color-text-on-default-background: var(--sg-text-color, var(--theme-code-foreground, var(--jp-content-font-color1, white)));\n",
       "    --sklearn-color-background: var(--sg-background-color, var(--theme-background, var(--jp-layout-color0, #111)));\n",
       "    --sklearn-color-border-box: var(--sg-text-color, var(--theme-code-foreground, var(--jp-content-font-color1, white)));\n",
       "    --sklearn-color-icon: #878787;\n",
       "  }\n",
       "}\n",
       "\n",
       "#sk-container-id-1 {\n",
       "  color: var(--sklearn-color-text);\n",
       "}\n",
       "\n",
       "#sk-container-id-1 pre {\n",
       "  padding: 0;\n",
       "}\n",
       "\n",
       "#sk-container-id-1 input.sk-hidden--visually {\n",
       "  border: 0;\n",
       "  clip: rect(1px 1px 1px 1px);\n",
       "  clip: rect(1px, 1px, 1px, 1px);\n",
       "  height: 1px;\n",
       "  margin: -1px;\n",
       "  overflow: hidden;\n",
       "  padding: 0;\n",
       "  position: absolute;\n",
       "  width: 1px;\n",
       "}\n",
       "\n",
       "#sk-container-id-1 div.sk-dashed-wrapped {\n",
       "  border: 1px dashed var(--sklearn-color-line);\n",
       "  margin: 0 0.4em 0.5em 0.4em;\n",
       "  box-sizing: border-box;\n",
       "  padding-bottom: 0.4em;\n",
       "  background-color: var(--sklearn-color-background);\n",
       "}\n",
       "\n",
       "#sk-container-id-1 div.sk-container {\n",
       "  /* jupyter's `normalize.less` sets `[hidden] { display: none; }`\n",
       "     but bootstrap.min.css set `[hidden] { display: none !important; }`\n",
       "     so we also need the `!important` here to be able to override the\n",
       "     default hidden behavior on the sphinx rendered scikit-learn.org.\n",
       "     See: https://github.com/scikit-learn/scikit-learn/issues/21755 */\n",
       "  display: inline-block !important;\n",
       "  position: relative;\n",
       "}\n",
       "\n",
       "#sk-container-id-1 div.sk-text-repr-fallback {\n",
       "  display: none;\n",
       "}\n",
       "\n",
       "div.sk-parallel-item,\n",
       "div.sk-serial,\n",
       "div.sk-item {\n",
       "  /* draw centered vertical line to link estimators */\n",
       "  background-image: linear-gradient(var(--sklearn-color-text-on-default-background), var(--sklearn-color-text-on-default-background));\n",
       "  background-size: 2px 100%;\n",
       "  background-repeat: no-repeat;\n",
       "  background-position: center center;\n",
       "}\n",
       "\n",
       "/* Parallel-specific style estimator block */\n",
       "\n",
       "#sk-container-id-1 div.sk-parallel-item::after {\n",
       "  content: \"\";\n",
       "  width: 100%;\n",
       "  border-bottom: 2px solid var(--sklearn-color-text-on-default-background);\n",
       "  flex-grow: 1;\n",
       "}\n",
       "\n",
       "#sk-container-id-1 div.sk-parallel {\n",
       "  display: flex;\n",
       "  align-items: stretch;\n",
       "  justify-content: center;\n",
       "  background-color: var(--sklearn-color-background);\n",
       "  position: relative;\n",
       "}\n",
       "\n",
       "#sk-container-id-1 div.sk-parallel-item {\n",
       "  display: flex;\n",
       "  flex-direction: column;\n",
       "}\n",
       "\n",
       "#sk-container-id-1 div.sk-parallel-item:first-child::after {\n",
       "  align-self: flex-end;\n",
       "  width: 50%;\n",
       "}\n",
       "\n",
       "#sk-container-id-1 div.sk-parallel-item:last-child::after {\n",
       "  align-self: flex-start;\n",
       "  width: 50%;\n",
       "}\n",
       "\n",
       "#sk-container-id-1 div.sk-parallel-item:only-child::after {\n",
       "  width: 0;\n",
       "}\n",
       "\n",
       "/* Serial-specific style estimator block */\n",
       "\n",
       "#sk-container-id-1 div.sk-serial {\n",
       "  display: flex;\n",
       "  flex-direction: column;\n",
       "  align-items: center;\n",
       "  background-color: var(--sklearn-color-background);\n",
       "  padding-right: 1em;\n",
       "  padding-left: 1em;\n",
       "}\n",
       "\n",
       "\n",
       "/* Toggleable style: style used for estimator/Pipeline/ColumnTransformer box that is\n",
       "clickable and can be expanded/collapsed.\n",
       "- Pipeline and ColumnTransformer use this feature and define the default style\n",
       "- Estimators will overwrite some part of the style using the `sk-estimator` class\n",
       "*/\n",
       "\n",
       "/* Pipeline and ColumnTransformer style (default) */\n",
       "\n",
       "#sk-container-id-1 div.sk-toggleable {\n",
       "  /* Default theme specific background. It is overwritten whether we have a\n",
       "  specific estimator or a Pipeline/ColumnTransformer */\n",
       "  background-color: var(--sklearn-color-background);\n",
       "}\n",
       "\n",
       "/* Toggleable label */\n",
       "#sk-container-id-1 label.sk-toggleable__label {\n",
       "  cursor: pointer;\n",
       "  display: block;\n",
       "  width: 100%;\n",
       "  margin-bottom: 0;\n",
       "  padding: 0.5em;\n",
       "  box-sizing: border-box;\n",
       "  text-align: center;\n",
       "}\n",
       "\n",
       "#sk-container-id-1 label.sk-toggleable__label-arrow:before {\n",
       "  /* Arrow on the left of the label */\n",
       "  content: \"▸\";\n",
       "  float: left;\n",
       "  margin-right: 0.25em;\n",
       "  color: var(--sklearn-color-icon);\n",
       "}\n",
       "\n",
       "#sk-container-id-1 label.sk-toggleable__label-arrow:hover:before {\n",
       "  color: var(--sklearn-color-text);\n",
       "}\n",
       "\n",
       "/* Toggleable content - dropdown */\n",
       "\n",
       "#sk-container-id-1 div.sk-toggleable__content {\n",
       "  max-height: 0;\n",
       "  max-width: 0;\n",
       "  overflow: hidden;\n",
       "  text-align: left;\n",
       "  /* unfitted */\n",
       "  background-color: var(--sklearn-color-unfitted-level-0);\n",
       "}\n",
       "\n",
       "#sk-container-id-1 div.sk-toggleable__content.fitted {\n",
       "  /* fitted */\n",
       "  background-color: var(--sklearn-color-fitted-level-0);\n",
       "}\n",
       "\n",
       "#sk-container-id-1 div.sk-toggleable__content pre {\n",
       "  margin: 0.2em;\n",
       "  border-radius: 0.25em;\n",
       "  color: var(--sklearn-color-text);\n",
       "  /* unfitted */\n",
       "  background-color: var(--sklearn-color-unfitted-level-0);\n",
       "}\n",
       "\n",
       "#sk-container-id-1 div.sk-toggleable__content.fitted pre {\n",
       "  /* unfitted */\n",
       "  background-color: var(--sklearn-color-fitted-level-0);\n",
       "}\n",
       "\n",
       "#sk-container-id-1 input.sk-toggleable__control:checked~div.sk-toggleable__content {\n",
       "  /* Expand drop-down */\n",
       "  max-height: 200px;\n",
       "  max-width: 100%;\n",
       "  overflow: auto;\n",
       "}\n",
       "\n",
       "#sk-container-id-1 input.sk-toggleable__control:checked~label.sk-toggleable__label-arrow:before {\n",
       "  content: \"▾\";\n",
       "}\n",
       "\n",
       "/* Pipeline/ColumnTransformer-specific style */\n",
       "\n",
       "#sk-container-id-1 div.sk-label input.sk-toggleable__control:checked~label.sk-toggleable__label {\n",
       "  color: var(--sklearn-color-text);\n",
       "  background-color: var(--sklearn-color-unfitted-level-2);\n",
       "}\n",
       "\n",
       "#sk-container-id-1 div.sk-label.fitted input.sk-toggleable__control:checked~label.sk-toggleable__label {\n",
       "  background-color: var(--sklearn-color-fitted-level-2);\n",
       "}\n",
       "\n",
       "/* Estimator-specific style */\n",
       "\n",
       "/* Colorize estimator box */\n",
       "#sk-container-id-1 div.sk-estimator input.sk-toggleable__control:checked~label.sk-toggleable__label {\n",
       "  /* unfitted */\n",
       "  background-color: var(--sklearn-color-unfitted-level-2);\n",
       "}\n",
       "\n",
       "#sk-container-id-1 div.sk-estimator.fitted input.sk-toggleable__control:checked~label.sk-toggleable__label {\n",
       "  /* fitted */\n",
       "  background-color: var(--sklearn-color-fitted-level-2);\n",
       "}\n",
       "\n",
       "#sk-container-id-1 div.sk-label label.sk-toggleable__label,\n",
       "#sk-container-id-1 div.sk-label label {\n",
       "  /* The background is the default theme color */\n",
       "  color: var(--sklearn-color-text-on-default-background);\n",
       "}\n",
       "\n",
       "/* On hover, darken the color of the background */\n",
       "#sk-container-id-1 div.sk-label:hover label.sk-toggleable__label {\n",
       "  color: var(--sklearn-color-text);\n",
       "  background-color: var(--sklearn-color-unfitted-level-2);\n",
       "}\n",
       "\n",
       "/* Label box, darken color on hover, fitted */\n",
       "#sk-container-id-1 div.sk-label.fitted:hover label.sk-toggleable__label.fitted {\n",
       "  color: var(--sklearn-color-text);\n",
       "  background-color: var(--sklearn-color-fitted-level-2);\n",
       "}\n",
       "\n",
       "/* Estimator label */\n",
       "\n",
       "#sk-container-id-1 div.sk-label label {\n",
       "  font-family: monospace;\n",
       "  font-weight: bold;\n",
       "  display: inline-block;\n",
       "  line-height: 1.2em;\n",
       "}\n",
       "\n",
       "#sk-container-id-1 div.sk-label-container {\n",
       "  text-align: center;\n",
       "}\n",
       "\n",
       "/* Estimator-specific */\n",
       "#sk-container-id-1 div.sk-estimator {\n",
       "  font-family: monospace;\n",
       "  border: 1px dotted var(--sklearn-color-border-box);\n",
       "  border-radius: 0.25em;\n",
       "  box-sizing: border-box;\n",
       "  margin-bottom: 0.5em;\n",
       "  /* unfitted */\n",
       "  background-color: var(--sklearn-color-unfitted-level-0);\n",
       "}\n",
       "\n",
       "#sk-container-id-1 div.sk-estimator.fitted {\n",
       "  /* fitted */\n",
       "  background-color: var(--sklearn-color-fitted-level-0);\n",
       "}\n",
       "\n",
       "/* on hover */\n",
       "#sk-container-id-1 div.sk-estimator:hover {\n",
       "  /* unfitted */\n",
       "  background-color: var(--sklearn-color-unfitted-level-2);\n",
       "}\n",
       "\n",
       "#sk-container-id-1 div.sk-estimator.fitted:hover {\n",
       "  /* fitted */\n",
       "  background-color: var(--sklearn-color-fitted-level-2);\n",
       "}\n",
       "\n",
       "/* Specification for estimator info (e.g. \"i\" and \"?\") */\n",
       "\n",
       "/* Common style for \"i\" and \"?\" */\n",
       "\n",
       ".sk-estimator-doc-link,\n",
       "a:link.sk-estimator-doc-link,\n",
       "a:visited.sk-estimator-doc-link {\n",
       "  float: right;\n",
       "  font-size: smaller;\n",
       "  line-height: 1em;\n",
       "  font-family: monospace;\n",
       "  background-color: var(--sklearn-color-background);\n",
       "  border-radius: 1em;\n",
       "  height: 1em;\n",
       "  width: 1em;\n",
       "  text-decoration: none !important;\n",
       "  margin-left: 1ex;\n",
       "  /* unfitted */\n",
       "  border: var(--sklearn-color-unfitted-level-1) 1pt solid;\n",
       "  color: var(--sklearn-color-unfitted-level-1);\n",
       "}\n",
       "\n",
       ".sk-estimator-doc-link.fitted,\n",
       "a:link.sk-estimator-doc-link.fitted,\n",
       "a:visited.sk-estimator-doc-link.fitted {\n",
       "  /* fitted */\n",
       "  border: var(--sklearn-color-fitted-level-1) 1pt solid;\n",
       "  color: var(--sklearn-color-fitted-level-1);\n",
       "}\n",
       "\n",
       "/* On hover */\n",
       "div.sk-estimator:hover .sk-estimator-doc-link:hover,\n",
       ".sk-estimator-doc-link:hover,\n",
       "div.sk-label-container:hover .sk-estimator-doc-link:hover,\n",
       ".sk-estimator-doc-link:hover {\n",
       "  /* unfitted */\n",
       "  background-color: var(--sklearn-color-unfitted-level-3);\n",
       "  color: var(--sklearn-color-background);\n",
       "  text-decoration: none;\n",
       "}\n",
       "\n",
       "div.sk-estimator.fitted:hover .sk-estimator-doc-link.fitted:hover,\n",
       ".sk-estimator-doc-link.fitted:hover,\n",
       "div.sk-label-container:hover .sk-estimator-doc-link.fitted:hover,\n",
       ".sk-estimator-doc-link.fitted:hover {\n",
       "  /* fitted */\n",
       "  background-color: var(--sklearn-color-fitted-level-3);\n",
       "  color: var(--sklearn-color-background);\n",
       "  text-decoration: none;\n",
       "}\n",
       "\n",
       "/* Span, style for the box shown on hovering the info icon */\n",
       ".sk-estimator-doc-link span {\n",
       "  display: none;\n",
       "  z-index: 9999;\n",
       "  position: relative;\n",
       "  font-weight: normal;\n",
       "  right: .2ex;\n",
       "  padding: .5ex;\n",
       "  margin: .5ex;\n",
       "  width: min-content;\n",
       "  min-width: 20ex;\n",
       "  max-width: 50ex;\n",
       "  color: var(--sklearn-color-text);\n",
       "  box-shadow: 2pt 2pt 4pt #999;\n",
       "  /* unfitted */\n",
       "  background: var(--sklearn-color-unfitted-level-0);\n",
       "  border: .5pt solid var(--sklearn-color-unfitted-level-3);\n",
       "}\n",
       "\n",
       ".sk-estimator-doc-link.fitted span {\n",
       "  /* fitted */\n",
       "  background: var(--sklearn-color-fitted-level-0);\n",
       "  border: var(--sklearn-color-fitted-level-3);\n",
       "}\n",
       "\n",
       ".sk-estimator-doc-link:hover span {\n",
       "  display: block;\n",
       "}\n",
       "\n",
       "/* \"?\"-specific style due to the `<a>` HTML tag */\n",
       "\n",
       "#sk-container-id-1 a.estimator_doc_link {\n",
       "  float: right;\n",
       "  font-size: 1rem;\n",
       "  line-height: 1em;\n",
       "  font-family: monospace;\n",
       "  background-color: var(--sklearn-color-background);\n",
       "  border-radius: 1rem;\n",
       "  height: 1rem;\n",
       "  width: 1rem;\n",
       "  text-decoration: none;\n",
       "  /* unfitted */\n",
       "  color: var(--sklearn-color-unfitted-level-1);\n",
       "  border: var(--sklearn-color-unfitted-level-1) 1pt solid;\n",
       "}\n",
       "\n",
       "#sk-container-id-1 a.estimator_doc_link.fitted {\n",
       "  /* fitted */\n",
       "  border: var(--sklearn-color-fitted-level-1) 1pt solid;\n",
       "  color: var(--sklearn-color-fitted-level-1);\n",
       "}\n",
       "\n",
       "/* On hover */\n",
       "#sk-container-id-1 a.estimator_doc_link:hover {\n",
       "  /* unfitted */\n",
       "  background-color: var(--sklearn-color-unfitted-level-3);\n",
       "  color: var(--sklearn-color-background);\n",
       "  text-decoration: none;\n",
       "}\n",
       "\n",
       "#sk-container-id-1 a.estimator_doc_link.fitted:hover {\n",
       "  /* fitted */\n",
       "  background-color: var(--sklearn-color-fitted-level-3);\n",
       "}\n",
       "</style><div id=\"sk-container-id-1\" class=\"sk-top-container\"><div class=\"sk-text-repr-fallback\"><pre>LogisticRegression(max_iter=1000)</pre><b>In a Jupyter environment, please rerun this cell to show the HTML representation or trust the notebook. <br />On GitHub, the HTML representation is unable to render, please try loading this page with nbviewer.org.</b></div><div class=\"sk-container\" hidden><div class=\"sk-item\"><div class=\"sk-estimator fitted sk-toggleable\"><input class=\"sk-toggleable__control sk-hidden--visually\" id=\"sk-estimator-id-1\" type=\"checkbox\" checked><label for=\"sk-estimator-id-1\" class=\"sk-toggleable__label fitted sk-toggleable__label-arrow fitted\">&nbsp;&nbsp;LogisticRegression<a class=\"sk-estimator-doc-link fitted\" rel=\"noreferrer\" target=\"_blank\" href=\"https://scikit-learn.org/1.5/modules/generated/sklearn.linear_model.LogisticRegression.html\">?<span>Documentation for LogisticRegression</span></a><span class=\"sk-estimator-doc-link fitted\">i<span>Fitted</span></span></label><div class=\"sk-toggleable__content fitted\"><pre>LogisticRegression(max_iter=1000)</pre></div> </div></div></div></div>"
      ],
      "text/plain": [
       "LogisticRegression(max_iter=1000)"
      ]
     },
     "execution_count": 20,
     "metadata": {},
     "output_type": "execute_result"
    }
   ],
   "source": [
    "X_bow_train = model.vectorizer.transform(X_train_int)  # même vectorizer que theta\n",
    "\n",
    "# Fusion avec theta (θ)\n",
    "X_combined_train = np.hstack([model.theta, X_bow_train.toarray()])\n",
    "\n",
    "clf = LogisticRegression(max_iter=1000)\n",
    "clf.fit(X_combined_train, y_train_int)"
   ]
  },
  {
   "cell_type": "code",
   "execution_count": 23,
   "id": "87330659",
   "metadata": {},
   "outputs": [
    {
     "name": "stdout",
     "output_type": "stream",
     "text": [
      "Accuracy with θ + BoW: 0.8446\n",
      "              precision    recall  f1-score   support\n",
      "\n",
      "           0       0.85      0.84      0.84      2485\n",
      "           1       0.84      0.85      0.85      2515\n",
      "\n",
      "    accuracy                           0.84      5000\n",
      "   macro avg       0.84      0.84      0.84      5000\n",
      "weighted avg       0.84      0.84      0.84      5000\n",
      "\n"
     ]
    }
   ],
   "source": [
    "X_bow_valid = model.vectorizer.transform(X_valid)\n",
    "n_valid = len(X_valid)\n",
    "\n",
    "theta_valid = np.zeros((n_valid, model.beta))\n",
    "for k in range(n_valid):\n",
    "    x_k = X_bow_valid[k].toarray().flatten()\n",
    "    theta_k = np.zeros(model.beta)\n",
    "    for _ in range(3):\n",
    "        probs = softmax_probs(theta_k, model.R, model.b)\n",
    "        grad_theta = model.R @ (x_k - probs * x_k.sum()) - model.lambda_reg * theta_k\n",
    "        theta_k += model.learning_rate * grad_theta\n",
    "    theta_valid[k] = theta_k\n",
    "\n",
    "X_combined_valid = np.hstack([theta_valid, X_bow_valid.toarray()])\n",
    "\n",
    "y_pred = clf.predict(X_combined_valid)\n",
    "print(\"Accuracy with θ + BoW:\", accuracy_score(y_valid, y_pred))\n",
    "print(classification_report(y_valid, y_pred))"
   ]
  },
  {
   "cell_type": "markdown",
   "id": "22b9ac80",
   "metadata": {},
   "source": [
    "### Très bon résultat obtenu, on s'approche des résultats du papier"
   ]
  },
  {
   "cell_type": "markdown",
   "id": "4b9bcc1b",
   "metadata": {},
   "source": [
    "# Test final"
   ]
  },
  {
   "cell_type": "code",
   "execution_count": 24,
   "id": "ebef6dfc",
   "metadata": {},
   "outputs": [
    {
     "name": "stdout",
     "output_type": "stream",
     "text": [
      "Epoch 1: LL=-33111505.69, Supervised loss=0.6916, Joint=-1325.41\n",
      "Epoch 2: LL=-23938654.38, Supervised loss=0.6894, Joint=-958.60\n",
      "Epoch 3: LL=-23731999.54, Supervised loss=0.6813, Joint=-950.40\n",
      "Epoch 4: LL=-23646828.08, Supervised loss=0.6682, Joint=-947.04\n",
      "Epoch 5: LL=-23587557.51, Supervised loss=0.6569, Joint=-944.71\n",
      "Epoch 6: LL=-23530891.89, Supervised loss=0.6493, Joint=-942.49\n",
      "Epoch 7: LL=-23465430.85, Supervised loss=0.6424, Joint=-939.91\n",
      "Epoch 8: LL=-23404003.05, Supervised loss=0.6362, Joint=-937.48\n",
      "Epoch 9: LL=-23348130.08, Supervised loss=0.6295, Joint=-935.29\n",
      "Epoch 10: LL=-23288264.35, Supervised loss=0.6222, Joint=-932.93\n",
      "Epoch 11: LL=-23233655.69, Supervised loss=0.6139, Joint=-930.77\n",
      "Epoch 12: LL=-23181014.92, Supervised loss=0.6049, Joint=-928.70\n",
      "Epoch 13: LL=-23131287.69, Supervised loss=0.5952, Joint=-926.75\n",
      "Epoch 14: LL=-23081366.24, Supervised loss=0.5841, Joint=-924.78\n",
      "Epoch 15: LL=-23032872.86, Supervised loss=0.5731, Joint=-922.87\n",
      "Epoch 16: LL=-22983915.60, Supervised loss=0.5623, Joint=-920.95\n",
      "Epoch 17: LL=-22933838.47, Supervised loss=0.5522, Joint=-918.98\n",
      "Epoch 18: LL=-22882900.64, Supervised loss=0.5428, Joint=-916.99\n",
      "Epoch 19: LL=-22832152.52, Supervised loss=0.5333, Joint=-915.00\n",
      "Epoch 20: LL=-22780299.52, Supervised loss=0.5249, Joint=-912.97\n"
     ]
    }
   ],
   "source": [
    "X_train_full = df.iloc[:len_train][\"filtered_text\"].tolist()\n",
    "y_train_full = df.iloc[:len_train][\"label\"].values\n",
    "X_test = df.iloc[len_train:][\"filtered_text\"].tolist()\n",
    "y_test = df.iloc[len_train:][\"label\"].values\n",
    "\n",
    "model = JointModel(\n",
    "    lambda_reg=best[0]['lambda_reg'], \n",
    "    nu_reg=best[0]['nu_reg'], \n",
    "    learning_rate=best[0]['learning_rate'],\n",
    "    beta=best[0]['beta'],\n",
    "    alpha_sup=1.0,\n",
    "    vocab=vocab\n",
    ")\n",
    "model.fit(X_train_full, y_train_full, earlyStop=5, max_epochs=20)"
   ]
  },
  {
   "cell_type": "code",
   "execution_count": 25,
   "id": "b05a71c1",
   "metadata": {},
   "outputs": [],
   "source": [
    "X_bow_train = model.vectorizer.transform(X_train_full)\n",
    "X_combined_train = np.hstack([model.theta, X_bow_train.toarray()])"
   ]
  },
  {
   "cell_type": "code",
   "execution_count": 26,
   "id": "ad8f6bda",
   "metadata": {},
   "outputs": [],
   "source": [
    "X_bow_test = model.vectorizer.transform(X_test)\n",
    "n_test = len(X_test)\n",
    "theta_test = np.zeros((n_test, model.beta))\n",
    "\n",
    "for k in range(n_test):\n",
    "    x_k = X_bow_test[k].toarray().flatten()\n",
    "    theta_k = np.zeros(model.beta)\n",
    "    for _ in range(3):\n",
    "        probs = softmax_probs(theta_k, model.R, model.b)\n",
    "        grad_theta = model.R @ (x_k - probs * x_k.sum()) - model.lambda_reg * theta_k\n",
    "        theta_k += model.learning_rate * grad_theta\n",
    "    theta_test[k] = theta_k\n",
    "\n",
    "X_combined_test = np.hstack([theta_test, X_bow_test.toarray()])"
   ]
  },
  {
   "cell_type": "markdown",
   "id": "eedd43a4",
   "metadata": {},
   "source": [
    "#### Régréssion logistique"
   ]
  },
  {
   "cell_type": "code",
   "execution_count": 27,
   "id": "72b3bd82",
   "metadata": {},
   "outputs": [
    {
     "name": "stdout",
     "output_type": "stream",
     "text": [
      "📊 Logistic Regression\n",
      "Accuracy: 0.83784\n",
      "              precision    recall  f1-score   support\n",
      "\n",
      "           0       0.84      0.84      0.84     12500\n",
      "           1       0.84      0.84      0.84     12500\n",
      "\n",
      "    accuracy                           0.84     25000\n",
      "   macro avg       0.84      0.84      0.84     25000\n",
      "weighted avg       0.84      0.84      0.84     25000\n",
      "\n"
     ]
    }
   ],
   "source": [
    "clf_log = LogisticRegression(max_iter=1000)\n",
    "clf_log.fit(X_combined_train, y_train_full)\n",
    "y_pred_log = clf_log.predict(X_combined_test)\n",
    "\n",
    "print(\"📊 Logistic Regression\")\n",
    "print(\"Accuracy:\", accuracy_score(y_test, y_pred_log))\n",
    "print(classification_report(y_test, y_pred_log))"
   ]
  },
  {
   "cell_type": "markdown",
   "id": "29e659c7",
   "metadata": {},
   "source": [
    "#### Linear SVC"
   ]
  },
  {
   "cell_type": "code",
   "execution_count": 28,
   "id": "6f415e4f",
   "metadata": {},
   "outputs": [
    {
     "name": "stdout",
     "output_type": "stream",
     "text": [
      "📊 Linear SVC\n",
      "Accuracy: 0.81552\n",
      "              precision    recall  f1-score   support\n",
      "\n",
      "           0       0.81      0.82      0.82     12500\n",
      "           1       0.82      0.81      0.81     12500\n",
      "\n",
      "    accuracy                           0.82     25000\n",
      "   macro avg       0.82      0.82      0.82     25000\n",
      "weighted avg       0.82      0.82      0.82     25000\n",
      "\n"
     ]
    }
   ],
   "source": [
    "clf_svc = LinearSVC(C=1.0)\n",
    "clf_svc.fit(X_combined_train, y_train_full)\n",
    "y_pred_svc = clf_svc.predict(X_combined_test)\n",
    "\n",
    "print(\"📊 Linear SVC\")\n",
    "print(\"Accuracy:\", accuracy_score(y_test, y_pred_svc))\n",
    "print(classification_report(y_test, y_pred_svc))"
   ]
  }
 ],
 "metadata": {
  "kernelspec": {
   "display_name": "Python 3",
   "language": "python",
   "name": "python3"
  },
  "language_info": {
   "codemirror_mode": {
    "name": "ipython",
    "version": 3
   },
   "file_extension": ".py",
   "mimetype": "text/x-python",
   "name": "python",
   "nbconvert_exporter": "python",
   "pygments_lexer": "ipython3",
   "version": "3.13.3"
  }
 },
 "nbformat": 4,
 "nbformat_minor": 5
}
